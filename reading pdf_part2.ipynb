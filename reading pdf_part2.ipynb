{
 "cells": [
  {
   "cell_type": "code",
   "execution_count": 86,
   "id": "a7e4a6b5-3d06-4c30-b864-0efdc0053522",
   "metadata": {
    "tags": []
   },
   "outputs": [
    {
     "data": {
      "text/plain": [
       "'gs://my-project-0004-346516/matchingengine'"
      ]
     },
     "execution_count": 86,
     "metadata": {},
     "output_type": "execute_result"
    }
   ],
   "source": [
    "# project_id = 'Enter Project ID' \n",
    "# location = 'us' \n",
    "# processor_id = 'Enter Processor ID' \n",
    "processor_version = 'rc' \n",
    "# file_path = \"filepath.pdf\" \n",
    "# mime_type = 'application/pdf'\n",
    "\n",
    "GCP_PROJECT= PROJECT_ID=project_id='my-project-0004-346516'\n",
    "LOCATION = location = \"us\"  # Format is 'us' or 'eu'\n",
    "PROCESSOR_ID = processor_id = \"c66ce4457bf5af37\"  # Create processor in Cloud Console\n",
    "FILE_PATH =file_path =  \"Winnie_the_Pooh_3_Pages.pdf\"\n",
    "# Refer to https://cloud.google.com/document-ai/docs/file-types\n",
    "# for supported file types\n",
    "MIME_TYPE =mime_type = \"application/pdf\"\n",
    "\n",
    "\"gs://my-project-0004-346516/matchingengine\""
   ]
  },
  {
   "cell_type": "code",
   "execution_count": 39,
   "id": "55b09cee-b365-454c-9a69-567360d325d1",
   "metadata": {
    "tags": []
   },
   "outputs": [
    {
     "name": "stdout",
     "output_type": "stream",
     "text": [
      "Note: you may need to restart the kernel to use updated packages.\n"
     ]
    }
   ],
   "source": [
    "%pip install --upgrade --quiet  langchain-google-genai\n",
    "\n"
   ]
  },
  {
   "cell_type": "code",
   "execution_count": 40,
   "id": "f1e83714-96f0-44ff-b98e-3d5cc9288fa2",
   "metadata": {
    "tags": []
   },
   "outputs": [],
   "source": [
    "def online_process(\n",
    "    project_id: str,\n",
    "    location: str,\n",
    "    processor_id: str,\n",
    "    file_path: str,\n",
    "    mime_type: str,\n",
    ") -> documentai.Document:\n",
    "    \"\"\"\n",
    "    A function to process a document online using Google Document AI.\n",
    "    \"\"\"\n",
    "\n",
    "    # Define an options dictionary, which includes the API's URL. This is used to connect to Google's Document AI service\n",
    "    opts = {\"api_endpoint\": f\"{location}-documentai.googleapis.com\"}\n",
    "\n",
    "    # Create a Document AI client, think of it as our bridge for communicating with Google's services\n",
    "    documentai_client = documentai.DocumentProcessorServiceClient(client_options=opts)\n",
    "\n",
    "    # Generate the complete name of the processor\n",
    "    # You need to first create a processor in the Google Cloud console\n",
    "    resource_name = documentai_client.processor_path(project_id, location, processor_id)\n",
    "\n",
    "    # Read in the document you want to analyze (like an image or PDF), and store it in the variable image_content\n",
    "    with open(file_path, \"rb\") as image:\n",
    "        image_content = image.read()\n",
    "\n",
    "        # Convert the read document into a format that Google Document AI can understand, i.e., a RawDocument object\n",
    "        raw_document = documentai.RawDocument(\n",
    "            content=image_content, mime_type=mime_type\n",
    "        )\n",
    "        # Create a request, which includes the name of the processor and the document we want to analyze\n",
    "        request = documentai.ProcessRequest(\n",
    "            name=resource_name, raw_document=raw_document\n",
    "        )\n",
    "        # Send our request and receive the analysis results\n",
    "        result = documentai_client.process_document(request=request)\n",
    "        \n",
    "        print(\"Document processing complete.\")\n",
    "        # print(f\"Text: {document_object.text}\")\n",
    "        \n",
    "        # Return this analysis result\n",
    "        return result.document\n",
    "    \n",
    "    \n",
    "\n",
    "# Load Binary Data into Document AI RawDocument Object\n",
    "# raw_document = documentai.RawDocument(content=image_content, mime_type=MIME_TYPE)\n",
    "\n",
    "# Configure the process request\n",
    "# request = documentai.ProcessRequest(name=RESOURCE_NAME, raw_document=raw_document)\n",
    "\n",
    "# # Use the Document AI client to process the sample form\n",
    "# result = docai_client.process_document(request=request)\n",
    "\n",
    "# document_object = result.document\n",
    "# print(\"Document processing complete.\")\n",
    "# print(f\"Text: {document_object.text}\")\n",
    "\n",
    "# page_text =document_object.text"
   ]
  },
  {
   "cell_type": "code",
   "execution_count": 41,
   "id": "e3a35f99-13bc-4e81-b6ad-a392723f99ab",
   "metadata": {
    "tags": []
   },
   "outputs": [],
   "source": [
    "def trim_text(text: str): \n",
    "    \"\"\" Removes spaces and newline characters. \"\"\" \n",
    "    return text.strip().replace(\"\\n\", \" \")"
   ]
  },
  {
   "cell_type": "markdown",
   "id": "8318f356-7263-4dd4-b8b4-0018f49965a8",
   "metadata": {},
   "source": [
    "### https://cloud.google.com/document-ai/docs/handle-response"
   ]
  },
  {
   "cell_type": "code",
   "execution_count": 42,
   "id": "72bf0f91-e6c9-4147-848c-50233ba510ca",
   "metadata": {
    "tags": []
   },
   "outputs": [],
   "source": [
    "from typing import Optional, Sequence\n",
    "\n",
    "from google.api_core.client_options import ClientOptions\n",
    "from google.cloud import documentai\n",
    "\n",
    "def print_page_dimensions(dimension: documentai.Document.Page.Dimension) -> None:\n",
    "    print(f\"    Width: {str(dimension.width)}\")\n",
    "    print(f\"    Height: {str(dimension.height)}\")\n",
    "\n",
    "\n",
    "def print_detected_langauges(\n",
    "    detected_languages: Sequence[documentai.Document.Page.DetectedLanguage],\n",
    ") -> None:\n",
    "    print(\"    Detected languages:\")\n",
    "    for lang in detected_languages:\n",
    "        print(f\"        {lang.language_code} ({lang.confidence:.1%} confidence)\")\n",
    "\n",
    "\n",
    "def print_blocks(blocks: Sequence[documentai.Document.Page.Block], text: str) -> None:\n",
    "    print(f\"    {len(blocks)} blocks detected:\")\n",
    "    first_block_text = layout_to_text(blocks[0].layout, text)\n",
    "    print(f\"        First text block: {repr(first_block_text)}\")\n",
    "    last_block_text = layout_to_text(blocks[-1].layout, text)\n",
    "    print(f\"        Last text block: {repr(last_block_text)}\")\n",
    "\n",
    "\n",
    "def print_paragraphs(\n",
    "    paragraphs: Sequence[documentai.Document.Page.Paragraph], text: str\n",
    ") -> None:\n",
    "    print(f\"    {len(paragraphs)} paragraphs detected:\")\n",
    "    first_paragraph_text = layout_to_text(paragraphs[0].layout, text)\n",
    "    print(f\"        First paragraph text: {repr(first_paragraph_text)}\")\n",
    "\n",
    "    last_paragraph_text = layout_to_text(paragraphs[-1].layout, text)\n",
    "    print(f\"        Last paragraph text: {repr(last_paragraph_text)}\")\n",
    "\n",
    "\n",
    "def print_lines(lines: Sequence[documentai.Document.Page.Line], text: str) -> None:\n",
    "    print(f\"    {len(lines)} lines detected:\")\n",
    "    first_line_text = layout_to_text(lines[0].layout, text)\n",
    "    print(f\"        First line text: {repr(first_line_text)}\")\n",
    "    last_line_text = layout_to_text(lines[-1].layout, text)\n",
    "    print(f\"        Last line text: {repr(last_line_text)}\")\n",
    "\n",
    "\n",
    "def print_tokens(tokens: Sequence[documentai.Document.Page.Token], text: str) -> None:\n",
    "    print(f\"    {len(tokens)} tokens detected:\")\n",
    "    first_token_text = layout_to_text(tokens[0].layout, text)\n",
    "    first_token_break_type = tokens[0].detected_break.type_.name\n",
    "    print(f\"        First token text: {repr(first_token_text)}\")\n",
    "    print(f\"        First token break type: {repr(first_token_break_type)}\")\n",
    "    if tokens[0].style_info:\n",
    "        print_style_info(tokens[0].style_info)\n",
    "\n",
    "    last_token_text = layout_to_text(tokens[-1].layout, text)\n",
    "    last_token_break_type = tokens[-1].detected_break.type_.name\n",
    "    print(f\"        Last token text: {repr(last_token_text)}\")\n",
    "    print(f\"        Last token break type: {repr(last_token_break_type)}\")\n",
    "    if tokens[-1].style_info:\n",
    "        print_style_info(tokens[-1].style_info)\n",
    "\n",
    "\n",
    "def print_symbols(\n",
    "    symbols: Sequence[documentai.Document.Page.Symbol], text: str\n",
    ") -> None:\n",
    "    print(f\"    {len(symbols)} symbols detected:\")\n",
    "    first_symbol_text = layout_to_text(symbols[0].layout, text)\n",
    "    print(f\"        First symbol text: {repr(first_symbol_text)}\")\n",
    "    last_symbol_text = layout_to_text(symbols[-1].layout, text)\n",
    "    print(f\"        Last symbol text: {repr(last_symbol_text)}\")\n",
    "\n",
    "\n",
    "def print_image_quality_scores(\n",
    "    image_quality_scores: documentai.Document.Page.ImageQualityScores,\n",
    ") -> None:\n",
    "    print(f\"    Quality score: {image_quality_scores.quality_score:.1%}\")\n",
    "    print(\"    Detected defects:\")\n",
    "\n",
    "    for detected_defect in image_quality_scores.detected_defects:\n",
    "        print(f\"        {detected_defect.type_}: {detected_defect.confidence:.1%}\")\n",
    "\n",
    "\n",
    "def print_style_info(style_info: documentai.Document.Page.Token.StyleInfo) -> None:\n",
    "    \"\"\"\n",
    "    Only supported in version `pretrained-ocr-v2.0-2023-06-02`\n",
    "    \"\"\"\n",
    "    print(f\"           Font Size: {style_info.font_size}pt\")\n",
    "    print(f\"           Font Type: {style_info.font_type}\")\n",
    "    print(f\"           Bold: {style_info.bold}\")\n",
    "    print(f\"           Italic: {style_info.italic}\")\n",
    "    print(f\"           Underlined: {style_info.underlined}\")\n",
    "    print(f\"           Handwritten: {style_info.handwritten}\")\n",
    "    print(\n",
    "        f\"           Text Color (RGBa): {style_info.text_color.red}, {style_info.text_color.green}, {style_info.text_color.blue}, {style_info.text_color.alpha}\"\n",
    "    )\n",
    "\n",
    "\n",
    "def print_visual_elements(\n",
    "    visual_elements: Sequence[documentai.Document.Page.VisualElement], text: str\n",
    ") -> None:\n",
    "    \"\"\"\n",
    "    Only supported in version `pretrained-ocr-v2.0-2023-06-02`\n",
    "    \"\"\"\n",
    "    checkboxes = [x for x in visual_elements if \"checkbox\" in x.type]\n",
    "    math_symbols = [x for x in visual_elements if x.type == \"math_formula\"]\n",
    "\n",
    "    if checkboxes:\n",
    "        print(f\"    {len(checkboxes)} checkboxes detected:\")\n",
    "        print(f\"        First checkbox: {repr(checkboxes[0].type)}\")\n",
    "        print(f\"        Last checkbox: {repr(checkboxes[-1].type)}\")\n",
    "\n",
    "    if math_symbols:\n",
    "        print(f\"    {len(math_symbols)} math symbols detected:\")\n",
    "        first_math_symbol_text = layout_to_text(math_symbols[0].layout, text)\n",
    "        print(f\"        First math symbol: {repr(first_math_symbol_text)}\")\n",
    "\n",
    "\n",
    "def process_document(\n",
    "    project_id: str,\n",
    "    location: str,\n",
    "    processor_id: str,\n",
    "    processor_version: str,\n",
    "    file_path: str,\n",
    "    mime_type: str,\n",
    "    process_options: Optional[documentai.ProcessOptions] = None,\n",
    ") -> documentai.Document:\n",
    "    # You must set the `api_endpoint` if you use a location other than \"us\".\n",
    "    client = documentai.DocumentProcessorServiceClient(\n",
    "        client_options=ClientOptions(\n",
    "            api_endpoint=f\"{location}-documentai.googleapis.com\"\n",
    "        )\n",
    "    )\n",
    "\n",
    "    # The full resource name of the processor version, e.g.:\n",
    "    # `projects/{project_id}/locations/{location}/processors/{processor_id}/processorVersions/{processor_version_id}`\n",
    "    # You must create a processor before running this sample.\n",
    "    name = client.processor_version_path(\n",
    "        project_id, location, processor_id, processor_version\n",
    "    )\n",
    "\n",
    "    # Read the file into memory\n",
    "    with open(file_path, \"rb\") as image:\n",
    "        image_content = image.read()\n",
    "\n",
    "    # Configure the process request\n",
    "    request = documentai.ProcessRequest(\n",
    "        name=name,\n",
    "        raw_document=documentai.RawDocument(content=image_content, mime_type=mime_type),\n",
    "        # Only supported for Document OCR processor\n",
    "        process_options=process_options,\n",
    "    )\n",
    "\n",
    "    result = client.process_document(request=request)\n",
    "\n",
    "    # For a full list of `Document` object attributes, reference this page:\n",
    "    # https://cloud.google.com/document-ai/docs/reference/rest/v1/Document\n",
    "    return result.document\n",
    "\n",
    "\n",
    "def layout_to_text(layout: documentai.Document.Page.Layout, text: str) -> str:\n",
    "    \"\"\"\n",
    "    Document AI identifies text in different parts of the document by their\n",
    "    offsets in the entirety of the document\"s text. This function converts\n",
    "    offsets to a string.\n",
    "    \"\"\"\n",
    "    # If a text segment spans several lines, it will\n",
    "    # be stored in different text segments.\n",
    "    return \"\".join(\n",
    "        text[int(segment.start_index) : int(segment.end_index)]\n",
    "        for segment in layout.text_anchor.text_segments\n",
    "    )\n"
   ]
  },
  {
   "cell_type": "code",
   "execution_count": 43,
   "id": "7a4d7b6d-7da1-4187-a284-730de5e9ef6f",
   "metadata": {
    "scrolled": true,
    "tags": []
   },
   "outputs": [
    {
     "name": "stderr",
     "output_type": "stream",
     "text": [
      "IOPub data rate exceeded.\n",
      "The Jupyter server will temporarily stop sending output\n",
      "to the client in order to avoid crashing it.\n",
      "To change this limit, set the config variable\n",
      "`--ServerApp.iopub_data_rate_limit`.\n",
      "\n",
      "Current values:\n",
      "ServerApp.iopub_data_rate_limit=1000000.0 (bytes/sec)\n",
      "ServerApp.rate_limit_window=3.0 (secs)\n",
      "\n"
     ]
    }
   ],
   "source": [
    "document = online_process(\n",
    "    project_id=project_id,\n",
    "    location=location,\n",
    "    processor_id=processor_id,\n",
    "    file_path=file_path,\n",
    "    mime_type=mime_type,\n",
    ")\n",
    "\n",
    "names = []\n",
    "name_confidence = []\n",
    "values = []\n",
    "value_confidence = []\n",
    "\n",
    "for page in document.pages:\n",
    "    print(page)\n",
    "    # for field in page.form_fields:\n",
    "    #     names.append(trim_text(field.field_name.text_anchor.content))\n",
    "    #     name_confidence.append(field.field_name.confidence)\n",
    "    #     values.append(trim_text(field.field_value.text_anchor.content))\n",
    "    #     value_confidence.append(field.field_value.confidence)\n",
    "\n",
    "# df = pd.DataFrame(\n",
    "#     {\n",
    "#         \"Field Name\": names,\n",
    "#         \"Field Name Confidence\": name_confidence,\n",
    "#         \"Field Value\": values,\n",
    "#         \"Field Value Confidence\": value_confidence,\n",
    "#     }\n",
    "# )"
   ]
  },
  {
   "cell_type": "code",
   "execution_count": 44,
   "id": "f49ce0fb-048d-43a1-9576-4397d7904ef0",
   "metadata": {
    "tags": []
   },
   "outputs": [
    {
     "name": "stdout",
     "output_type": "stream",
     "text": [
      "all text IN WHICH We Are Introduced to\n",
      "CHAPTER I\n",
      "Winnie-the-Pooh and Some\n",
      "Bees, and the Stories Begin\n",
      "HERE is Edward Bear, coming\n",
      "downstairs now, bump, bump, bump, on the back\n",
      "of his head, behind Christopher Robin. It is, as far\n",
      "as he knows, the only way of coming downstairs,\n",
      "but sometimes he feels that there really is another\n",
      "way, if only he could stop bumping for a moment\n",
      "and think of it. And then he feels that perhaps there\n",
      "isn't. Anyhow, here he is at the bottom, and ready\n",
      "to be introduced to you. Winnie-the-Pooh.\n",
      "When I first heard his name, I said, just as you\n",
      "are going to say, \"But I thought he was a boy?\"\n",
      "\"So did I,\" said Christopher Robin.\n",
      "\"Then you can't call him Winnie?\"\n",
      "\"I don't.\"\n",
      "\"But you said--\"\n",
      "\"He's Winnie-ther-Pooh. Don't you know what\n",
      "'ther' means?”\n",
      "I\n",
      "Digitized by\n",
      "Google\n",
      "WINNIE-THE-POOH\n",
      "“Ah, yes, now I do,\" I said quickly; and I hope\n",
      "you do too, because it is all the explanation you are\n",
      "going to get.\n",
      "Sometimes Winnie-the-Pooh likes a game of some\n",
      "sort when he comes downstairs, and sometimes he\n",
      "likes to sit quietly in front of the fire and listen to a\n",
      "story. This evening-\n",
      "\"What about a story?\" said Christopher Robin.\n",
      "\"What about a story?\" I said.\n",
      "\"Could you very sweetly tell Winnie-the-Pooh\n",
      "one?\"\n",
      "\"I suppose I could,\" I said. \"What sort of stories\n",
      "does he like?\"\n",
      "\"About himself. Because he's that sort of Bear.\"\n",
      "\"Oh, I see.\"\n",
      "\"So could you very sweetly?\"\n",
      "\"I'll try,\" I said.\n",
      "So I tried,\n",
      "Once upon a time, a very long time ago now,\n",
      "about last Friday, Winnie-the-Pooh lived in a forest\n",
      "all by himself under the name of Sande.s.\n",
      "(\"What does 'under the name' mean?\" asked\n",
      "Christopher Robin.\n",
      "\"It means he had the name over the door in gold\n",
      "letters, and lived under it.”\n",
      "Digitized by\n",
      "Google\n",
      "WE ARE INTRODUCED\n",
      "AP SANDER\n",
      "RNIG\n",
      "ALSO\n",
      "\"Winnie-the-Pooh wasn't quite sure,\" said Chris-\n",
      "topher Robin.\n",
      "\"Now I am,\" said a growly voice.\n",
      "\"Then I will go on,\" said I.)\n",
      "3\n",
      "One day when he was out walking, he came to\n",
      "an open place in the middle of the forest, and in the\n",
      "middle of this place was a large oak-tree, and, from\n",
      "the top of the tree, there came a loud buzzing-noise.\n",
      "Winnie-the-Pooh sat down at the foot of the tree,\n",
      "put his head between his paws and began to think.\n",
      "Digitized by\n",
      "Google\n",
      "\n"
     ]
    }
   ],
   "source": [
    "print(\"all text\", document.text)"
   ]
  },
  {
   "cell_type": "code",
   "execution_count": 45,
   "id": "7c5da79e-1fc3-410f-989d-f6513f3ccc6f",
   "metadata": {
    "scrolled": true,
    "tags": []
   },
   "outputs": [
    {
     "name": "stdout",
     "output_type": "stream",
     "text": [
      "Page 1:\n",
      "    Width: 1589.0\n",
      "    Height: 2515.0\n",
      "    Detected languages:\n",
      "        en (98.0% confidence)\n"
     ]
    },
    {
     "ename": "NameError",
     "evalue": "name 'text' is not defined",
     "output_type": "error",
     "traceback": [
      "\u001b[0;31m---------------------------------------------------------------------------\u001b[0m",
      "\u001b[0;31mNameError\u001b[0m                                 Traceback (most recent call last)",
      "Cell \u001b[0;32mIn[45], line 6\u001b[0m\n\u001b[1;32m      3\u001b[0m print_page_dimensions(page\u001b[38;5;241m.\u001b[39mdimension)\n\u001b[1;32m      4\u001b[0m print_detected_langauges(page\u001b[38;5;241m.\u001b[39mdetected_languages)\n\u001b[0;32m----> 6\u001b[0m print_blocks(page\u001b[38;5;241m.\u001b[39mblocks, \u001b[43mtext\u001b[49m)\n\u001b[1;32m      7\u001b[0m print_paragraphs(page\u001b[38;5;241m.\u001b[39mparagraphs, text)\n\u001b[1;32m      8\u001b[0m print_lines(page\u001b[38;5;241m.\u001b[39mlines, text)\n",
      "\u001b[0;31mNameError\u001b[0m: name 'text' is not defined"
     ]
    }
   ],
   "source": [
    "# for page in document.pages:\n",
    "#     print(f\"Page {page.page_number}:\")\n",
    "#     print_page_dimensions(page.dimension)\n",
    "#     print_detected_langauges(page.detected_languages)\n",
    "\n",
    "#     print_blocks(page.blocks, text)\n",
    "#     print_paragraphs(page.paragraphs, text)\n",
    "#     print_lines(page.lines, text)\n",
    "#     print_tokens(page.tokens, text)\n",
    "    \n",
    "#     print(page.paragraphs.reverse)\n",
    "    \n",
    "# #     if page.symbols:\n",
    "# #         print_symbols(page.symbols, text)\n",
    "\n",
    "# #     if page.image_quality_scores:\n",
    "# #         print_image_quality_scores(page.image_quality_scores)\n",
    "\n",
    "# #     if page.visual_elements:\n",
    "# #         print_visual_elements(page.visual_elements, text)"
   ]
  },
  {
   "cell_type": "markdown",
   "id": "7431439e-c759-4ab9-8bb1-7b3085e39e5c",
   "metadata": {},
   "source": [
    "## Using langchain for Doc AI on GCP"
   ]
  },
  {
   "cell_type": "code",
   "execution_count": 46,
   "id": "5e0ce597-fdf4-4a7b-8c3b-fa94b2468ace",
   "metadata": {
    "tags": []
   },
   "outputs": [
    {
     "name": "stdout",
     "output_type": "stream",
     "text": [
      "Note: you may need to restart the kernel to use updated packages.\n",
      "Note: you may need to restart the kernel to use updated packages.\n"
     ]
    }
   ],
   "source": [
    "%pip install --upgrade --quiet  google-cloud-documentai\n",
    "%pip install --upgrade --quiet  google-cloud-documentai-toolbox"
   ]
  },
  {
   "cell_type": "code",
   "execution_count": 47,
   "id": "2391bd4e-08bc-458e-9bb4-169782168787",
   "metadata": {
    "tags": []
   },
   "outputs": [],
   "source": [
    "# GCS_OUTPUT_PATH = \"gs://BUCKET_NAME/FOLDER_PATH\"\n",
    "\n",
    "GCS_OUTPUT_PATH= BUCKET_URI#\"gs://tianhaoz-test/saurabh\"\n",
    "\n",
    "# PROCESSOR_NAME = \"projects/cloud-llm-preview1/locations/us-central1/processors/96c7b8734e4ddaba\"\n",
    "\n",
    "# PROCESSOR_NAME = 'projects/PROJECT_ID/locations/us/processors/PROCESSOR_ID'\n",
    "\n",
    "PROCESSOR_NAME = 'projects/255766800726/locations/us/processors/c66ce4457bf5af37'\n",
    "\n",
    "# endpoint=\"projects/cloud-llm-preview1/locations/us-central1/publishers/google/models/medlm-large\", instances=instances, parameters=parameters, safety_settings=[]\n"
   ]
  },
  {
   "cell_type": "code",
   "execution_count": 48,
   "id": "2e9d02e4-271e-48d4-ac62-bae2afd81014",
   "metadata": {
    "tags": []
   },
   "outputs": [],
   "source": [
    "from langchain_community.document_loaders.blob_loaders import Blob\n",
    "from langchain_community.document_loaders.parsers import DocAIParser"
   ]
  },
  {
   "cell_type": "code",
   "execution_count": 49,
   "id": "9199f410-31da-49f5-b2e3-2019d8db7ca8",
   "metadata": {
    "tags": []
   },
   "outputs": [],
   "source": [
    "parser = DocAIParser(\n",
    "    location=\"us\", processor_name=PROCESSOR_NAME, gcs_output_path=GCS_OUTPUT_PATH\n",
    ")"
   ]
  },
  {
   "cell_type": "code",
   "execution_count": 55,
   "id": "827c3373-eb55-4ff5-977d-8bf37b2a1f19",
   "metadata": {
    "tags": []
   },
   "outputs": [
    {
     "name": "stdout",
     "output_type": "stream",
     "text": [
      "Copying file://./Winnie_the_Pooh_3_Pages.pdf [Content-Type=application/pdf]...\n",
      "/ [1 files][531.1 KiB/531.1 KiB]                                                \n",
      "Operation completed over 1 objects/531.1 KiB.                                    \n"
     ]
    }
   ],
   "source": [
    "!gsutil cp ./Winnie_the_Pooh_3_Pages.pdf \"$BUCKET_URI\""
   ]
  },
  {
   "cell_type": "code",
   "execution_count": 52,
   "id": "c0e0b13f-d2c2-44d7-b922-16df07227716",
   "metadata": {
    "tags": []
   },
   "outputs": [
    {
     "data": {
      "text/plain": [
       "'gs://my-project-0004-346516/matchingengine'"
      ]
     },
     "execution_count": 52,
     "metadata": {},
     "output_type": "execute_result"
    }
   ],
   "source": [
    "BUCKET_URI"
   ]
  },
  {
   "cell_type": "code",
   "execution_count": 53,
   "id": "405b0bdb-f79e-4237-811f-2471e47c4341",
   "metadata": {
    "tags": []
   },
   "outputs": [],
   "source": [
    "blob = Blob(\n",
    "    path=\"gs://my-project-0004-346516/matchingengine/Winnie_the_Pooh_3_Pages.pdf\"\n",
    ")"
   ]
  },
  {
   "cell_type": "markdown",
   "id": "adb7cc57-0e1d-4ac2-ab44-c399c78d8031",
   "metadata": {},
   "source": [
    "### This below would take a lot of time (about 2-3 for a small PDF)"
   ]
  },
  {
   "cell_type": "code",
   "execution_count": 56,
   "id": "3d797071-3444-4c4e-96a1-3029cb00b4ef",
   "metadata": {
    "tags": []
   },
   "outputs": [
    {
     "name": "stdout",
     "output_type": "stream",
     "text": [
      "3\n"
     ]
    }
   ],
   "source": [
    "docs = list(parser.lazy_parse(blob))\n",
    "print(len(docs))\n",
    "\n"
   ]
  },
  {
   "cell_type": "code",
   "execution_count": 57,
   "id": "5f3f7bb5-b0ba-48ac-8794-efd5fd1dac0c",
   "metadata": {
    "tags": []
   },
   "outputs": [],
   "source": [
    "page_contents = [doc.page_content for doc in docs]\n"
   ]
  },
  {
   "cell_type": "code",
   "execution_count": 58,
   "id": "2d2c0eec-f9ad-4d7e-a8e0-32971f2253b0",
   "metadata": {
    "tags": []
   },
   "outputs": [
    {
     "data": {
      "text/plain": [
       "['IN WHICH We Are Introduced to\\nCHAPTER I\\nWinnie-the-Pooh and Some\\nBees, and the Stories Begin\\nHERE is Edward Bear, coming\\ndownstairs now, bump, bump, bump, on the back\\nof his head, behind Christopher Robin. It is, as far\\nas he knows, the only way of coming downstairs,\\nbut sometimes he feels that there really is another\\nway, if only he could stop bumping for a moment\\nand think of it. And then he feels that perhaps there\\nisn\\'t. Anyhow, here he is at the bottom, and ready\\nto be introduced to you. Winnie-the-Pooh.\\nWhen I first heard his name, I said, just as you\\nare going to say, \"But I thought he was a boy?\"\\n\"So did I,\" said Christopher Robin.\\n\"Then you can\\'t call him Winnie?\"\\n\"I don\\'t.\"\\n\"But you said--\"\\n\"He\\'s Winnie-ther-Pooh. Don\\'t you know what\\n\\'ther\\' means?”\\nI\\nDigitized by\\nGoogle\\n',\n",
       " 'WINNIE-THE-POOH\\n“Ah, yes, now I do,\" I said quickly; and I hope\\nyou do too, because it is all the explanation you are\\ngoing to get.\\nSometimes Winnie-the-Pooh likes a game of some\\nsort when he comes downstairs, and sometimes he\\nlikes to sit quietly in front of the fire and listen to a\\nstory. This evening-\\n\"What about a story?\" said Christopher Robin.\\n\"What about a story?\" I said.\\n\"Could you very sweetly tell Winnie-the-Pooh\\none?\"\\n\"I suppose I could,\" I said. \"What sort of stories\\ndoes he like?\"\\n\"About himself. Because he\\'s that sort of Bear.\"\\n\"Oh, I see.\"\\n\"So could you very sweetly?\"\\n\"I\\'ll try,\" I said.\\nSo I tried,\\nOnce upon a time, a very long time ago now,\\nabout last Friday, Winnie-the-Pooh lived in a forest\\nall by himself under the name of Sande.s.\\n(\"What does \\'under the name\\' mean?\" asked\\nChristopher Robin.\\n\"It means he had the name over the door in gold\\nletters, and lived under it.”\\nDigitized by\\nGoogle\\n',\n",
       " 'WE ARE INTRODUCED\\nAB SANDER\\nRNIG\\nALSO\\n\"Winnie-the-Pooh wasn\\'t quite sure,\" said Chris-topher Robin.\\n\"Now I am,\" said a growly voice.\\n\"Then I will go on,\" said I.)\\n3\\nOne day when he was out walking, he came to\\nan open place in the middle of the forest, and in the\\nmiddle of this place was a large oak-tree, and, from\\nthe top of the tree, there came a loud buzzing-noise.\\nWinnie-the-Pooh sat down at the foot of the tree,\\nput his head between his paws and began to think.\\nDigitized by\\nGoogle\\n']"
      ]
     },
     "execution_count": 58,
     "metadata": {},
     "output_type": "execute_result"
    }
   ],
   "source": [
    "# docs[0].page_content\n",
    "page_contents"
   ]
  },
  {
   "cell_type": "code",
   "execution_count": 59,
   "id": "d1df1353-5f3b-4b85-9f87-738bf08636b0",
   "metadata": {
    "tags": []
   },
   "outputs": [
    {
     "name": "stdout",
     "output_type": "stream",
     "text": [
      "                                      pagewise_texts  page_id\n",
      "0  IN WHICH We Are Introduced to\\nCHAPTER I\\nWinn...        1\n",
      "1  WINNIE-THE-POOH\\n“Ah, yes, now I do,\" I said q...        2\n",
      "2  WE ARE INTRODUCED\\nAB SANDER\\nRNIG\\nALSO\\n\"Win...        3\n"
     ]
    }
   ],
   "source": [
    "import pandas as pd\n",
    "\n",
    "# Create a DataFrame from the splitted texts\n",
    "df = pd.DataFrame({'pagewise_texts': page_contents})\n",
    "\n",
    "# Add a row number column\n",
    "df['page_id'] = df.index + 1\n",
    "# df['pagewise_texts'] = df['pagewise_texts'].page_content\n",
    "\n",
    "\n",
    "# Print the DataFrame\n",
    "print(df)"
   ]
  },
  {
   "cell_type": "code",
   "execution_count": 60,
   "id": "85a7d71d-37eb-476c-93d3-f4e6c9d3f8a9",
   "metadata": {
    "tags": []
   },
   "outputs": [],
   "source": [
    "from langchain.text_splitter import RecursiveCharacterTextSplitter\n",
    "\n",
    "chunk_size=100\n",
    "chunk_overlap=20\n",
    "\n",
    "text_splitter = RecursiveCharacterTextSplitter(\n",
    "    # Set a really small chunk size, just to show.\n",
    "    chunk_size=chunk_size,\n",
    "    chunk_overlap=chunk_overlap,\n",
    "    separators= [\"/,\", \"##\", \">\", \"We\"],#'\\n\\n', '\\n'],\n",
    "    length_function=len,\n",
    "    is_separator_regex=False,\n",
    ")\n",
    "\n",
    "# splitted_texts = text_splitter.create_documents([page_text])\n",
    "# print(\"one \\n\",splitted_texts[0])\n",
    "# print(\"two \\n\",splitted_texts[1])\n",
    "\n",
    "def split_text_chunks(text, chunk_size):\n",
    "    return [text[i:i+chunk_size] for i in range(0, len(text), chunk_size)]\n"
   ]
  },
  {
   "cell_type": "code",
   "execution_count": 61,
   "id": "7849def6-3b4f-4730-88f5-62161018200c",
   "metadata": {
    "tags": []
   },
   "outputs": [
    {
     "name": "stdout",
     "output_type": "stream",
     "text": [
      "['IN WHICH', 'We Are Introduced to\\nCHAPTER I\\nWinnie-the-Pooh and Some\\nBees, and the Stories Begin\\nHERE is Edward Bear, coming\\ndownstairs now, bump, bump, bump, on the back\\nof his head, behind Christopher Robin. It is, as far\\nas he knows, the only way of coming downstairs,\\nbut sometimes he feels that there really is another\\nway, if only he could stop bumping for a moment\\nand think of it. And then he feels that perhaps there\\nisn\\'t. Anyhow, here he is at the bottom, and ready\\nto be introduced to you. Winnie-the-Pooh.\\nWhen I first heard his name, I said, just as you\\nare going to say, \"But I thought he was a boy?\"\\n\"So did I,\" said Christopher Robin.\\n\"Then you can\\'t call him Winnie?\"\\n\"I don\\'t.\"\\n\"But you said--\"\\n\"He\\'s Winnie-ther-Pooh. Don\\'t you know what\\n\\'ther\\' means?”\\nI\\nDigitized by\\nGoogle\\n']\n",
      "['WINNIE-THE-POOH\\n“Ah, yes, now I do,\" I said quickly; and I hope\\nyou do too, because it is all the explanation you are\\ngoing to get.\\nSometimes Winnie-the-Pooh likes a game of some\\nsort when he comes downstairs, and sometimes he\\nlikes to sit quietly in front of the fire and listen to a\\nstory. This evening-\\n\"What about a story?\" said Christopher Robin.\\n\"What about a story?\" I said.\\n\"Could you very sweetly tell Winnie-the-Pooh\\none?\"\\n\"I suppose I could,\" I said. \"What sort of stories\\ndoes he like?\"\\n\"About himself. Because he\\'s that sort of Bear.\"\\n\"Oh, I see.\"\\n\"So could you very sweetly?\"\\n\"I\\'ll try,\" I said.\\nSo I tried,\\nOnce upon a time, a very long time ago now,\\nabout last Friday, Winnie-the-Pooh lived in a forest\\nall by himself under the name of Sande.s.\\n(\"What does \\'under the name\\' mean?\" asked\\nChristopher Robin.\\n\"It means he had the name over the door in gold\\nletters, and lived under it.”\\nDigitized by\\nGoogle\\n']\n",
      "['WE ARE INTRODUCED\\nAB SANDER\\nRNIG\\nALSO\\n\"Winnie-the-Pooh wasn\\'t quite sure,\" said Chris-topher Robin.\\n\"Now I am,\" said a growly voice.\\n\"Then I will go on,\" said I.)\\n3\\nOne day when he was out walking, he came to\\nan open place in the middle of the forest, and in the\\nmiddle of this place was a large oak-tree, and, from\\nthe top of the tree, there came a loud buzzing-noise.\\nWinnie-the-Pooh sat down at the foot of the tree,\\nput his head between his paws and began to think.\\nDigitized by\\nGoogle\\n']\n"
     ]
    }
   ],
   "source": [
    "splitted_texts = []\n",
    "\n",
    "for index, row in df.iterrows():\n",
    "    splitted_texts += text_splitter.create_documents(row['pagewise_texts'])\n",
    "    splitted_texts2 = text_splitter.split_text(row['pagewise_texts'])\n",
    "    print(splitted_texts2)\n",
    "\n",
    "    # df['splitted_texts'] = splitted_texts2\n",
    "    \n",
    "    df['splitted_texts'] = df['pagewise_texts'].apply(lambda x: text_splitter.split_text(x))\n"
   ]
  },
  {
   "cell_type": "code",
   "execution_count": 62,
   "id": "b6b25195-3489-4a9b-885d-7e173f2ecd26",
   "metadata": {
    "tags": []
   },
   "outputs": [
    {
     "data": {
      "text/html": [
       "<div>\n",
       "<style scoped>\n",
       "    .dataframe tbody tr th:only-of-type {\n",
       "        vertical-align: middle;\n",
       "    }\n",
       "\n",
       "    .dataframe tbody tr th {\n",
       "        vertical-align: top;\n",
       "    }\n",
       "\n",
       "    .dataframe thead th {\n",
       "        text-align: right;\n",
       "    }\n",
       "</style>\n",
       "<table border=\"1\" class=\"dataframe\">\n",
       "  <thead>\n",
       "    <tr style=\"text-align: right;\">\n",
       "      <th></th>\n",
       "      <th>pagewise_texts</th>\n",
       "      <th>page_id</th>\n",
       "      <th>splitted_texts</th>\n",
       "    </tr>\n",
       "  </thead>\n",
       "  <tbody>\n",
       "    <tr>\n",
       "      <th>0</th>\n",
       "      <td>IN WHICH We Are Introduced to\\nCHAPTER I\\nWinn...</td>\n",
       "      <td>1</td>\n",
       "      <td>[IN WHICH, We Are Introduced to\\nCHAPTER I\\nWi...</td>\n",
       "    </tr>\n",
       "    <tr>\n",
       "      <th>1</th>\n",
       "      <td>WINNIE-THE-POOH\\n“Ah, yes, now I do,\" I said q...</td>\n",
       "      <td>2</td>\n",
       "      <td>[WINNIE-THE-POOH\\n“Ah, yes, now I do,\" I said ...</td>\n",
       "    </tr>\n",
       "    <tr>\n",
       "      <th>2</th>\n",
       "      <td>WE ARE INTRODUCED\\nAB SANDER\\nRNIG\\nALSO\\n\"Win...</td>\n",
       "      <td>3</td>\n",
       "      <td>[WE ARE INTRODUCED\\nAB SANDER\\nRNIG\\nALSO\\n\"Wi...</td>\n",
       "    </tr>\n",
       "  </tbody>\n",
       "</table>\n",
       "</div>"
      ],
      "text/plain": [
       "                                      pagewise_texts  page_id  \\\n",
       "0  IN WHICH We Are Introduced to\\nCHAPTER I\\nWinn...        1   \n",
       "1  WINNIE-THE-POOH\\n“Ah, yes, now I do,\" I said q...        2   \n",
       "2  WE ARE INTRODUCED\\nAB SANDER\\nRNIG\\nALSO\\n\"Win...        3   \n",
       "\n",
       "                                      splitted_texts  \n",
       "0  [IN WHICH, We Are Introduced to\\nCHAPTER I\\nWi...  \n",
       "1  [WINNIE-THE-POOH\\n“Ah, yes, now I do,\" I said ...  \n",
       "2  [WE ARE INTRODUCED\\nAB SANDER\\nRNIG\\nALSO\\n\"Wi...  "
      ]
     },
     "execution_count": 62,
     "metadata": {},
     "output_type": "execute_result"
    }
   ],
   "source": [
    "df.head()"
   ]
  },
  {
   "cell_type": "code",
   "execution_count": 102,
   "id": "a267b04f-d44a-4f9f-96da-0cc56bb36097",
   "metadata": {
    "tags": []
   },
   "outputs": [],
   "source": [
    "df_exploded = df.explode('splitted_texts')\n"
   ]
  },
  {
   "cell_type": "code",
   "execution_count": 103,
   "id": "6a7222b8-6e5d-4246-a307-2beea574e2b4",
   "metadata": {
    "tags": []
   },
   "outputs": [
    {
     "data": {
      "text/html": [
       "<div>\n",
       "<style scoped>\n",
       "    .dataframe tbody tr th:only-of-type {\n",
       "        vertical-align: middle;\n",
       "    }\n",
       "\n",
       "    .dataframe tbody tr th {\n",
       "        vertical-align: top;\n",
       "    }\n",
       "\n",
       "    .dataframe thead th {\n",
       "        text-align: right;\n",
       "    }\n",
       "</style>\n",
       "<table border=\"1\" class=\"dataframe\">\n",
       "  <thead>\n",
       "    <tr style=\"text-align: right;\">\n",
       "      <th></th>\n",
       "      <th>pagewise_texts</th>\n",
       "      <th>page_id</th>\n",
       "      <th>splitted_texts</th>\n",
       "    </tr>\n",
       "  </thead>\n",
       "  <tbody>\n",
       "    <tr>\n",
       "      <th>0</th>\n",
       "      <td>IN WHICH We Are Introduced to\\nCHAPTER I\\nWinn...</td>\n",
       "      <td>1</td>\n",
       "      <td>IN WHICH</td>\n",
       "    </tr>\n",
       "    <tr>\n",
       "      <th>0</th>\n",
       "      <td>IN WHICH We Are Introduced to\\nCHAPTER I\\nWinn...</td>\n",
       "      <td>1</td>\n",
       "      <td>We Are Introduced to\\nCHAPTER I\\nWinnie-the-Po...</td>\n",
       "    </tr>\n",
       "    <tr>\n",
       "      <th>1</th>\n",
       "      <td>WINNIE-THE-POOH\\n“Ah, yes, now I do,\" I said q...</td>\n",
       "      <td>2</td>\n",
       "      <td>WINNIE-THE-POOH\\n“Ah, yes, now I do,\" I said q...</td>\n",
       "    </tr>\n",
       "    <tr>\n",
       "      <th>2</th>\n",
       "      <td>WE ARE INTRODUCED\\nAB SANDER\\nRNIG\\nALSO\\n\"Win...</td>\n",
       "      <td>3</td>\n",
       "      <td>WE ARE INTRODUCED\\nAB SANDER\\nRNIG\\nALSO\\n\"Win...</td>\n",
       "    </tr>\n",
       "  </tbody>\n",
       "</table>\n",
       "</div>"
      ],
      "text/plain": [
       "                                      pagewise_texts  page_id  \\\n",
       "0  IN WHICH We Are Introduced to\\nCHAPTER I\\nWinn...        1   \n",
       "0  IN WHICH We Are Introduced to\\nCHAPTER I\\nWinn...        1   \n",
       "1  WINNIE-THE-POOH\\n“Ah, yes, now I do,\" I said q...        2   \n",
       "2  WE ARE INTRODUCED\\nAB SANDER\\nRNIG\\nALSO\\n\"Win...        3   \n",
       "\n",
       "                                      splitted_texts  \n",
       "0                                           IN WHICH  \n",
       "0  We Are Introduced to\\nCHAPTER I\\nWinnie-the-Po...  \n",
       "1  WINNIE-THE-POOH\\n“Ah, yes, now I do,\" I said q...  \n",
       "2  WE ARE INTRODUCED\\nAB SANDER\\nRNIG\\nALSO\\n\"Win...  "
      ]
     },
     "execution_count": 103,
     "metadata": {},
     "output_type": "execute_result"
    }
   ],
   "source": [
    "df_exploded.head()"
   ]
  },
  {
   "cell_type": "code",
   "execution_count": 104,
   "id": "a35b6077-7c84-4c44-82ae-a865810cb9b8",
   "metadata": {
    "scrolled": true,
    "tags": []
   },
   "outputs": [
    {
     "data": {
      "text/plain": [
       "1796"
      ]
     },
     "execution_count": 104,
     "metadata": {},
     "output_type": "execute_result"
    }
   ],
   "source": [
    "len(splitted_texts)"
   ]
  },
  {
   "cell_type": "code",
   "execution_count": 105,
   "id": "c4988dab-d7c3-4988-bd27-6359098c8365",
   "metadata": {
    "tags": []
   },
   "outputs": [],
   "source": [
    "df_exploded['splitted_texts_chunks'] = df_exploded['splitted_texts'].apply(lambda x: split_text_chunks(x,chunk_size))\n"
   ]
  },
  {
   "cell_type": "code",
   "execution_count": 106,
   "id": "438ea015-68c8-4b06-bfb5-5eea63e9433d",
   "metadata": {
    "tags": []
   },
   "outputs": [],
   "source": [
    "df_exploded_2 = df_exploded.explode('splitted_texts_chunks')\n"
   ]
  },
  {
   "cell_type": "code",
   "execution_count": 107,
   "id": "5d5ccfa3-6a59-47c5-a5f9-2ddeb44a4603",
   "metadata": {
    "tags": []
   },
   "outputs": [
    {
     "data": {
      "text/html": [
       "<div>\n",
       "<style scoped>\n",
       "    .dataframe tbody tr th:only-of-type {\n",
       "        vertical-align: middle;\n",
       "    }\n",
       "\n",
       "    .dataframe tbody tr th {\n",
       "        vertical-align: top;\n",
       "    }\n",
       "\n",
       "    .dataframe thead th {\n",
       "        text-align: right;\n",
       "    }\n",
       "</style>\n",
       "<table border=\"1\" class=\"dataframe\">\n",
       "  <thead>\n",
       "    <tr style=\"text-align: right;\">\n",
       "      <th></th>\n",
       "      <th>pagewise_texts</th>\n",
       "      <th>page_id</th>\n",
       "      <th>splitted_texts</th>\n",
       "      <th>splitted_texts_chunks</th>\n",
       "    </tr>\n",
       "  </thead>\n",
       "  <tbody>\n",
       "    <tr>\n",
       "      <th>0</th>\n",
       "      <td>IN WHICH We Are Introduced to\\nCHAPTER I\\nWinn...</td>\n",
       "      <td>1</td>\n",
       "      <td>IN WHICH</td>\n",
       "      <td>IN WHICH</td>\n",
       "    </tr>\n",
       "    <tr>\n",
       "      <th>0</th>\n",
       "      <td>IN WHICH We Are Introduced to\\nCHAPTER I\\nWinn...</td>\n",
       "      <td>1</td>\n",
       "      <td>We Are Introduced to\\nCHAPTER I\\nWinnie-the-Po...</td>\n",
       "      <td>We Are Introduced to\\nCHAPTER I\\nWinnie-the-Po...</td>\n",
       "    </tr>\n",
       "    <tr>\n",
       "      <th>0</th>\n",
       "      <td>IN WHICH We Are Introduced to\\nCHAPTER I\\nWinn...</td>\n",
       "      <td>1</td>\n",
       "      <td>We Are Introduced to\\nCHAPTER I\\nWinnie-the-Po...</td>\n",
       "      <td>ear, coming\\ndownstairs now, bump, bump, bump,...</td>\n",
       "    </tr>\n",
       "    <tr>\n",
       "      <th>0</th>\n",
       "      <td>IN WHICH We Are Introduced to\\nCHAPTER I\\nWinn...</td>\n",
       "      <td>1</td>\n",
       "      <td>We Are Introduced to\\nCHAPTER I\\nWinnie-the-Po...</td>\n",
       "      <td>is, as far\\nas he knows, the only way of comin...</td>\n",
       "    </tr>\n",
       "    <tr>\n",
       "      <th>0</th>\n",
       "      <td>IN WHICH We Are Introduced to\\nCHAPTER I\\nWinn...</td>\n",
       "      <td>1</td>\n",
       "      <td>We Are Introduced to\\nCHAPTER I\\nWinnie-the-Po...</td>\n",
       "      <td>is another\\nway, if only he could stop bumping...</td>\n",
       "    </tr>\n",
       "    <tr>\n",
       "      <th>0</th>\n",
       "      <td>IN WHICH We Are Introduced to\\nCHAPTER I\\nWinn...</td>\n",
       "      <td>1</td>\n",
       "      <td>We Are Introduced to\\nCHAPTER I\\nWinnie-the-Po...</td>\n",
       "      <td>erhaps there\\nisn't. Anyhow, here he is at the...</td>\n",
       "    </tr>\n",
       "    <tr>\n",
       "      <th>0</th>\n",
       "      <td>IN WHICH We Are Introduced to\\nCHAPTER I\\nWinn...</td>\n",
       "      <td>1</td>\n",
       "      <td>We Are Introduced to\\nCHAPTER I\\nWinnie-the-Po...</td>\n",
       "      <td>Pooh.\\nWhen I first heard his name, I said, ju...</td>\n",
       "    </tr>\n",
       "    <tr>\n",
       "      <th>0</th>\n",
       "      <td>IN WHICH We Are Introduced to\\nCHAPTER I\\nWinn...</td>\n",
       "      <td>1</td>\n",
       "      <td>We Are Introduced to\\nCHAPTER I\\nWinnie-the-Po...</td>\n",
       "      <td>?\"\\n\"So did I,\" said Christopher Robin.\\n\"Then...</td>\n",
       "    </tr>\n",
       "    <tr>\n",
       "      <th>0</th>\n",
       "      <td>IN WHICH We Are Introduced to\\nCHAPTER I\\nWinn...</td>\n",
       "      <td>1</td>\n",
       "      <td>We Are Introduced to\\nCHAPTER I\\nWinnie-the-Po...</td>\n",
       "      <td>\\n\"He's Winnie-ther-Pooh. Don't you know what\\...</td>\n",
       "    </tr>\n",
       "    <tr>\n",
       "      <th>1</th>\n",
       "      <td>WINNIE-THE-POOH\\n“Ah, yes, now I do,\" I said q...</td>\n",
       "      <td>2</td>\n",
       "      <td>WINNIE-THE-POOH\\n“Ah, yes, now I do,\" I said q...</td>\n",
       "      <td>WINNIE-THE-POOH\\n“Ah, yes, now I do,\" I said q...</td>\n",
       "    </tr>\n",
       "  </tbody>\n",
       "</table>\n",
       "</div>"
      ],
      "text/plain": [
       "                                      pagewise_texts  page_id  \\\n",
       "0  IN WHICH We Are Introduced to\\nCHAPTER I\\nWinn...        1   \n",
       "0  IN WHICH We Are Introduced to\\nCHAPTER I\\nWinn...        1   \n",
       "0  IN WHICH We Are Introduced to\\nCHAPTER I\\nWinn...        1   \n",
       "0  IN WHICH We Are Introduced to\\nCHAPTER I\\nWinn...        1   \n",
       "0  IN WHICH We Are Introduced to\\nCHAPTER I\\nWinn...        1   \n",
       "0  IN WHICH We Are Introduced to\\nCHAPTER I\\nWinn...        1   \n",
       "0  IN WHICH We Are Introduced to\\nCHAPTER I\\nWinn...        1   \n",
       "0  IN WHICH We Are Introduced to\\nCHAPTER I\\nWinn...        1   \n",
       "0  IN WHICH We Are Introduced to\\nCHAPTER I\\nWinn...        1   \n",
       "1  WINNIE-THE-POOH\\n“Ah, yes, now I do,\" I said q...        2   \n",
       "\n",
       "                                      splitted_texts  \\\n",
       "0                                           IN WHICH   \n",
       "0  We Are Introduced to\\nCHAPTER I\\nWinnie-the-Po...   \n",
       "0  We Are Introduced to\\nCHAPTER I\\nWinnie-the-Po...   \n",
       "0  We Are Introduced to\\nCHAPTER I\\nWinnie-the-Po...   \n",
       "0  We Are Introduced to\\nCHAPTER I\\nWinnie-the-Po...   \n",
       "0  We Are Introduced to\\nCHAPTER I\\nWinnie-the-Po...   \n",
       "0  We Are Introduced to\\nCHAPTER I\\nWinnie-the-Po...   \n",
       "0  We Are Introduced to\\nCHAPTER I\\nWinnie-the-Po...   \n",
       "0  We Are Introduced to\\nCHAPTER I\\nWinnie-the-Po...   \n",
       "1  WINNIE-THE-POOH\\n“Ah, yes, now I do,\" I said q...   \n",
       "\n",
       "                               splitted_texts_chunks  \n",
       "0                                           IN WHICH  \n",
       "0  We Are Introduced to\\nCHAPTER I\\nWinnie-the-Po...  \n",
       "0  ear, coming\\ndownstairs now, bump, bump, bump,...  \n",
       "0  is, as far\\nas he knows, the only way of comin...  \n",
       "0  is another\\nway, if only he could stop bumping...  \n",
       "0  erhaps there\\nisn't. Anyhow, here he is at the...  \n",
       "0  Pooh.\\nWhen I first heard his name, I said, ju...  \n",
       "0  ?\"\\n\"So did I,\" said Christopher Robin.\\n\"Then...  \n",
       "0  \\n\"He's Winnie-ther-Pooh. Don't you know what\\...  \n",
       "1  WINNIE-THE-POOH\\n“Ah, yes, now I do,\" I said q...  "
      ]
     },
     "execution_count": 107,
     "metadata": {},
     "output_type": "execute_result"
    }
   ],
   "source": [
    "df_exploded_2.head(10)"
   ]
  },
  {
   "cell_type": "code",
   "execution_count": 108,
   "id": "7c998451-022c-4375-8087-9712e74b09c6",
   "metadata": {
    "scrolled": true,
    "tags": []
   },
   "outputs": [
    {
     "name": "stderr",
     "output_type": "stream",
     "text": [
      "100%|██████████| 5/5 [00:05<00:00,  1.09s/it]\n"
     ]
    },
    {
     "data": {
      "text/plain": [
       "768"
      ]
     },
     "execution_count": 108,
     "metadata": {},
     "output_type": "execute_result"
    }
   ],
   "source": [
    "x=get_embeddings_wrapper(list(df_exploded_2.splitted_texts_chunks))\n",
    "len(x)"
   ]
  },
  {
   "cell_type": "code",
   "execution_count": 109,
   "id": "ae3425f1-eb38-42fa-95d5-cb66774af325",
   "metadata": {
    "tags": []
   },
   "outputs": [
    {
     "name": "stderr",
     "output_type": "stream",
     "text": [
      "Model_name will become a required arg for VertexAIEmbeddings starting from Feb-01-2024. Currently the default is set to textembedding-gecko@001\n"
     ]
    }
   ],
   "source": [
    "from langchain_google_vertexai import VertexAIEmbeddings\n",
    "\n",
    "embeddings = VertexAIEmbeddings(model=\"models/embedding-003\")\n",
    "\n",
    "text = \"This is a test document.\"\n",
    "\n",
    "query_result = embeddings.embed_query(text)\n",
    "# print(query_result)"
   ]
  },
  {
   "cell_type": "code",
   "execution_count": 110,
   "id": "800585dd-ecba-4bc3-99c5-a34d5e1debee",
   "metadata": {
    "tags": []
   },
   "outputs": [],
   "source": [
    "df_exploded_2a = df_exploded_2.reindex()\n",
    "df_exploded_2a = df_exploded_2a.reset_index()"
   ]
  },
  {
   "cell_type": "code",
   "execution_count": 111,
   "id": "416c2dc7-84cc-45a4-bee6-386d6dd58504",
   "metadata": {
    "tags": []
   },
   "outputs": [],
   "source": [
    "# df = pd.DataFrame({\"id\": [0], \"embedding\": [[0.03090338036417961, -0.0172298401594162]]})\n"
   ]
  },
  {
   "cell_type": "code",
   "execution_count": 112,
   "id": "383a01fd-2527-42ea-b1fb-b8b38d9488f5",
   "metadata": {
    "scrolled": true,
    "tags": []
   },
   "outputs": [],
   "source": [
    "# x=embeddings.embed_query(df_exploded_2a.loc[1, 'splitted_texts_chunks'])\n",
    "# print(x)"
   ]
  },
  {
   "cell_type": "code",
   "execution_count": 113,
   "id": "e0a28f1b-4b05-4e5d-a2a3-61c8799651c0",
   "metadata": {
    "scrolled": true,
    "tags": []
   },
   "outputs": [
    {
     "name": "stdout",
     "output_type": "stream",
     "text": [
      "0   --   IN WHICH\n",
      "1   --   We Are Introduced to\n",
      "CHAPTER I\n",
      "Winnie-the-Pooh and Some\n",
      "Bees, and the Stories Begin\n",
      "HERE is Edward B\n",
      "2   --   ear, coming\n",
      "downstairs now, bump, bump, bump, on the back\n",
      "of his head, behind Christopher Robin. It \n",
      "3   --   is, as far\n",
      "as he knows, the only way of coming downstairs,\n",
      "but sometimes he feels that there really \n",
      "4   --   is another\n",
      "way, if only he could stop bumping for a moment\n",
      "and think of it. And then he feels that p\n",
      "5   --   erhaps there\n",
      "isn't. Anyhow, here he is at the bottom, and ready\n",
      "to be introduced to you. Winnie-the-\n",
      "6   --   Pooh.\n",
      "When I first heard his name, I said, just as you\n",
      "are going to say, \"But I thought he was a boy\n",
      "7   --   ?\"\n",
      "\"So did I,\" said Christopher Robin.\n",
      "\"Then you can't call him Winnie?\"\n",
      "\"I don't.\"\n",
      "\"But you said--\"\n",
      "8   --   \n",
      "\"He's Winnie-ther-Pooh. Don't you know what\n",
      "'ther' means?”\n",
      "I\n",
      "Digitized by\n",
      "Google\n",
      "\n",
      "9   --   WINNIE-THE-POOH\n",
      "“Ah, yes, now I do,\" I said quickly; and I hope\n",
      "you do too, because it is all the ex\n",
      "10   --   planation you are\n",
      "going to get.\n",
      "Sometimes Winnie-the-Pooh likes a game of some\n",
      "sort when he comes do\n",
      "11   --   wnstairs, and sometimes he\n",
      "likes to sit quietly in front of the fire and listen to a\n",
      "story. This eve\n",
      "12   --   ning-\n",
      "\"What about a story?\" said Christopher Robin.\n",
      "\"What about a story?\" I said.\n",
      "\"Could you very sw\n",
      "13   --   eetly tell Winnie-the-Pooh\n",
      "one?\"\n",
      "\"I suppose I could,\" I said. \"What sort of stories\n",
      "does he like?\"\n",
      "\"\n",
      "14   --   About himself. Because he's that sort of Bear.\"\n",
      "\"Oh, I see.\"\n",
      "\"So could you very sweetly?\"\n",
      "\"I'll try,\n",
      "15   --   \" I said.\n",
      "So I tried,\n",
      "Once upon a time, a very long time ago now,\n",
      "about last Friday, Winnie-the-Pooh\n",
      "16   --    lived in a forest\n",
      "all by himself under the name of Sande.s.\n",
      "(\"What does 'under the name' mean?\" ask\n",
      "17   --   ed\n",
      "Christopher Robin.\n",
      "\"It means he had the name over the door in gold\n",
      "letters, and lived under it.”\n",
      "\n",
      "18   --   Digitized by\n",
      "Google\n",
      "\n",
      "19   --   WE ARE INTRODUCED\n",
      "AB SANDER\n",
      "RNIG\n",
      "ALSO\n",
      "\"Winnie-the-Pooh wasn't quite sure,\" said Chris-topher Robin.\n",
      "\n",
      "20   --   \"Now I am,\" said a growly voice.\n",
      "\"Then I will go on,\" said I.)\n",
      "3\n",
      "One day when he was out walking, he\n",
      "21   --    came to\n",
      "an open place in the middle of the forest, and in the\n",
      "middle of this place was a large oak-\n",
      "22   --   tree, and, from\n",
      "the top of the tree, there came a loud buzzing-noise.\n",
      "Winnie-the-Pooh sat down at th\n",
      "23   --   e foot of the tree,\n",
      "put his head between his paws and began to think.\n",
      "Digitized by\n",
      "Google\n",
      "\n"
     ]
    }
   ],
   "source": [
    "\n",
    "for i, row in df_exploded_2a.iterrows():\n",
    "\n",
    "    print(i, '  --  ',row['splitted_texts_chunks'])\n",
    "    \n",
    "    emb = embeddings.embed_query(df_exploded_2a.loc[i, 'splitted_texts_chunks'])\n",
    "    emb_val = ','.join(map(str, emb))\n",
    "    df_exploded_2a.loc[i, 'splitted_texts_chunks_emb'] = emb_val\n",
    "    \n",
    "    # df_exploded_2a.loc[i, 'splitted_texts_chunks_emb_list'] = emb\n",
    "\n",
    "    \n",
    "df_exploded_2a['id'] = df_exploded_2a.index\n",
    "df_exploded_2a = df_exploded_2a.rename(columns={'splitted_texts_chunks_emb': 'embedding'})\n"
   ]
  },
  {
   "cell_type": "code",
   "execution_count": 415,
   "id": "fd7eb354-e23f-41dc-a872-5535a5640439",
   "metadata": {
    "tags": []
   },
   "outputs": [
    {
     "data": {
      "text/html": [
       "<div>\n",
       "<style scoped>\n",
       "    .dataframe tbody tr th:only-of-type {\n",
       "        vertical-align: middle;\n",
       "    }\n",
       "\n",
       "    .dataframe tbody tr th {\n",
       "        vertical-align: top;\n",
       "    }\n",
       "\n",
       "    .dataframe thead th {\n",
       "        text-align: right;\n",
       "    }\n",
       "</style>\n",
       "<table border=\"1\" class=\"dataframe\">\n",
       "  <thead>\n",
       "    <tr style=\"text-align: right;\">\n",
       "      <th></th>\n",
       "      <th>id</th>\n",
       "      <th>splitted_texts_chunks</th>\n",
       "      <th>embedding</th>\n",
       "    </tr>\n",
       "  </thead>\n",
       "  <tbody>\n",
       "    <tr>\n",
       "      <th>0</th>\n",
       "      <td>0</td>\n",
       "      <td>IN WHICH</td>\n",
       "      <td>[0.008577119559049606, -0.012484382838010788, ...</td>\n",
       "    </tr>\n",
       "    <tr>\n",
       "      <th>1</th>\n",
       "      <td>1</td>\n",
       "      <td>We Are Introduced to\\nCHAPTER I\\nWinnie-the-Po...</td>\n",
       "      <td>[0.03151305764913559, -0.04322350397706032, -0...</td>\n",
       "    </tr>\n",
       "    <tr>\n",
       "      <th>2</th>\n",
       "      <td>2</td>\n",
       "      <td>ear, coming\\ndownstairs now, bump, bump, bump,...</td>\n",
       "      <td>[-0.012076896615326405, -0.007126097101718187,...</td>\n",
       "    </tr>\n",
       "    <tr>\n",
       "      <th>3</th>\n",
       "      <td>3</td>\n",
       "      <td>is, as far\\nas he knows, the only way of comin...</td>\n",
       "      <td>[-0.04710844159126282, 0.010321435518562794, -...</td>\n",
       "    </tr>\n",
       "    <tr>\n",
       "      <th>4</th>\n",
       "      <td>4</td>\n",
       "      <td>is another\\nway, if only he could stop bumping...</td>\n",
       "      <td>[0.008820355869829655, 0.04707850515842438, 0....</td>\n",
       "    </tr>\n",
       "  </tbody>\n",
       "</table>\n",
       "</div>"
      ],
      "text/plain": [
       "  id                              splitted_texts_chunks  \\\n",
       "0  0                                           IN WHICH   \n",
       "1  1  We Are Introduced to\\nCHAPTER I\\nWinnie-the-Po...   \n",
       "2  2  ear, coming\\ndownstairs now, bump, bump, bump,...   \n",
       "3  3  is, as far\\nas he knows, the only way of comin...   \n",
       "4  4  is another\\nway, if only he could stop bumping...   \n",
       "\n",
       "                                           embedding  \n",
       "0  [0.008577119559049606, -0.012484382838010788, ...  \n",
       "1  [0.03151305764913559, -0.04322350397706032, -0...  \n",
       "2  [-0.012076896615326405, -0.007126097101718187,...  \n",
       "3  [-0.04710844159126282, 0.010321435518562794, -...  \n",
       "4  [0.008820355869829655, 0.04707850515842438, 0....  "
      ]
     },
     "execution_count": 415,
     "metadata": {},
     "output_type": "execute_result"
    }
   ],
   "source": [
    "df_exploded_2a[['id','splitted_texts_chunks','embedding']].head()"
   ]
  },
  {
   "cell_type": "code",
   "execution_count": 416,
   "id": "7a3063c8-3f42-4506-9cd0-9c13c9d2be08",
   "metadata": {
    "scrolled": true,
    "tags": []
   },
   "outputs": [
    {
     "name": "stdout",
     "output_type": "stream",
     "text": [
      "{\"id\":\"0\",\"splitted_texts_chunks\":\"IN WHICH\",\"embedding\":[0.0085771196,-0.0124843828,-0.0243481118,0.0374409072,-0.0323775746,-0.0078627206,0.0666385889,0.0651061982,-0.0060460684,-0.031819649,-0.0126534235,-0.0672832653,-0.0197192039,0.0101945894,0.0115754046,-0.0115177976,-0.0906385258,-0.0550257489,-0.000638693,0.0262025446,-0.0734190419,-0.0004111519,-0.0345363989,0.0427130871,-0.040865209,-0.0864942223,-0.0083778352,0.006187025,-0.0272276718,-0.0127419764,0.0207843762,-0.009607954,-0.0633966327,-0.0375701748,0.0475797839,0.0185279697,-0.0667250454,0.0181693882,0.0192275569,0.0141315581,0.0206093509,-0.025571892,0.0260585509,-0.0178616475,-0.0459052995,-0.0086374665,-0.0525466017,0.0067732041,-0.0105094155,-0.0422213748,-0.0317742303,-0.0097818859,-0.0235760063,0.0031715017,0.0452542342,0.0008397644,-0.0138043491,0.0144003844,0.0196846686,-0.0694785863,0.0094444379,0.0338444449,0.0448171794,-0.0636041686,-0.0173522159,0.0341138095,0.0479527228,-0.0178759359,-0.0062941257,-0.0218456909,0.0516410172,0.0365949683,0.0111331772,-0.0285871718,0.0067093628,0.0640241578,-0.0316544063,-0.009172136,0.0087502925,-0.0639396533,-0.0629974231,-0.0350031741,-0.0181406215,-0.0510775596,-0.0328129083,-0.0177916102,0.0008671287,0.0157566369,-0.0086399121,0.0648896322,-0.0382148549,-0.045437891,0.0166074801,-0.0041076592,-0.0254181493,-0.025411373,-0.0175786968,-0.0346278995,0.0112597737,-0.0363958329,0.0124018881,-0.0704914555,0.0487143397,0.0015837868,0.0171695445,0.0169948116,-0.0146061815,0.0239937492,-0.0272441711,-0.1262348741,-0.0661926493,0.0629347712,0.0308468547,0.0480204523,0.0623750724,-0.0104173496,-0.0047150855,-0.0154218683,0.0397295654,-0.0065818802,-0.0816492885,0.008954946,0.0581842884,0.0010474493,0.0037446131,-0.0222764183,0.0818313137,0.0022674727,0.0036198997,-0.0206890572,0.0220088065,-0.0039352067,0.0202668756,-0.0293810498,0.004378139,-0.0106876558,0.0285509191,-0.0307816938,-0.0071810619,0.0432702526,-0.0297772922,-0.0331310257,0.0170433354,0.0513024852,0.022235468,-0.0166505482,0.0193609931,-0.0163113885,-0.0452210903,-0.0038673682,0.0125884358,-0.0253276601,0.0106024696,0.0541155003,0.0522819422,0.048285909,0.0005975072,0.0378195941,-0.0131004658,-0.0502624996,-0.0368632339,0.0027628511,-0.021484619,-0.007048151,0.0538250171,0.019168457,0.0212603975,0.0344152786,-0.0306988843,-0.0007399333,0.0658528209,-0.1509087831,-0.0048008948,-0.0596528426,0.067669414,0.0222344864,-0.0187866595,0.0307990629,0.0148182176,-0.0589612685,-0.0386202261,-0.0003894511,-0.0066443207,0.0064273244,-0.0571066365,0.0108297234,-0.0198411942,-0.0466179885,-0.026449535,0.0695572048,-0.0317205153,0.0156247001,0.0142569728,-0.0942104161,-0.0018144622,-0.0103618288,0.0029154429,-0.122668311,-0.0129132792,0.0350976624,-0.0315443017,-0.0702786669,0.0058360379,0.0016548452,-0.0026141161,0.0160708316,-0.0941099748,0.0138138691,0.0336117595,0.0144671854,-0.026602542,0.0077215778,0.0448024683,0.0155374939,0.0222993996,-0.0215092003,0.0006047591,-0.0646672472,-0.0442752689,-0.0154155418,0.0129654752,-0.0062767025,-0.015193413,0.0547787175,-0.0210072715,0.020166643,0.0261443891,0.0479995683,0.0383065417,-0.0226646252,-0.0279617701,0.0368734673,0.0269564204,0.0129962284,0.0493693501,0.061445348,0.0271730199,-0.0197047833,-0.0630492643,0.0129336352,0.0358370058,0.0723895505,-0.04053206,0.0401055887,-0.0308324043,0.006860218,-0.0159003362,0.0112068299,-0.0103716543,-0.0294984076,0.0337360874,-0.0592305586,-0.0134167969,-0.0115311025,0.0095274644,0.0181796607,-0.0339644477,0.0228378009,-0.0142230298,-0.0208218358,-0.0183915347,-0.0009944243,0.0202348307,0.0887161344,-0.0995823592,-0.0534445569,-0.070478119,0.0354029201,0.0436991714,-0.0466116928,0.0143146953,-0.0003329525,0.0239304956,0.045291096,-0.0112725981,-0.0335160159,0.0222877804,0.0501140207,0.0284038838,-0.0048241587,-0.0191152114,0.0206949413,0.0082576629,0.0768221021,0.0369362198,0.0154565033,0.0192263033,0.0625376552,-0.0930984467,0.0146263698,0.0132040214,0.0215547681,-0.0304980818,0.0753414556,0.0751239955,0.0156290457,-0.0050917258,-0.0025952889,-0.0156325083,-0.0260043424,-0.0211469028,-0.0530432537,-0.0140848067,-0.0262668002,-0.0113025857,0.0170751754,0.0129938666,0.0039732535,0.0586645789,-0.0003035881,-0.0006001819,-0.0198053997,0.0103040971,0.0037445736,-0.0044342624,0.0073741535,-0.0053011421,-0.0397588685,0.0012552964,0.0571315587,-0.074578017,0.0032892723,0.0512277335,0.0499174222,-0.0200214759,-0.0111448895,-0.0122950692,-0.0069987136,0.0226418152,-0.025535712,-0.0406325832,0.0668023452,-0.0244940892,0.0106438296,0.0276569836,-0.0105201043,-0.0331021175,-0.0088483356,-0.018389916,-0.0820134729,-0.0093850894,-0.0220485497,-0.0123213287,-0.0063315099,-0.0283518564,0.0235362295,-0.0120701417,-0.061385382,-0.0156044289,-0.0592693798,-0.0152738392,0.014276729,-0.0385067686,0.0165373888,0.0246329401,0.0171049442,-0.0067183622,-0.02392154,0.03999516,0.0049687135,-0.0454367325,0.008745363,-0.0528633371,0.0457813516,0.015369935,0.0356697477,-0.0285017993,0.0216704123,0.0606517047,-0.0454065278,0.0015674711,-0.0386731476,0.0423762612,-0.0159516279,-0.0444257818,-0.0049422183,-0.0327724516,0.0325356275,0.0016672254,-0.0352270529,-0.0196251012,0.0138434218,-0.0038100891,-0.0221752822,0.0134835877,0.0157471765,0.029261658,0.0349581651,0.0314479545,-0.024880955,-0.001393511,0.0374581814,0.0159902051,-0.0602382906,-0.0159538835,0.0435216539,-0.0176318735,0.0337747522,0.0222014189,-0.0060524615,0.0205617454,0.0182662532,-0.0372013636,-0.0736011192,0.0187481381,0.0019060043,0.0255706944,0.0178077891,0.0125220148,-0.0513502397,0.0033711405,-0.0565215386,0.0201497395,0.0087795304,0.0648114458,-0.0434180088,0.0744546503,-0.0392048135,-0.0137278056,0.0304047763,-0.0139397187,-0.0547628254,-0.0315622203,-0.0182174686,-0.0038929817,0.0164228044,-0.0529370308,0.0432277396,0.0094619505,-0.0644930676,-0.0287137087,-0.0047379746,0.0276508238,-0.0635917559,-0.0205221269,-0.0390738957,0.0837020203,0.0250577759,-0.0117552252,0.0160672534,-0.0577995963,0.0015659195,-0.0258282721,0.0150939515,-0.0510948822,-0.001815967,-0.0608954616,-0.0437670983,-0.0331151448,-0.046362713,-0.0309725441,0.0354768597,-0.0112448446,0.0770822987,0.0155368168,-0.01186343,0.0413778611,-0.0176037494,0.0006504215,0.0150992069,-0.0202430915,-0.0125383316,-0.009473227,0.0384366401,0.0006915287,-0.0440800451,0.0065885209,-0.0013377352,0.0080870828,0.0493118688,-0.0512319133,0.0260179583,0.0293709505,-0.0170431491,-0.0049702032,0.0393491909,0.016903745,0.059906885,-0.0974347666,-0.0414563306,-0.0931244865,-0.0329404697,0.0022718003,-0.0437856354,0.0144195287,0.0111560775,0.0227091014,-0.0301134326,0.0242981929,0.0463781059,-0.0169549286,-0.0032008097,0.0108010741,0.0459682308,0.0184159428,0.0139077902,0.0095003648,-0.0193297807,0.0082393661,0.0004246383,0.0277846567,-0.0256820116,0.0279746242,-0.0255558956,-0.0468707308,-0.0505466163,-0.0229726415,-0.0485550389,-0.0879613459,0.0065342961,0.0058451807,0.0436600745,0.0295489505,-0.0201221555,-0.0348472409,-0.0824199095,-0.0205814242,0.0056920038,-0.0026594696,-0.0212356355,-0.0319577269,0.0109733045,-0.0318933912,-0.0069613503,0.0607044138,0.027546294,0.0194339044,-0.053798195,0.0003424209,-0.010097173,0.0012536892,0.0032333252,-0.0053423378,0.0069510695,-0.041162096,0.0101332273,0.0368740596,0.0002963398,0.0201610476,0.0394989811,0.0186731778,-0.0382738598,0.0380726457,-0.0106647983,0.01178913,0.0061797849,0.0193038452,0.0206241477,0.0202000476,0.0489880517,-0.0040726499,-0.0211159866,-0.0093517192,0.0474230535,0.0239306819,-0.0306183472,0.0036078102,-0.0270284899,-0.0459922999,-0.0333600678,-0.0209271796,0.018218508,-0.0131754642,-0.0191669203,0.0128859356,-0.0063371919,0.0327990502,0.0142144822,-0.0244820006,0.0420080274,0.0049813809,-0.0645941421,-0.0221043956,0.0437827967,0.0154113676,0.0211799033,-0.0261642914,-0.0163024813,-0.0150005855,0.0037193848,-0.0387878641,-0.0095814317,-0.0586775355,0.0242057517,-0.0258357301,-0.0005261764,-0.0343072526,-0.0341955386,0.0188177768,0.0275742374,0.0144846933,-0.0968665928,-0.0343233012,0.010766862,-0.0484390184,-0.0663600564,0.0045580096,0.0178753324,0.0125910109,0.0017018996,-0.0004925556,-0.0256902818,0.0782792196,-0.0865532905,0.042570617,0.0135545945,0.0508646592,0.0263595302,0.0061929184,0.0037819068,0.0371252634,0.0710758939,0.0114399428,0.0476602204,-0.0613538325,-0.0132163996,-0.0517964028,0.0682478622,-0.0280391313,-0.0013720853,0.0309817009,-0.0229459088,0.0429817364,-0.046622891,0.0384983346,-0.0073763481,0.0330552645,0.013884523,-0.0166604351,-0.0127655789,-0.014918847,-0.0307668559,-0.041839458,-0.0588892177,0.0525457226,-0.0473259576,0.0039979867,-0.0015560309,0.0438271351,-0.0005567386,0.0278910752,0.0305014495,-0.0180070046,-0.0556096211,-0.0358294211,-0.0011751051,-0.0036339539,-0.0351753421,0.0013330006,0.027204087,-0.0152383875,-0.0218480714,-0.0338574052,-0.0515159629,-0.0496857688,0.0492929444,-0.016270699,0.0100708269,-0.066091828,0.0417879038,0.0228625759,0.0003797107,0.044747781,0.0036253566,-0.070366092,0.0489287041,0.013337791,0.0167672206,0.0343114771,0.0469404198,-0.0300011281,-0.0651502535,0.0252002515,-0.045717828,-0.0175692923,0.0013832996,0.0358003378,0.0043048286,0.0252858195,0.0346140414,-0.0297324471,0.0111632962,-0.0122162551,-0.0435933061,0.001778885,-0.0094899554,0.010088033,0.0029555617,0.0090034017,-0.0170528125,0.0552826077,0.0062671611,-0.0093974844,-0.0465304404,-0.0262226444,-0.055492498,0.0256298836,0.0351238362,-0.0356950872,-0.0311642755,-0.0123478165,0.0100418646,0.0453477167,0.0340045914,0.0830826834,-0.0104525257,-0.0666054413,0.0488728024,-0.0400139727,-0.0767985582,-0.012784698,-0.0087581743,0.0555622354,0.0363284536,-0.0152314696,0.0433771275,-0.0368403308,0.0605905876,0.022842072,0.0476715043,0.0020028702,0.0077799372,0.0509292707,-0.0612343512,-0.0651326701,0.0228039231,0.0383294523,0.0072473092,-0.0445705652,-0.0203022715,0.0214667078,0.0164634548,0.0532383807,-0.0064140102,0.0402915701,-0.0369350277,-0.012885944,-0.0234054979,0.0644898862,-0.0134870475,-0.0231609177,0.0453445762,0.0009716089,-0.0104789985,0.0158772059,0.0078062275,0.0276067797,-0.0120690083,-0.0068819658,-0.0326589234,-0.024870161,0.0145633295,-0.0055854958,-0.0236272346,-0.0410163924,0.0448778346,0.0124828294,0.042394001,-0.0178524535,0.0157650653,0.0141551346,0.0087365238,-0.014637663,0.0303468779,0.0541941598,-0.0192656256,-0.0590903983,-0.0182631891]}\n",
      "{\"id\":\"1\",\"splitted_texts_chunks\":\"We Are Introduced to\\nCHAPTER I\\nWinnie-the-Pooh and Some\\nBees, and the Stories Begin\\nHERE is Edward B\",\"embedding\":[0.0315130576,-0.043223504,-0.0273684058,0.011219902,0.0008324909,-0.0045590717,0.0048517054,0.025683172,-0.019086685,0.0017462255,0.001296903,-0.0120354993,0.0054983711,-0.0075701321,-0.0329453312,-0.0435952954,-0.070563294,-0.0315809883,0.0211653244,0.0024929186,-0.0332486853,0.0101141799,-0.0149496673,0.001596819,-0.0165457688,-0.0718119889,0.0067756036,0.0012211615,0.0138361286,-0.03165913,-0.0352479815,0.016892124,-0.0049278,-0.0223469269,0.0130727841,0.0566373281,0.0037242249,0.0269588716,0.0453060679,-0.0075237937,-0.0180831347,-0.0167382695,0.0236127358,0.0202351455,0.002882523,-0.0136022819,0.0192246381,0.0329556391,-0.0507355481,-0.0503837466,0.0245634336,-0.0355945677,-0.0053811367,0.0189071745,0.057315331,0.0319925174,-0.0640487075,-0.0294135865,-0.0128914546,-0.00743481,-0.0347716585,-0.0020654385,0.0201004911,-0.0177036542,0.0171695128,0.0078820726,0.0364300385,0.0280694235,-0.0394872501,-0.0439326204,0.0364209265,0.0476043373,-0.0234307665,-0.0613904446,0.0116850836,0.0292359311,0.044047229,0.0221638288,0.0300101154,-0.0236509033,-0.0299860518,-0.0024514343,-0.0417851433,-0.0998157561,-0.0165309869,0.0313567258,-0.0088685751,0.0232040938,-0.0218102727,0.0468800478,-0.0040828804,-0.0064868382,0.0309537072,0.051073283,-0.0094173532,-0.0012723439,-0.0253557581,0.0060376963,0.006843531,0.0182265993,-0.0072366586,-0.0472436212,0.0624553189,-0.0277408939,0.0378812067,-0.0235483292,-0.0217908695,0.0685149878,-0.0227306206,-0.026789384,-0.0452623181,0.0159517322,-0.0364746638,0.0220684875,-0.0009963427,-0.0143777132,0.0037341858,-0.0083221421,0.0028345529,0.0083745876,-0.0478895269,-0.02923337,0.0059950221,0.0736366734,0.0324079804,0.0103561487,0.0340652391,-0.0046929619,0.047820881,0.0096117165,0.0152735636,0.0242917351,0.0601882264,-0.0016762071,0.0313160419,0.0670141503,0.0445686243,-0.0030535138,-0.0250061806,-0.02854212,-0.0192832593,-0.0350920185,0.0061285011,-0.016267566,-0.0232792385,-0.0059768581,0.0185134485,-0.0363716856,-0.049142465,-0.0140754664,0.0254109073,-0.0144462353,-0.0044898228,0.0263860729,0.0261488929,-0.0166204497,-0.0154154943,0.0642388761,0.0180129949,-0.0815517902,0.0045516323,-0.0128500834,0.0000070257,-0.0345611572,0.0226278845,-0.0007922074,0.0159280468,0.0192990247,-0.0545299836,0.025704138,0.0458615571,-0.1334259808,0.0112072043,-0.0292172506,0.0792219564,0.0177696329,0.0101935025,0.034525428,-0.0170480814,-0.0540408641,-0.0445794463,-0.0294773765,-0.0131601822,-0.0391217358,0.0029779805,0.0106624942,-0.0676877871,-0.0104731694,-0.0222448092,0.088493593,-0.0428461283,0.0395338833,0.0030871287,-0.0582227111,0.0561536402,-0.0412648655,0.0353897959,-0.0836392716,-0.0327377059,0.0098820701,-0.0589064583,-0.055216901,0.0486883372,0.0083348779,-0.0205578431,-0.0651252046,-0.0272869952,0.0186957791,0.0178934708,-0.0137677668,-0.0053174002,-0.0524135157,0.0283010155,0.014447513,-0.0376152024,-0.0523604564,-0.0102199661,0.0175455622,-0.0432456732,0.0410570167,-0.0238710605,0.0218333397,-0.0412134901,0.068349354,0.0211889837,0.0160514116,0.0330775194,-0.0070090895,0.0915278718,0.0123677906,-0.0644407496,-0.0025822972,0.015070796,-0.0126924561,0.0210625939,0.0319560952,0.0516776666,0.012668944,-0.0970568508,-0.0116155948,0.0169643573,0.062310081,-0.0135132158,0.0315677784,-0.0522327051,0.0134698544,-0.0267540589,-0.0272676516,0.0081017623,-0.0037567457,0.0224494766,-0.0543631352,-0.0346164368,-0.0093589323,-0.0085631609,0.0380605869,0.0147873973,0.0125941057,0.0071065128,-0.0436509401,0.0046756892,-0.0238428675,-0.0077928887,0.1435259879,-0.0547852069,0.001110849,-0.06852597,0.0134788025,0.0271601565,-0.0575641803,-0.0108416984,-0.0143231153,0.0620867871,0.0162054058,0.0270657614,0.0253003482,-0.0267888121,0.0315548815,0.0003409538,0.065058507,0.0044721724,0.0024475148,0.0314455442,-0.0053925035,-0.0025854448,0.0584967881,-0.0243828949,0.0162693467,-0.0598286204,-0.0157903563,0.059609089,0.0064264075,-0.0304094441,-0.0057602334,-0.0112030944,-0.0150272269,0.0106556332,0.0273114946,0.0165475719,0.0044787675,-0.0402232148,-0.048628293,-0.0097127398,-0.0612530224,-0.053796567,0.0063340329,-0.0250603687,-0.0149500445,0.0171945244,0.0040598121,-0.0067151226,-0.0033138446,0.0157636479,-0.0142518617,-0.0216402151,0.0385235734,-0.0072525507,-0.0395398661,-0.1205487326,0.0426234566,-0.0146256993,0.0409023501,0.0779940486,0.0024390358,0.0166565981,0.0075599356,-0.001725735,-0.0162755437,0.0039567901,-0.0238403082,0.0114032831,0.0487841256,-0.0282248501,-0.0273624435,-0.0019210591,0.0442402847,-0.0230219029,0.020270206,0.0022976517,-0.0560039654,-0.0013734748,-0.0383693017,-0.0033061996,0.0193933174,0.0030279423,0.0077720606,-0.0371613316,-0.0439186879,-0.0580993667,-0.0347094163,-0.0072059506,0.0421006605,-0.0712168291,0.0435419902,-0.0748031512,0.0639222041,-0.0116568441,0.0242760684,-0.0128486687,0.021070756,-0.0283421967,0.0085019367,-0.032829646,0.0152793871,0.0341055132,0.0292122588,-0.0120397443,0.0468361638,-0.0176637899,0.0175988283,-0.028198408,-0.0264465064,0.0072880206,-0.0052949968,-0.043899186,-0.0509573445,-0.065457657,0.0324926004,0.0280454475,-0.031659551,-0.0124445455,0.0219688248,-0.0349108502,0.0176320244,0.0283874478,0.0200628564,0.0062967134,0.0368432812,-0.0040485836,-0.0253260285,0.0220504869,0.0828296468,-0.0148682827,-0.0482617989,-0.0348903947,0.0147390533,-0.0327109881,-0.0162048861,-0.0002569739,-0.0192172658,-0.0128635745,-0.0105494522,0.0308588967,-0.0667086765,0.0324769206,0.0279757436,-0.0070863506,0.0328283831,0.0823459104,-0.018594468,0.0289423224,-0.0313443393,-0.0329201482,0.0245081149,-0.0005850788,-0.0165147539,0.0585363619,-0.0515052937,-0.0285033155,0.0003685796,0.0542844795,-0.0077509708,-0.0329590067,0.0255947597,0.0015023567,0.0166488085,-0.0513960347,0.0325759239,-0.0187833738,-0.0224292707,0.0193050057,-0.0788186044,-0.0313660465,-0.038052395,0.0133398799,-0.0061975722,0.105927743,0.0145634729,-0.0025076044,-0.0203635693,-0.036488656,-0.0086226631,-0.0258993451,-0.0022922428,0.018364463,0.0171430428,-0.0012671329,-0.0126792332,0.0024756354,0.0335599482,-0.0158822108,0.00381705,0.0036100785,0.0445504524,-0.0120266723,0.0558716133,-0.0139866909,-0.0174882859,0.0115701612,-0.034215983,0.0247558858,-0.0063749691,0.0018924786,0.0142353512,-0.0022313895,-0.0146555277,0.0444906354,0.0590303317,0.0472721532,0.0471960902,-0.0517735779,0.0424371697,-0.0197503958,-0.0182112586,0.0114533203,0.0128972363,0.0322794765,0.0674415231,-0.0115488302,0.0206778254,-0.0808312595,-0.0262904968,-0.0080670677,-0.0156546403,0.029282406,0.0193393733,-0.0173482709,-0.0161880441,0.0079157408,0.0245829541,-0.01158466,-0.0230161417,-0.0398404226,0.0142939202,0.0397584997,-0.0234692451,-0.0275435001,0.001658857,0.0420615636,0.0156247132,0.0418888777,0.0401603952,0.0158965755,-0.0752401948,-0.064032428,0.0032952214,-0.0160438139,0.0072812485,-0.0487474613,0.0375458524,-0.0160246603,0.0298419483,0.0246503074,-0.0734986067,0.0027650686,-0.0640268475,0.0211775638,0.002470759,-0.010786118,0.0109925102,0.0122242514,-0.0035715662,-0.0098871104,-0.0315936543,0.0709909797,0.0544886366,0.0377138965,-0.0877417549,-0.021209754,0.0486310683,0.0251950137,0.0435113609,0.0220067166,0.0133629348,0.0179403033,-0.0446406603,0.034638606,0.0186102651,0.0295850523,0.1220580935,-0.0065046051,-0.0587331131,-0.0079359859,0.0013048638,0.0422453247,0.0293847006,0.0146422843,0.0774315521,0.0488675125,0.0506867841,0.0472779721,-0.0726887956,-0.0879820734,0.0309827738,-0.0162988417,-0.0522948951,-0.0150305806,-0.0064714374,-0.0328832082,-0.0371961221,0.0130166337,0.018477438,-0.0377898589,-0.0392461754,0.0906707644,-0.0011244207,0.021906238,0.00879109,0.0152747734,0.0427513123,0.0012593436,-0.0351027884,-0.0111704981,-0.0074656545,-0.0032162389,-0.0118357614,0.0034886482,0.0163986627,0.0112828435,0.0165595207,-0.0878389627,0.0127630718,0.0015060989,0.0159216709,-0.0255696997,0.0133902933,-0.0428347364,-0.0453800894,0.007730321,-0.0530814715,0.0614184402,-0.0625478178,-0.0067866659,0.0087586986,-0.0636007264,-0.0860225782,-0.0545448475,0.031982094,-0.0094935177,0.0328574777,-0.0046196678,-0.0268355012,0.0464670807,-0.0322324298,0.035387978,-0.0391508453,0.0479087159,-0.0011022488,0.0086575244,-0.001728599,0.0268125907,0.0799597874,0.0103548197,0.0026346114,-0.0118258102,-0.0057184878,0.0166721009,0.0745276436,-0.0215862617,-0.0100726532,-0.0188956428,0.0366710648,0.0087066041,-0.0198309738,0.0066189575,-0.0350884944,0.0156964064,0.0123869777,-0.0124741634,-0.0424080417,-0.0044591133,-0.0659671724,-0.0425118133,-0.0538376272,-0.0241094772,0.0004761543,-0.0251433868,-0.0046466654,0.0276390314,0.027474774,0.0145337069,0.0600500777,-0.0438539088,-0.0420550071,-0.0084126368,-0.0523534678,-0.0093275262,0.0079132626,-0.0225000344,0.0745720416,0.0255931374,-0.0254982673,0.0248137563,-0.0224803984,0.0120116426,-0.0058526834,-0.0284002535,-0.0069318577,-0.0248783119,0.031238528,0.0430445708,0.0426384658,-0.0008157306,0.0372182168,-0.0878715292,0.0596639402,-0.0215981659,0.0640769526,0.0335087478,0.0094223982,-0.0092761265,-0.0234551281,0.0151835568,-0.0325515494,0.0137763228,-0.0036154345,0.0284782946,0.0576598048,0.0148316426,0.0153334728,0.0142086875,-0.0220475476,-0.0154405301,-0.0786837488,0.044366885,-0.039977219,-0.0181818046,0.0191190355,-0.0023920564,-0.0139571568,0.0210880432,0.0471340343,0.0083031403,0.0192193352,-0.0435649715,-0.0395837203,-0.0141554028,0.044542633,-0.0322220586,0.0091585945,-0.0391572639,0.0343254879,0.038705416,0.0488145463,0.0381894149,-0.0347085707,-0.0815073252,-0.0065638847,-0.0291539617,-0.0208242983,-0.0010856618,-0.0397404917,0.0158467796,0.0060495562,-0.0370643586,0.0400777161,-0.0638158768,0.0132496646,0.0537413657,0.0150261102,-0.0182722919,0.00491346,0.0304683987,0.0244545154,-0.0548528507,0.0025268898,0.032164678,-0.0173272882,0.031865295,0.0232739821,0.041024182,-0.0233795028,0.0457143709,0.0323057063,-0.0178258847,-0.0815250054,0.0340860412,-0.0045118798,0.0785341039,-0.0793478265,0.0397004448,-0.0054148035,0.0488130972,-0.0107528055,0.0166409109,0.0091349427,-0.0045732204,0.0015561584,-0.046681039,-0.0433702953,-0.0580697954,0.0022835657,0.0150704319,-0.0054159542,-0.0339042768,0.094708249,0.0362940244,0.0974614248,0.0007197409,0.0778713897,0.0320465192,-0.0161885768,-0.0172349345,0.0639345646,-0.0021406061,0.0199922305,-0.0295750294,-0.025420092]}\n",
      "{\"id\":\"2\",\"splitted_texts_chunks\":\"ear, coming\\ndownstairs now, bump, bump, bump, on the back\\nof his head, behind Christopher Robin. It \",\"embedding\":[-0.0120768966,-0.0071260971,-0.0064429287,0.0051718834,0.0287261754,-0.0191065315,0.0472462848,0.0045056441,0.0171372667,0.0339502357,-0.0059032212,0.04169425,-0.0137972273,0.0283473805,-0.0555050038,-0.0234851055,-0.0752994716,0.0097348476,-0.0349517763,-0.0045844503,-0.1049679816,0.020626625,0.0083935168,0.0082370238,-0.0376824066,-0.0737365261,-0.0058969287,-0.024375774,-0.0256073307,0.0040689078,-0.0395730957,-0.0070566968,0.0010399208,-0.032759469,0.0474042259,0.0472293794,-0.0122750187,-0.0210613068,0.0146651203,0.0397863276,0.0015932563,-0.0396292508,0.0382705592,0.0081403479,-0.0179545693,-0.0377493463,-0.0383495502,0.0252628233,-0.0236384012,-0.01312631,0.0240922421,0.0148644838,-0.0047582393,-0.0024328723,0.0280693509,0.0393947512,-0.0576930009,0.0097233867,-0.0408991016,-0.019895209,-0.0035155972,-0.0500157662,0.0601838082,-0.0623542704,-0.0053259041,0.0426649228,-0.0261832401,0.028628055,-0.0045301574,-0.0643947572,0.0288667362,0.0032519076,0.0163430013,-0.0116840489,0.0070415945,0.0298636071,0.0077989069,0.006730631,0.0230330229,-0.0493601747,-0.0456740856,-0.0532077067,-0.0291428845,-0.1173435822,-0.0472192205,0.0363473631,0.0113016786,-0.0172946695,-0.0142154703,0.046135582,-0.0092901709,0.0164287724,0.035842102,0.0067788446,-0.0271045584,0.0015844586,-0.0296915825,-0.0106310798,0.0134463701,0.0153554957,-0.0063879942,-0.1054109856,0.0738748983,-0.041106049,0.0738066584,-0.043989487,-0.0129581494,0.0483009368,-0.0216395613,-0.0229735151,-0.0385901667,0.0296549425,-0.0062676943,-0.0523791723,-0.0042572548,-0.0264623072,0.010934338,0.0184042379,0.0663198754,0.0027118067,-0.0733812302,-0.0143302167,-0.0561846979,0.0069311801,0.0122287022,0.0321587473,0.082122393,0.0085258195,-0.0365874432,0.0138624627,0.0198474787,0.0159874838,0.0138922464,-0.0208758544,0.0234896541,0.081435062,-0.004050171,0.0008111853,-0.0026474306,-0.004440086,-0.0534036681,-0.0157550238,0.0193252899,0.0190062188,-0.0088531068,-0.0357905887,-0.0045313439,-0.0105321351,-0.0239283182,-0.0008508007,0.0170513336,-0.0894214734,0.0091660516,0.0019007334,0.0379551761,0.0510269217,0.0238160063,0.1404761821,-0.0168676879,-0.0261534657,0.0320016891,-0.0057388693,0.0503957048,-0.0383709893,0.0223718416,0.0033655632,0.0256940201,0.0435646884,-0.054477293,0.0187843833,0.0401257612,-0.105752781,0.0308931135,-0.0293214321,0.0947612077,0.0144227501,-0.0114705116,0.0258154869,0.007594882,-0.0101047624,-0.0174079202,-0.0417086221,-0.0232283045,-0.0105488747,0.0196785349,-0.0107764797,0.0104709649,-0.0023771115,-0.0281555764,0.0909818932,-0.023786718,0.0440982245,-0.0162979029,-0.0518535264,0.0061544953,0.0176720843,0.0211248174,-0.1055053398,-0.026272025,0.0397661477,-0.0362914801,-0.0469814464,0.0223798044,-0.0058490112,-0.0418947749,-0.0260311738,-0.063669309,0.0515163615,0.0165477153,-0.0390431434,0.0209145788,-0.019166436,0.0608423837,0.014152104,-0.0542816035,-0.0138159804,0.0197763033,-0.0106329611,-0.0334782526,0.0062621552,0.0279335212,0.0232944544,0.0073045972,0.054613404,0.0034583844,-0.0051646861,0.0252191555,-0.0188068021,0.0123035256,0.0272935107,-0.0103736194,-0.0123941638,0.0006205078,-0.0051783286,-0.0271811318,0.0305098183,0.0093114953,-0.0049383393,-0.110560216,-0.0386668742,0.0375870876,0.0698298365,-0.0323273912,0.0058983383,-0.0043688808,0.0298789125,-0.0265693348,-0.0260465201,0.0179841723,-0.0140816774,0.0324880965,-0.0798695087,-0.0475287884,-0.0570654236,-0.0171750821,0.0075759431,0.0029130103,0.017193865,-0.0281001423,-0.0305551868,-0.0125208935,0.0410604291,0.0663940012,0.1225174665,-0.0024561868,-0.0027743904,-0.0132128643,-0.0118502732,0.0693252906,-0.0497365482,-0.0032638505,-0.0080641173,0.1050089449,0.0033537657,0.018324187,0.0063860049,-0.0386192836,0.0391804837,-0.0003992245,0.0537930466,-0.001433103,-0.0299020614,0.0143621759,0.0375652499,-0.0154099846,0.0239995345,-0.0420023873,0.0302229431,-0.0460633114,-0.0171635989,0.0542175882,-0.013686087,-0.0487985462,0.0437481739,0.0089613302,-0.0214787368,0.0467694476,0.0295209456,-0.022598261,0.0034843318,-0.0341274217,0.0022754774,-0.0026782013,-0.0486383103,-0.0692691058,-0.0061697206,0.0028258641,-0.0223549269,0.0627145916,-0.0144138094,0.0024333703,-0.0024676386,0.0199874006,-0.0030413677,-0.0380007327,0.0401597954,0.0246579256,-0.0254286956,-0.044900436,0.0211800542,-0.0280823912,0.0126815103,0.0397036672,0.0287009683,0.013338537,0.0179910976,-0.0206361152,0.0091588041,0.0367030837,-0.0136472657,0.004212446,0.0291525666,-0.027903758,-0.0260157734,-0.0390401967,0.0038122444,0.0213209875,0.0860623345,-0.0120991468,-0.0746921003,-0.0106447227,-0.0120247249,-0.0294351112,-0.0121341646,-0.0111148292,-0.0116385007,-0.0056440132,-0.0012309785,-0.0547216609,-0.0016641484,-0.0373377316,0.0426420905,-0.0398330502,0.0446458645,-0.0108871302,0.0030517944,-0.0411965773,0.0528534204,-0.0036054843,-0.0182916857,-0.020336736,0.0406656004,-0.0506483987,0.0659865811,0.024099201,0.0308408067,-0.0250627156,0.0225304011,-0.0284528248,-0.0398017466,-0.037296813,0.0170382746,0.0247924812,-0.0272905901,-0.0508492291,-0.0633290261,0.0090386644,-0.0037137212,0.0492711589,0.0042184582,-0.056013193,0.0428175405,-0.0145517262,-0.0297092348,-0.0116740521,0.0185793862,-0.0040256288,0.0552424677,0.0491071679,-0.035702493,0.0373113863,0.0203948598,-0.0257629957,-0.0559102446,-0.0013111782,0.0806781426,-0.0211458914,0.0237360243,0.0084952656,-0.0313564613,-0.0117654931,0.0078639342,-0.0006775587,-0.0549313091,-0.011645617,0.0322186314,0.0072919405,0.0367260017,0.0663254187,-0.0198950991,0.0550559424,0.0029155894,-0.0291905589,0.049865406,-0.0094625689,-0.0464801639,0.0190075357,-0.0805118307,-0.0022903909,-0.0156449359,0.0244478434,-0.0116961738,-0.0150556779,0.0409565531,-0.0120131671,0.0617607534,-0.0587303154,-0.0121229347,-0.0088018412,0.0507846959,-0.0202400628,-0.0470962264,-0.0381981544,-0.0384311043,-0.0395794362,-0.0234612525,0.1220151186,0.0605819561,0.0274058655,-0.0038941205,-0.0103893029,-0.0141559672,-0.0064620809,0.0277555212,-0.0003907891,-0.0632576719,0.0271992367,-0.0255635194,-0.0540482216,-0.0383329764,-0.0302106086,0.0223228335,0.0000977465,0.04307409,-0.0425171815,0.0254190452,-0.0267414413,-0.0028439348,-0.0226217844,-0.01886601,-0.0126275942,-0.0338043161,-0.0043921126,0.0346927196,-0.0286421943,-0.0392775759,0.0357753597,0.046903979,-0.0284605976,0.0384674184,-0.0377788134,0.020303499,0.0274761226,-0.0012298463,0.0231134687,-0.0067148982,0.0642093271,0.0444002934,-0.0334562473,-0.0246223565,-0.1037412211,-0.007491759,0.0117296055,0.0116037726,0.0333112702,0.0426574647,-0.0075288122,-0.0028573615,-0.0143122291,0.0162232779,0.0032134999,-0.032164216,0.0048331898,-0.0199674498,-0.0034737361,-0.0163070746,0.0076559274,0.0179342087,-0.0445702672,-0.0069129863,0.0054472717,0.028906092,0.0202633534,-0.055441048,-0.0520382747,0.0132803442,0.0199639853,-0.0154278604,-0.0144383525,-0.000883671,0.0023231958,0.0289073698,0.0033557541,-0.0593539961,0.0078777215,-0.0981979594,0.0095145181,0.0400210693,-0.0155861219,0.0285666864,-0.0076003545,-0.0154794436,0.0114990734,0.0108421585,0.0597357526,0.0430184193,0.0074734204,-0.0599398799,0.0284641869,0.0617947206,-0.0133636454,0.0387192369,-0.0071673426,0.0180992838,-0.0055690869,-0.0370018594,0.0186141413,0.032000456,0.0073686074,0.091864042,-0.0091812583,-0.0469657443,-0.0235952307,-0.0261475649,0.0091144117,0.0497507006,0.015306144,0.0177124329,0.0447375998,0.0930145681,0.0370179266,-0.0799996778,-0.101509884,0.0473650172,-0.0063546193,-0.0308305528,0.0068371198,-0.0594329797,-0.0128150145,-0.021709403,0.0240896344,0.0513578951,-0.0135048451,-0.0400885828,0.0662705153,-0.0134744113,-0.0251111463,0.0450061746,0.0414092615,0.015257393,0.0174303316,-0.0652650148,0.0165056102,-0.0075799376,0.0210556965,0.0400919728,-0.0248077903,0.0408200175,0.0068168109,0.0309462957,-0.025532648,0.0380917005,0.0151401572,0.0098453062,-0.0139183197,-0.0381357484,-0.0182033572,-0.0491370782,-0.0062712994,-0.0300898794,0.0431318358,-0.0359420739,-0.0363308974,0.0050473218,-0.0422181077,-0.0599162765,-0.0228974987,-0.0033824916,-0.0191846993,0.0050546895,0.0269528218,-0.0196631812,0.008262529,-0.0133600589,0.038121365,-0.006364346,0.0672510117,-0.0277236402,-0.0058991425,0.0257950034,0.0270250458,0.0320425555,0.0445029512,-0.0041649155,0.048949644,0.0041201017,-0.0184108298,0.0517778359,0.0223259814,0.0001858635,-0.0077614216,0.0838693231,0.0124421576,-0.074193798,-0.0084302435,-0.0325557888,-0.0210894458,-0.018827768,-0.0183157567,-0.036182303,-0.0411170609,-0.025753051,-0.0483561791,-0.0311757736,-0.024524888,-0.0013488336,-0.0222565364,-0.0063847192,0.0225827694,0.0638968498,0.0060352767,0.0467449427,-0.0283953454,-0.0259647425,0.0108681638,-0.0296977684,-0.031976819,-0.0488909036,-0.0339932181,0.0561053045,0.0151420515,-0.0047694286,0.0139991622,-0.0281705726,0.0071920082,0.0386400744,0.0160896834,0.0203210693,-0.0115137445,0.0156726725,0.0374172293,-0.0106581021,0.0070057525,0.0505877882,-0.0764247626,0.0424837247,0.022780288,0.0500669628,0.0032035233,0.06126149,-0.0470215902,-0.0234758146,0.0404627509,-0.0575266927,-0.0058873701,0.0044414261,0.0136492513,-0.0075140973,0.0456157178,0.0096802674,0.0070002917,-0.0348693654,0.0201683827,-0.0374476723,0.0477230288,0.0103188101,0.0047273389,0.0010979236,-0.0086588394,-0.0272311922,-0.0005857296,0.0119025698,0.0007264273,0.0079688877,0.0088564027,-0.0633687899,-0.0080354977,-0.0221094955,-0.0041227182,0.0116855074,-0.046194762,0.0159742832,0.0320729464,0.045674447,0.040655259,0.0197157096,-0.017509494,0.0559750274,-0.024544308,-0.0146176908,-0.0280229915,-0.0232557356,0.0396961868,-0.0011808759,-0.0119636199,0.040756084,-0.0530602708,-0.0103056664,0.0381665379,-0.0212477036,-0.0252007358,0.0520433448,0.0504091941,-0.0319327153,-0.0499574915,0.026155591,0.020210484,-0.01831582,-0.0148527697,0.0406535044,0.0500611216,-0.0449825637,0.0195519272,0.0166954752,-0.0401766635,-0.0178316459,0.0467126518,-0.0275177974,0.0613296889,-0.0457732901,0.035372071,-0.0207732208,0.0148566673,-0.0306226965,-0.0142329056,-0.0146565754,-0.0002275706,-0.0062384363,-0.0375988558,-0.0713614002,-0.0455185659,-0.0342636108,0.0106804194,-0.0383582041,-0.0232507754,0.0762162432,0.0599970296,0.067172423,0.0052973633,0.0685501173,0.0325763635,-0.007443714,-0.0185634326,0.0624887943,-0.0145125361,0.02103718,-0.0181628577,-0.0328028537]}\n"
     ]
    }
   ],
   "source": [
    "# save id and embedding as a json file\n",
    "df_exploded_2a['id'] = df_exploded_2a['id'].astype(str)\n",
    "\n",
    "\n",
    "jsonl_string = df_exploded_2a[[\"id\",'splitted_texts_chunks',\"embedding\"]].to_json(orient=\"records\", lines=True)\n",
    "with open(\"questions.json\", \"w\") as f:\n",
    "    f.write(jsonl_string)\n",
    "\n",
    "# show the first few lines of the json file\n",
    "! head -n 3 questions.json"
   ]
  },
  {
   "cell_type": "code",
   "execution_count": 130,
   "id": "8cfd8206-c9da-43a1-93ee-e07b2aa6ff79",
   "metadata": {
    "scrolled": true,
    "tags": []
   },
   "outputs": [],
   "source": [
    "# import json\n",
    "\n",
    "# # Assuming df_exploded_2a is a pandas DataFrame\n",
    "\n",
    "# # Convert the \"embedding\" column to a list of floats\n",
    "# df_exploded_2a[\"embedding\"] = df_exploded_2a[\"embedding\"].apply(lambda x: list(map(float, x.split(','))))\n",
    "\n",
    "# # Convert DataFrame to JSON with the desired format\n",
    "# jsonl_list = df_exploded_2a[[\"id\",\"embedding\"]].to_dict(orient=\"records\")\n",
    "\n",
    "# # Convert the list of dicts to the desired output format\n",
    "# output_list = [{\"id\":str(item[\"id\"]), \"embedding\":item[\"embedding\"]} for item in jsonl_list]\n",
    "\n",
    "# # Write the output to a JSON file\n",
    "# with open(\"questions.json\", \"w\") as f:\n",
    "#     for item in output_list:\n",
    "#         f.write(json.dumps(item) + \"\\n\")\n",
    "# ! head -n 3 questions.json"
   ]
  },
  {
   "cell_type": "code",
   "execution_count": 131,
   "id": "5f0169a7-29e8-49cf-a38a-5bb46ecef55c",
   "metadata": {
    "tags": []
   },
   "outputs": [
    {
     "data": {
      "text/plain": [
       "list"
      ]
     },
     "execution_count": 131,
     "metadata": {},
     "output_type": "execute_result"
    }
   ],
   "source": [
    "type(output_list)"
   ]
  },
  {
   "cell_type": "code",
   "execution_count": 132,
   "id": "9040c845-d47a-47dd-a769-9bfcd5b1f562",
   "metadata": {
    "tags": []
   },
   "outputs": [],
   "source": [
    "# import json\n",
    "\n",
    "# # Your input JSON string\n",
    "\n",
    "# # with open(\"questions.json\", \"w\") as f:\n",
    "# #     for item in output_list:\n",
    "# #         print(item)\n",
    "# #         item_nospace = {key: value.replace(' ', '') if isinstance(value, str) else value for key, value in item.items()}\n",
    "# #         f.write(json.dumps(item_nospace) + \"\\n\")\n",
    "\n",
    "# with open(\"questions.json\", \"w\") as f:\n",
    "#     for item in output_list:\n",
    "#          embedding = item[\"embedding\"].replace(' ', '')\n",
    "#          f.write(json.dumps(question) + \"\\n\")\n",
    "\n",
    "# # print(json_string_no_spaces)\n",
    "# # # Re-encode the dictionary to a formatted JSON string\n",
    "# # formatted_json_string = json.dumps(data, separators=(',', ':'), indent=2)\n",
    "\n",
    "# # print(formatted_json_string)\n",
    "# # ! head -n 3 questions.json"
   ]
  },
  {
   "cell_type": "code",
   "execution_count": 133,
   "id": "38f798b8-a4a1-43a5-a088-5b2ae4b2106a",
   "metadata": {
    "scrolled": true,
    "tags": []
   },
   "outputs": [
    {
     "name": "stdout",
     "output_type": "stream",
     "text": [
      "{\"id\":\"11863\",\"name\":\"wacoal women's embrace lace chemise - 814191\",\"embedding\":[0.024530868977308273,-0.040793128311634064,0.00047576811630278826,0.017147192731499672,0.026629658415913582,-0.06141049787402153,0.020689481869339943,0.032609399408102036,-0.043242260813713074,-0.0030736858025193214,0.029859514907002449,-0.0070092626847326756,0.0074279718101024628,0.0044401995837688446,0.012789646163582802,0.0056940736249089241,-0.050746820867061615,-0.016834203153848648,-0.0025733353104442358,0.030782531946897507,-0.028840042650699615,0.013945236802101135,-0.0078231878578662872,-0.073326528072357178,-0.028099022805690765,-0.091063208878040314,0.016907420009374619,-0.0062174019403755665,0.0086391577497124672,-0.021324845030903816,-0.030394084751605988,-0.042661987245082855,-0.021932870149612427,-0.024862896651029587,0.025864196941256523,0.0095110638067126274,-0.023645631968975067,0.018030215054750443,0.013453914783895016,0.014843377284705639,-0.021920621395111084,0.0013795378617942333,-0.008049551397562027,-0.0019481810741126537,-0.064538702368736267,-0.0091690300032496452,-0.031745024025440216,0.013160046190023422,-0.0055812862701714039,-0.051511391997337341,-0.034813474863767624,-0.04427681490778923,-0.048338469117879868,-0.0033706477843225002,0.079504400491714478,0.028930405154824257,-0.012288942933082581,0.020540427416563034,0.00997206661850214,-0.0080815190449357033,0.034826241433620453,-0.055772155523300171,0.039791896939277649,-0.047629151493310928,-0.023049546405673027,-0.0054811146110296249,-0.005749962292611599,-0.0066005219705402851,-0.00073689589044079185,0.022543923929333687,0.047829858958721161,-0.023717924952507019,-0.018625242635607719,-0.040944643318653107,0.017400316894054413,0.0079149780794978142,0.022023264318704605,-0.014264348894357681,0.035185720771551132,-0.055737756192684174,0.026307474821805954,-0.032621525228023529,-0.082146905362606049,-0.070890501141548157,0.038797758519649506,0.032813116908073425,-0.033462010324001312,-0.0086335595697164536,-0.032480265945196152,0.030566729605197906,-0.020948478952050209,-0.015153571031987667,0.0055873645469546318,0.042684290558099747,-0.028214503079652786,-0.0066657313145697117,-0.0673646554350853,-0.029120024293661118,0.024024475365877151,0.018188707530498505,-0.0077900951728224754,-0.016652395948767662,0.034902341663837433,-0.029990250244736671,0.043491218239068985,0.021248660981655121,-0.016215050593018532,0.021905161440372467,-0.074088491499423981,-0.11639219522476196,-0.042051419615745544,0.0367405004799366,-0.020716719329357147,0.0384451188147068,0.030385289341211319,-0.029232332482933998,0.019791105762124062,-0.00030203119968064129,0.0070682461373507977,0.024266423657536507,-0.057139445096254349,0.0168314129114151,-0.0048368452116847038,-0.046005282551050186,-0.040220458060503006,-0.0050777359865605831,0.038663424551486969,0.015641171485185623,0.0683717206120491,0.013727492652833462,0.023580741137266159,0.025800002738833427,0.037390757352113724,0.014215994626283646,-0.0098280347883701324,0.052923381328582764,0.042442556470632553,0.049353830516338348,-0.0025617741048336029,0.015969227999448776,-0.101860910654068,-0.036268759518861771,-0.011959224939346313,0.019897006452083588,-0.018964005634188652,-0.040887046605348587,0.001492866431362927,-0.060353521257638931,-0.05112650990486145,-0.0881601944565773,-0.00463015167042613,-0.024605618789792061,-0.046009920537471771,0.015227816998958588,0.083471767604351044,0.055114075541496277,0.033028915524482727,0.013892750255763531,0.001736784353852272,-0.05809393897652626,0.013220138847827911,-0.013688343577086926,0.0035501495003700256,-0.03018607571721077,0.020214105024933815,-0.028247423470020294,-0.00094096100656315684,-0.01085735484957695,0.011357137002050877,0.0599856860935688,0.036547057330608368,-0.093496792018413544,0.032329384237527847,-0.048025995492935181,0.061915889382362366,-0.012601272203028202,-0.025568140670657158,0.054340261965990067,0.026335526257753372,-0.040273338556289673,0.0081177419051527977,-0.081776164472103119,-0.022858073934912682,-0.019231811165809631,-0.044647332280874252,0.023686863481998444,-0.013458254747092724,-0.048708859831094742,-0.040526483207941055,0.0427907332777977,-0.029311817139387131,-0.00060664262855425477,-0.024849167093634605,-0.013840390369296074,0.0016717442777007818,0.0029921471141278744,0.086855843663215637,-0.15017712116241455,0.042410075664520264,-0.00096216646488755941,-0.021243836730718613,-0.037187658250331879,0.017442051321268082,0.060480199754238129,-0.0340849943459034,0.0083872079849243164,-0.089482516050338745,-0.016106300055980682,0.050941396504640579,-0.0071017369627952576,0.0051371632143855095,-0.00059280527057126164,0.0255195964127779,0.050932124257087708,0.012188906781375408,-0.027066946029663086,0.032557718455791473,-0.035164892673492432,-0.039837438613176346,-0.030488524585962296,-0.0087310364469885826,-0.012678212486207485,0.031777843832969666,0.020815044641494751,0.029746934771537781,0.022280303761363029,0.037840209901332855,0.025743849575519562,0.026360472664237022,-0.036996711045503616,-0.081752389669418335,0.01092135813087225,-0.020514894276857376,0.00086982554057613015,-0.0044689071364700794,0.10205782949924469,0.0081904381513595581,-0.012558556161820889,-0.046808276325464249,-0.062899507582187653,0.014013092964887619,0.010236272588372231,0.0019369350047782063,0.028365448117256165,-0.0098693743348121643,0.0085351327434182167,0.011848408728837967,-0.03328343853354454,0.032414626330137253,-0.002546247560530901,0.021724136546254158,-0.061822704970836639,0.0077056447044014931,0.012254620902240276,0.042465507984161377,-0.040529187768697739,-0.022896373644471169,-0.025746079161763191,-0.017228852957487106,0.040431465953588486,0.013976014219224453,0.0437922477722168,0.07898414134979248,0.043006081134080887,0.0072787981480360031,-0.025895891711115837,-0.077255196869373322,0.0258529931306839,0.046779647469520569,-0.02917136624455452,-0.01706538163125515,-0.017445309087634087,0.01351596973836422,0.038696859031915665,0.010281023569405079,0.013027392327785492,-0.012262918055057526,0.022460132837295532,0.026825720444321632,0.041943907737731934,-0.018718795850872993,-0.056643377989530563,0.01940213143825531,0.068839304149150848,0.022097771987318993,0.016552450135350227,-0.00648548873141408,0.003333068685606122,-0.052719518542289734,0.023046521469950676,-0.037765804678201675,-0.0098085273057222366,0.022490175440907478,0.054706644266843796,0.012999014928936958,0.01050169114023447,0.046432863920927048,-0.0051089953631162643,-0.020698351785540581,0.01646910049021244,-0.012810796499252319,-0.030057825148105621,0.026339370757341385,-0.023207912221550941,-0.0049620983190834522,0.0046620629727840424,-0.020838906988501549,0.04242919385433197,0.060251671820878983,-0.0068205134011805058,-0.0058946376666426659,0.0089258253574371338,-0.010317021049559116,0.012509041465818882,0.0071431095711886883,0.00091642694314941764,-0.035153798758983612,-0.044869091361761093,-0.07570830732584,0.0067550013773143291,-0.080084823071956635,0.011622893624007702,-0.0030948847997933626,0.066032819449901581,-0.018081037327647209,-0.028912974521517754,0.014701901935040951,-0.0081273121759295464,0.026916865259408951,-0.095327816903591156,0.019338550046086311,-0.044491913169622421,-0.042977370321750641,0.052459064871072769,0.010374348610639572,0.052758090198040009,0.015130159445106983,-0.035151567310094833,-0.034894850105047226,-0.08543037623167038,-0.015835845842957497,-0.022810108959674835,-0.058205481618642807,-0.029196469113230705,0.01000114344060421,-0.0051575507968664169,-0.032990012317895889,0.026253968477249146,-0.044343072921037674,-0.045864541083574295,0.02350398525595665,-0.048464350402355194,0.013036467134952545,0.017190443351864815,0.010492798872292042,-0.020729454234242439,0.028755893930792809,-0.02103029191493988,0.0323096327483654,-0.0094727268442511559,-0.006868001539260149,-0.00098024099133908749,-0.049573339521884918,-0.00050371617544442415,0.017338810488581657,0.0017882171086966991,-0.059696484357118607,-0.0007223699358291924,0.018547503277659416,-0.012126125395298004,-0.025882665067911148,-0.018086383119225502,0.03131011500954628,0.015382379293441772,-0.034425705671310425,-0.00972181186079979,-0.028299441561102867,0.042993098497390747,0.0059609725140035152,0.028224729001522064,-0.0479520820081234,0.056300796568393707,-0.014015494845807552,0.0090788975358009338,-0.0069310409016907215,0.0098787695169448853,0.058729704469442368,0.036074895411729813,0.020683508366346359,-0.039776977151632309,0.0027620373293757439,-0.0023796888999640942,-0.021372321993112564,-0.040584318339824677,-0.026224376633763313,-0.0091802291572093964,-0.053224902600049973,0.0362909771502018,0.0042943353764712811,-9.4159113359637558e-05,0.026834676042199135,0.052755333483219147,-0.076995566487312317,-0.079402536153793335,-0.011251632124185562,0.0099690677598118782,-0.0056884195655584335,0.045417487621307373,-0.00016882576164789498,0.0083759138360619545,0.0633992850780487,-0.026509376242756844,0.011014851741492748,-0.0056952266022562981,0.0085989115759730339,-0.060178309679031372,0.020492220297455788,-0.054264675825834274,0.00038548436714336276,0.02410341240465641,0.053730648010969162,0.010843616910278797,0.027590839192271233,0.010408050380647182,-0.0072660255245864391,0.011779793538153172,-0.095939919352531433,-0.0095131741836667061,0.0086357202380895615,-0.03865109384059906,-0.028358148410916328,-0.015010683797299862,0.019045416265726089,-0.0059228339232504368,-0.0755491703748703,-0.07522428035736084,0.021174089983105659,0.075554393231868744,0.0039555062539875507,-0.044804327189922333,-0.025703350082039833,0.047739464789628983,-0.061268988996744156,0.02589661069214344,-0.032175600528717041,-0.032020732760429382,0.029802730306982994,-0.044982589781284332,-0.053544975817203522,-0.0068680834956467152,-0.012180367484688759,-0.00892695039510727,0.039017029106616974,0.068760126829147339,0.0025496280286461115,0.033272452652454376,0.022672070190310478,-0.065565101802349091,-0.021974166855216026,-0.0026608987245708704,-0.053039707243442535,0.014983180910348892,0.03173525258898735,0.02701961062848568,-0.0015418867114931345,-0.037783630192279816,0.036301705986261368,0.012505990453064442,-0.014652537181973457,0.041675016283988953,-0.0021603109780699015,0.029955280944705009,-0.040177710354328156,-0.0046530072577297688,0.075951263308525085,0.0075053866021335125,0.024015633389353752,0.024155713617801666,-0.062767975032329559,-0.0095573924481868744,-0.033488374203443527,-0.014038443565368652,-0.035294763743877411,-0.04610036313533783,0.047670736908912659,0.039906442165374756,0.022212887182831764,-0.055783841758966446,0.025279786437749863,0.048422638326883316,0.024685200303792953,-0.0048854672349989414,-0.0017897707875818014,-0.0049101244658231735,0.055619116872549057,0.0086486022919416428,-0.0093186311423778534,0.0313420370221138,0.034851390868425369,-0.037986431270837784,0.0380852036178112,0.01675182580947876,0.0085314372554421425,0.00079775264021009207,-0.012675176374614239,-0.00086200342047959566,-0.0093289222568273544,-0.00020428876450750977,-0.019296634942293167,0.015750076621770859,-0.033807825297117233,-0.011686782352626324,0.0076404246501624584,0.00513467937707901,-0.05752824991941452,-0.082032598555088043,0.0014584626769647002,0.062373872846364975,-0.012656869366765022,-0.0087263118475675583,0.0094135534018278122,-0.00235772505402565,0.0060889157466590405,0.044313922524452209,0.053418960422277451,0.0752813071012497,0.0056178034283220768,-0.055326662957668304,-0.067632183432579041,0.04343361034989357,0.0450504906475544,0.034624889492988586,0.006949275266379118,0.009428560733795166,0.0038527150172740221,-0.020887900143861771,0.04308762401342392,0.023858075961470604,0.026946313679218292,0.0366373173892498,-0.0010360800661146641,-0.034203715622425079,0.039870575070381165,0.022269668057560921,0.07165372371673584,0.087397955358028412,0.024625999853014946,0.066822081804275513,0.020196530967950821,0.040220573544502258,-0.032292064279317856,-0.094758890569210052,-0.022695261985063553,0.052570033818483353,0.03306690976023674,-0.035054821521043777,-0.030653057619929314,-0.088685572147369385,-0.040578827261924744,-0.014793972484767437,-0.0037265564315021038,-0.019342636689543724,-0.002964129438623786,-0.044648390263319016,0.02201150543987751,-0.096598044037818909,0.015702718868851662,0.046250373125076294,0.0045402683317661285,0.05517943948507309,0.061812013387680054,-0.075800046324729919,-0.012971668504178524,0.02003030851483345,0.01085840817540884,0.064194120466709137,-0.014240780845284462,0.0499708466231823,-0.021620728075504303,0.0035016038455069065,-0.0063117174431681633,0.031899116933345795,-0.0021724032703787088,-0.02025260217487812,-0.0058270096778869629,-0.029683034867048264,-0.0025771358050405979,-0.023432796820998192,0.00022744883608538657,-0.040489841252565384,0.011506937444210052,-0.089830763638019562,0.048826891928911209,0.025631900876760483,-0.033584382385015488,-0.025766313076019287,0.0094252424314618111,0.027470052242279053,0.029060592874884605,0.031851079314947128,0.0020505210850387812,-0.011135139502584934,0.032594680786132812,-0.058864351361989975,0.029071895405650139,-0.033763375133275986,0.042984042316675186,-0.0077073248103260994,0.043975874781608582,-0.027872195467352867,0.0036887556780129671,0.0051250397227704525,0.038081221282482147,0.0012628415133804083,-0.073064297437667847,0.014817895367741585,-0.03112482838332653,0.04555259644985199,0.032038144767284393,0.0241865087300539,0.063715547323226929,-0.044297970831394196,0.0019881881307810545,0.0020013288594782352,0.024878555908799171,0.070742480456829071,0.005450777243822813,-0.0021110326051712036,-0.048206605017185211,-0.045401040464639664,-0.007294192910194397,-0.014740629121661186,-0.041368246078491211,-0.028626134619116783,0.0064073037356138229,-0.024207292124629021,-0.049498043954372406,0.00052568822866305709,0.01754385232925415,0.017700724303722382,0.013580745086073875,-0.0039957370609045029,-0.027335699647665024,-0.010050814598798752,-0.021305518224835396,-0.010202860459685326,-0.010496604256331921,0.015593424439430237,0.0043306457810103893,-0.029841771349310875,-0.0096399849280714989,-0.028663258999586105,0.00084871315630152822,-0.099095933139324188,-0.048373814672231674,0.020565498620271683,-0.016124933958053589,-0.00777638703584671,-0.039693821221590042,0.047247294336557388,-0.008205953985452652,-0.015027991496026516,0.048506081104278564,-0.012502356432378292,-0.044449977576732635,0.04849914088845253,0.02711067907512188,0.0062796720303595066,-0.021222503855824471,0.014854498207569122,-0.030289025977253914,-0.02342613972723484,0.00743856281042099,-0.038202796131372452,0.020487837493419647,-0.017059536650776863,0.029456622898578644,0.068667292594909668,-0.0046340418048202991,-0.0060735424049198627,-0.023102132603526115,0.017920823767781258,0.022385913878679276,-0.0066987690515816212,-0.023259777575731277,-0.0029578045941889286,-0.00933670625090599,0.061357934027910233,0.051680654287338257,-0.0045741735957562923,0.015281303785741329,0.015126295387744904,-0.0056199105456471443,-0.0088018141686916351,0.030623922124505043,-0.0076204510405659676,-0.022442879155278206,0.042155511677265167,-0.00267305807210505,-0.00714292423799634,-0.075346887111663818,0.0075820442289114,-0.037335172295570374,-0.0067555094137787819,0.0704963207244873,0.017988003790378571,-0.047304078936576843,-0.011715016327798367,-0.062190301716327667,-0.029741743579506874,-0.0052689523436129093,-0.0062427138909697533,0.053515292704105377,-0.0024256317410618067,-0.022741097956895828,0.037524297833442688,-0.076188132166862488,0.015404161997139454,0.038748946040868759,0.0027085556648671627,0.030968017876148224,-0.017451690509915352,0.027111435309052467,-0.03577268123626709,-0.018581055104732513,0.010632872581481934,0.01042613573372364,-0.011205912567675114,0.0071428087539970875,0.076384112238883972,-0.040410228073596954,0.010098931379616261,0.048534676432609558,0.046572189778089523,0.020653275772929192,-0.0090518677607178688,0.060298755764961243,-0.057761345058679581,0.0550248958170414,-0.077249892055988312,-0.010213135741651058,0.0323222316801548,0.0060217268764972687,-0.01935386098921299,0.060236379504203796,0.029063152149319649,0.054347038269042969,-0.0079098166897892952,-0.040403660386800766,-0.011306465603411198,-0.028101198375225067,-0.012190732173621655,-0.0017571168718859553,0.032280255109071732,-0.024971120059490204,0.033544700592756271,0.054850861430168152,0.042531691491603851,-0.027751056477427483,0.041389394551515579,-0.024782465770840645,0.019581679254770279,-0.011114966124296188,-0.022669149562716484,0.027811909094452858,-0.010918718762695789,-0.025218777358531952,-0.029402086511254311]}\n",
      "{\"id\":\"19536\",\"name\":\"original penguin men's pro-bro mock sweater\",\"embedding\":[0.015607465989887714,0.0183266568928957,0.080682516098022461,0.017434950917959213,0.069077461957931519,-0.045486584305763245,-0.0088253971189260483,0.050804123282432556,-0.001976656261831522,-0.029798813164234161,0.022726912051439285,-0.00234892126172781,-0.00073063006857410073,0.028171908110380173,-0.028192635625600815,-0.015361728146672249,-0.052283301949501038,-0.0682579055428505,0.026409944519400597,0.039736941456794739,-0.039374981075525284,0.0131946736946702,0.014702602289617062,-0.063519127666950226,0.014987800270318985,-0.095768243074417114,0.011304846964776516,0.000551788427401334,0.00072988547617569566,-0.0088379206135869026,-0.026253005489706993,0.030891045928001404,-0.043121267110109329,0.013170428574085236,-0.031216876581311226,0.027838950976729393,-0.017989810556173325,0.021288242191076279,-0.0007010178524069488,0.013883286155760288,-0.0088759502395987511,0.00085981620941311121,0.043698355555534363,-0.029181111603975296,-0.040163204073905945,0.010476973839104176,-0.011529208160936832,0.0003870616783387959,0.028990823775529861,-0.057718683034181595,-0.001186089706607163,0.0049006585031747818,0.029126059263944626,-0.0098153324797749519,0.024518677964806557,0.041879225522279739,-0.015009559690952301,0.010081203654408455,-0.050433721393346786,0.015394301153719425,-0.0083391070365905762,-0.038404703140258789,0.015223373658955097,-0.049006212502717972,-0.0016682402929291129,0.025518855080008507,-0.0026044207625091076,-0.017941085621714592,0.0052760704420506954,-0.024487510323524475,0.0034908992238342762,0.0022194511257112026,-0.0640760064125061,-0.014045839197933674,0.049448326230049133,-0.025317514315247536,0.010326323099434376,0.034999951720237732,-0.0010766662890091538,-0.033490121364593506,-0.013194696977734566,0.023514244705438614,-0.054207250475883484,-0.081025473773479462,0.0088170543313026428,0.027435880154371262,0.018389798700809479,0.0018723971443250775,-0.0094181466847658157,0.057644590735435486,-0.040454383939504623,-0.014666405506432056,0.05173245444893837,0.04826890304684639,-0.030519085004925728,-0.02202148549258709,-0.012478458695113659,0.019670329988002777,-0.0014029456069692969,0.01149088516831398,-0.012214661575853825,-0.043905075639486313,-0.00425012456253171,0.0057841870002448559,0.051894322037696838,0.0053791753016412258,-0.038984041661024094,0.051531855016946793,-0.0068997801281511784,-0.062307897955179214,-0.073198877274990082,0.042918466031551361,-0.023630330339074135,0.046108372509479523,0.021534571424126625,-0.025131911039352417,-0.0065359743312001228,-0.010991644114255905,-0.0019884281791746616,0.017121352255344391,-0.0086533045396208763,0.0075769182294607162,-0.01200304739177227,-0.011232293210923672,0.0035000185016542673,0.013062696903944016,0.042110580950975418,-0.017232010141015053,-0.008865932933986187,0.053776834160089493,0.04577859491109848,0.026872921735048294,0.031621716916561127,-0.047941904515028,0.027940791100263596,0.058250438421964645,-0.030673664063215256,0.0039619957096874714,0.019762653857469559,0.029613524675369263,-0.044477969408035278,-0.042998041957616806,-0.052053414285182953,0.0021495106630027294,0.017734242603182793,-0.035078972578048706,0.013379951938986778,-0.0083201974630355835,-0.065131381154060364,0.011407265439629555,-0.023803053423762321,-0.0681355819106102,-0.02143104188144207,0.014851590618491173,0.026682917028665543,0.023012030869722366,0.069120541214942932,0.011646712198853493,-0.031479794532060623,-0.051275134086608887,-0.0272337906062603,-0.042435400187969208,0.024186160415410995,0.038011524826288223,0.0044095977209508419,0.00088975927792489529,-0.012489038519561291,-0.0017066759755834937,-0.011216579936444759,0.052126795053482056,0.0098350802436470985,-0.12040363997220993,0.031780123710632324,-0.031947910785675049,0.075661100447177887,-0.0028910043183714151,-0.036159329116344452,0.034703459590673447,0.020066197961568832,-0.0027792814653366804,-0.034750279039144516,-0.0726492628455162,-0.010938442312180996,-0.025946585461497307,-0.022982519119977951,0.038685277104377747,0.00017957189993467182,0.0055845882743597031,-0.013173813931643963,0.05441448837518692,-0.0089553967118263245,-0.0068871635012328625,-0.0416058786213398,-0.086907945573329926,-0.048134800046682358,-0.0276094488799572,0.060775864869356155,-0.16682726144790649,0.024810792878270149,0.038156148046255112,-0.0388907864689827,0.017386410385370255,0.056232769042253494,-0.0078893015161156654,-0.011138956062495708,-0.015883056446909904,-0.0475514680147171,0.049561973661184311,0.059008512645959854,-0.00482440460473299,-0.011258809827268124,-0.020531225949525833,0.052705928683280945,0.01496756449341774,0.011168455705046654,-0.035835772752761841,0.011876516044139862,-0.047539647668600082,-0.081585332751274109,-0.032937437295913696,-0.034785136580467224,0.027124494314193726,0.041986830532550812,0.022785324603319168,0.011878540739417076,-0.0049994243308901787,0.0704258531332016,-0.0075991419143974781,0.031460799276828766,0.017778651788830757,-0.04184405505657196,-0.011094974353909492,-0.029147718101739883,0.040634892880916595,-0.0058347489684820175,0.042826082557439804,-0.022309385240077972,-0.039617080241441727,-0.058123692870140076,0.014435634016990662,-0.016142271459102631,0.094162695109844208,-0.02930142730474472,0.057936348021030426,-0.010221345350146294,0.02742219902575016,0.0088004684075713158,0.043555319309234619,0.03650771826505661,-0.0042860913090407848,-0.025700835511088371,-0.096766985952854156,0.016319958493113518,0.003562271362170577,0.0032673189416527748,-0.044061750173568726,0.02975652739405632,0.021957008168101311,-0.0200881939381361,0.039238877594470978,0.054505810141563416,0.088629171252250671,0.014625943265855312,0.095558606088161469,-0.020629003643989563,-0.015238335356116295,-0.047847006469964981,0.0070397285744547844,0.078490652143955231,0.002688306150957942,0.021859288215637207,0.0060853050090372562,0.050289701670408249,-0.025937866419553757,-0.018439628183841705,0.0091124651953578,-0.023365385830402374,0.042955487966537476,0.010290857404470444,0.041195478290319443,0.0077617722563445568,-0.011457247659564018,-0.0059371171519160271,0.0070676063187420368,0.032698947936296463,-0.030688120052218437,-0.0088076135143637657,0.0017744385404512286,-0.0012571259867399931,-0.0036713848821818829,0.031957052648067474,-0.021841881796717644,-0.016589799895882607,0.0713813379406929,0.0030850253533571959,-0.040249940007925034,0.012991198338568211,0.00083855644334107637,-0.028187405318021774,0.038523893803358078,0.00223557255230844,-0.028339602053165436,-0.020871279761195183,-0.015175319276750088,-0.054298564791679382,0.0243766400963068,-7.2207531047752127e-06,-0.013562212698161602,0.031518798321485519,-0.026036761701107025,0.0018181094201281667,0.023386279121041298,-0.0095534706488251686,-0.020518844947218895,-0.058883987367153168,0.02080070972442627,0.0552644282579422,-0.073720365762710571,0.0022386494092643261,0.038199737668037415,-0.013856173492968082,0.037063337862491608,0.045328561216592789,0.06553620845079422,0.057487573474645615,-0.006617110688239336,-0.045271988958120346,0.030652126297354698,0.065100327134132385,-0.065708033740520477,-0.052134819328784943,0.02146383561193943,-0.043368276208639145,-0.015469692647457123,-0.043134305626153946,0.033510018140077591,0.032837092876434326,5.0420203479006886e-05,-0.018190331757068634,-0.0742972269654274,0.013437995687127113,-0.026536561548709869,-0.02275574766099453,-0.022962862625718117,-0.014797805808484554,-0.0039397976361215115,-0.021301457658410072,-0.027799025177955627,-0.055290888994932175,-0.029740044847130775,0.00065579020883888006,0.025944853201508522,-0.014824686571955681,0.039141170680522919,0.0142170125618577,0.022159108892083168,-0.0041332901455461979,-0.0086157564073801041,0.034309890121221542,0.024352708831429482,-0.038123749196529388,-0.00099126342684030533,-0.0562995970249176,0.031008735299110413,0.01390700601041317,-0.0010508052073419094,-0.054504953324794769,0.04864974319934845,0.023201808333396912,-0.010963652282953262,-0.033158943057060242,-0.0048667392693459988,0.010991734452545643,0.040531255304813385,-0.048786398023366928,-0.047782860696315765,-0.017593855038285255,0.055435214191675186,0.020079981535673141,0.022171474993228912,-0.016681589186191559,0.065619230270385742,0.016791902482509613,0.028685780242085457,-0.012848149053752422,0.0050211315974593163,0.06349598616361618,0.041867546737194061,0.00320259528234601,-0.020161250606179237,0.024277541786432266,-0.0095324832946062088,-0.018926259130239487,0.0061046895571053028,-0.019916851073503494,0.0095095960423350334,0.015636570751667023,0.013654204085469246,-0.046397477388381958,-0.047871846705675125,-0.0021674134768545628,0.025891855359077454,-0.077828548848629,-0.048481237143278122,0.0095337796956300735,-0.013839599676430225,0.012696416117250919,0.0719747468829155,0.014516334049403667,-0.020149396732449532,0.067170679569244385,0.029755806550383568,-0.021766230463981628,0.028754131868481636,0.023044133558869362,-0.0043141222558915615,0.030128072947263718,-0.093829795718193054,-0.029516972601413727,-0.0043213525786995888,0.035729769617319107,-0.015030428767204285,-0.058405060321092606,0.019696628674864769,0.026528529822826385,0.046685438603162766,-0.055559240281581879,-0.023010583594441414,-0.036086976528167725,-0.086158826947212219,-0.0065827551297843456,-0.03840835765004158,-0.0093979882076382637,0.0022849752567708492,-0.049057815223932266,-0.062102500349283218,0.085666388273239136,0.069701626896858215,0.00572276022285223,-0.023156449198722839,-0.024532677605748177,0.0186814833432436,-0.00813769269734621,0.027039771899580956,-0.024367639794945717,-0.091968856751918793,0.020633038133382797,-0.082214653491973877,-0.015000095590949059,0.00081085908459499478,0.01826879009604454,-0.030528785660862923,-0.010056881234049797,0.058517713099718094,0.0014543477445840836,-0.0040963948704302311,0.02754882350564003,-0.018840884789824486,-0.023659098893404007,-0.02790147066116333,-0.030845481902360916,0.017264792695641518,-0.015167898498475552,0.050410769879817963,-0.012925011105835438,-0.0050025926902890205,0.033286880701780319,0.0068397009745240211,-0.0052369982004165649,0.048093941062688828,-0.0655118003487587,0.046738829463720322,-0.037456963211297989,-0.01364482194185257,0.04341014102101326,0.029205894097685814,0.026378348469734192,0.013425610959529877,-0.023543629795312881,-0.054574403911828995,-0.038758393377065659,0.012104344554245472,0.050611395388841629,-0.029693072661757469,-0.0092027280479669571,0.027274159714579582,0.027225159108638763,-0.027250835672020912,-0.0041761081665754318,0.025448469445109367,0.049094650894403458,-0.013695339672267437,0.0091457339003682137,0.0021918213460594416,0.044697780162096024,-0.020192481577396393,-0.0055182068608701229,0.010351204313337803,0.035319607704877853,-0.0041676233522593975,0.016649069264531136,0.010138340294361115,0.016172647476196289,0.015230138786137104,-0.031781923025846481,0.02194979228079319,-0.04627334326505661,-0.012165917083621025,-0.020303025841712952,0.045108720660209656,0.013147426769137383,-0.0031074529979377985,-0.029266640543937683,-0.036858819425106049,-0.041510429233312607,-0.072694361209869385,-0.0207371823489666,0.062973387539386749,0.021394293755292892,0.029687022790312767,0.018372558057308197,-0.0060361106880009174,0.019340509548783302,-0.022630244493484497,0.059662733227014542,0.031908977776765823,0.042853269726037979,-0.020869787782430649,-0.022789334878325462,0.02072439156472683,0.02109828032553196,0.069739043712615967,0.033377442508935928,0.015218539163470268,0.02424214594066143,-0.046467944979667664,0.026537878438830376,0.00066595384851098061,0.049961868673563004,0.0744534581899643,-0.037443891167640686,-0.04203377291560173,-0.0018082089954987168,0.033998638391494751,0.014588880352675915,0.01971125602722168,0.020158516243100166,0.022200273349881172,0.010114548727869987,0.0091283190995454788,-0.038898874074220657,-0.058430884033441544,-0.028730632737278938,0.054660871624946594,0.011636304669082165,-0.024119395762681961,0.01377088762819767,-0.051364205777645111,-0.063626207411289215,0.027803532779216766,0.016644088551402092,-0.013173698447644711,0.049739956855773926,-0.0023022338282316923,-0.014409029856324196,-0.029898211359977722,-0.0010120035149157047,0.068671517074108124,0.031486857682466507,-0.0083302399143576622,0.049605943262577057,-0.067236721515655518,0.042486194521188736,-0.04904228076338768,0.023362880572676659,0.029577929526567459,0.005548710934817791,0.012305655516684055,-0.00076479895506054163,0.060804363340139389,-0.027292890474200249,0.018175810575485229,0.030241111293435097,0.0055686985142529011,-0.0079202912747859955,-0.035861663520336151,0.002804711926728487,-0.065395243465900421,-0.029298821464180946,0.012761161662638187,0.050065189599990845,-0.02566835843026638,-0.01718396320939064,0.031606126576662064,-0.042978208512067795,-0.024352174252271652,-0.050208169966936111,0.0013650389155372977,-0.0066814492456614971,-0.025093615055084229,-0.029373779892921448,0.045912712812423706,0.055221099406480789,0.028777876868844032,0.018405763432383537,-0.029795221984386444,0.04006696492433548,0.013166830874979496,0.021217193454504013,0.0042510074563324451,0.049304183572530746,0.027454543858766556,0.022070189937949181,0.020604254677891731,0.0021440980490297079,-0.016938000917434692,-0.01152943167835474,0.053299102932214737,0.061873044818639755,-0.036690399050712585,0.031943712383508682,0.026096401736140251,0.058322906494140625,-0.031553391367197037,0.014368413016200066,0.087430417537689209,0.026048459112644196,-0.0049130306579172611,-0.036161251366138458,-0.013436919078230858,-0.011628173291683197,-0.0046254615299403667,-0.0032473562750965357,-0.079148247838020325,-0.0060157142579555511,-0.025668961927294731,-0.00727642048150301,-0.011448857374489307,0.047036714851856232,0.021134700626134872,-0.014053304679691792,0.058782126754522324,-0.0024568859953433275,0.045911163091659546,-0.014552616514265537,0.022058490663766861,-0.037594273686409,-0.062906630337238312,-0.078913070261478424,0.050187382847070694,0.00399233540520072,-0.039268504828214645,0.027068676427006721,-0.0611448660492897,-0.067168690264225,0.0090645290911197662,0.021813428029417992,-0.036445409059524536,-0.02148127369582653,0.035424984991550446,-0.0068218037486076355,-0.01166309230029583,0.032472569495439529,0.031865689903497696,-0.046993575990200043,0.0065098712220788,0.02460503950715065,0.0088864937424659729,0.00059257820248603821,0.023096174001693726,-0.0553780235350132,-0.00010661595297278836,0.030563393607735634,-0.039687488228082657,0.019758686423301697,-0.063351459801197052,-0.014524097554385662,-0.0075268368236720562,0.0032692542299628258,0.013792106881737709,0.0049127130769193172,-0.020718548446893692,0.031733270734548569,-0.031701505184173584,0.031998418271541595,-0.0090234093368053436,0.03847191110253334,-0.0066327275708317757,-0.027910284698009491,0.068602338433265686,-0.040335368365049362,0.015408345498144627,-0.033229783177375793,-0.041935153305530548,0.016320222988724709,-0.025759326294064522,-0.005053588654845953,-0.025815647095441818,-0.0055748750455677509,0.038400012999773026,-0.026713075116276741,0.0012238672934472561,-0.0065629696473479271,0.018923170864582062,0.021522259339690208,-0.015655431896448135,-0.0476265549659729,0.01492494810372591,-0.051701772958040237,-0.02979109063744545,0.0035237271804362535,-0.0019674296490848064,0.086275942623615265,-0.015086526982486248,-0.012937950901687145,0.066184677183628082,-0.077263161540031433,0.060930322855710983,0.016773825511336327,0.00582924485206604,-0.011222443543374538,0.046594411134719849,-0.021257584914565086,-0.055034786462783813,-0.046962004154920578,-0.016715927049517632,0.016735870391130447,-0.039210252463817596,0.05217946320772171,0.01507265493273735,-0.060641448944807053,-0.045799329876899719,0.036348488181829453,0.036975983530282974,0.0037530723493546247,-0.0070069716311991215,0.079067245125770569,-0.023791730403900146,0.031055068597197533,0.0058663580566644669,-0.01190538052469492,0.0091574117541313171,0.031877551227808,-0.00421439902856946,0.009031686931848526,0.030109915882349014,0.046796377748250961,-0.027908094227313995,-0.0087145492434501648,-0.039071355015039444,-0.042005680501461029,-0.077480912208557129,-0.055250845849514008,0.050442937761545181,-0.034775476902723312,0.10534210503101349,0.034107603132724762,0.085883095860481262,-0.0065179099328815937,0.019077088683843613,-0.005309149157255888,0.0095755597576498985,-0.0096614863723516464,0.066542774438858032,-0.0067559937015175819,0.0367254912853241,0.0025698661338537931,-0.035911291837692261]}\n",
      "{\"id\":\"18090\",\"name\":\"soffe men's classic cotton pocket short\",\"embedding\":[0.026446744799613953,0.021272433921694756,0.034353632479906082,0.016403317451477051,0.0393730066716671,0.011223163455724716,0.010629287920892239,0.02777300588786602,-0.032720897346735,-0.02538299560546875,-0.0123996427282691,0.0015787291340529919,0.058534100651741028,0.046424716711044312,0.0026368573307991028,-0.046062812209129333,-0.063834488391876221,-0.021477364003658295,0.052656795829534531,0.030743608251214027,-0.025214897468686104,0.059467915445566177,-0.004502768162637949,0.0038604920264333487,0.054595988243818283,-0.06494922935962677,0.063677884638309479,0.011508897878229618,-0.0091552827507257462,-0.035352218896150589,-0.012990450486540794,-0.040172901004552841,-0.031276602298021317,-0.0042283372022211552,-0.015495431609451771,0.054276101291179657,0.0080389054492115974,0.040901750326156616,0.030069280415773392,0.062905184924602509,-0.016039837151765823,0.0099341552704572678,0.051007814705371857,0.0090443240478634834,-0.0096793416887521744,-0.00499308668076992,-0.048698727041482925,0.0014148729387670755,0.011514126323163509,-0.045942533761262894,0.00077402847819030285,-0.00092944828793406487,-0.018449900671839714,0.028820523992180824,0.014620411209762096,0.031838361173868179,-0.0050510317087173462,0.027091510593891144,-0.057450465857982635,0.04133567214012146,0.019608143717050552,-0.027666227892041206,0.0037552644498646259,-0.065799437463283539,0.020247763022780418,0.075356334447860718,-0.029611773788928986,0.007530666422098875,0.040414102375507355,-0.045362148433923721,0.030347395688295364,-0.013732174411416054,-0.050243888050317764,-0.0081935971975326538,0.028811128810048103,0.011496582068502903,0.020021896809339523,0.047134373337030411,0.020432034507393837,-0.05009908601641655,-0.025329748168587685,-0.05150226503610611,-0.057717591524124146,-0.0688876062631607,0.00017567782197147608,0.01617872528731823,0.0020532526541501284,-0.011844069696962833,-0.018361732363700867,-0.0043901866301894188,-0.050660442560911179,-0.0044163698330521584,-0.0063093705102801323,0.068645305931568146,-0.045547056943178177,0.02806854248046875,-0.030322887003421783,0.0092247063294053078,0.00089121656492352486,-0.0089118890464305878,-0.026080310344696045,-0.024317832663655281,0.010643040761351585,-0.0535493865609169,0.030577702447772026,0.012214213609695435,0.012082650326192379,0.029595881700515747,-0.0089188637211918831,-0.11106455326080322,-0.0717521458864212,0.037943661212921143,-0.038424503058195114,0.050712369382381439,0.031343597918748856,-0.060335028916597366,0.019272124394774437,0.020991932600736618,0.00040005124174058437,0.04322906956076622,-0.061079148203134537,-0.02471570298075676,0.040717847645282745,0.0061895637772977352,0.021956931799650192,-0.0104037681594491,0.012374429032206535,0.007482750341296196,0.018365439027547836,0.01426814217120409,0.025218689814209938,0.036430615931749344,0.037863228470087051,-0.0189590435475111,-0.015365391038358212,0.045946266502141953,-0.00943075679242611,-0.0021515900734812021,0.033063970506191254,0.032812323421239853,-0.05854661762714386,-0.01202106662094593,-0.046464841812849045,0.014961357228457928,0.016701549291610718,-0.030394716188311577,-0.00899952556937933,0.0031344955787062645,-0.058628175407648087,0.0088867098093032837,0.053960517048835754,-0.0048940367996692657,-0.012205051258206367,0.065998904407024384,0.057545289397239685,0.050292570143938065,0.081421099603176117,0.034109488129615784,-0.042754776775836945,-0.040511887520551682,-0.019038224592804909,-0.00049548601964488626,0.041133522987365723,-0.0018311011372134089,0.006780815776437521,-4.5093169319443405e-05,-0.0007102329982444644,-0.016730152070522308,-0.028074219822883606,0.096308298408985138,0.029360927641391754,-0.10025425255298615,0.018464202061295509,0.0378291979432106,0.045347727835178375,-0.019485818222165108,0.020513735711574554,0.077154941856861115,0.0018135616555809975,-0.0097671821713447571,0.010156231932342052,-0.034794341772794724,-0.051367174834012985,-0.047388128936290741,-0.030539773404598236,0.0217047818005085,-0.047289863228797913,0.023617412894964218,-0.0422469899058342,0.05982908234000206,-0.040154300630092621,-0.0045472588390111923,-0.017314046621322632,-0.0637444406747818,-0.020903946831822395,-0.066171668469905853,0.02644040435552597,-0.11885583400726318,0.029971053823828697,0.080376662313938141,-0.011520464904606342,-0.032387875020504,0.026496514678001404,0.0051469397731125355,-0.014883538708090782,0.0058310697786509991,-0.069936685264110565,0.047454651445150375,0.049600765109062195,-0.017298555001616478,-0.025304565206170082,-0.0049626636318862438,0.045599948614835739,0.053388487547636032,0.022084139287471771,-0.030944658443331718,0.037329442799091339,-0.06853707879781723,-0.087858878076076508,0.027408309280872345,-0.037163820117712021,-0.0012785956496372819,-0.0052330046892166138,0.059094082564115524,-0.01627977192401886,-0.00722659844905138,0.04984196275472641,0.015955254435539246,0.01154943834990263,0.0023130986373871565,-0.0021609240211546421,-0.02190440334379673,-0.06602846086025238,0.018999155610799789,-0.0044578327797353268,0.053708724677562714,-0.0031394695397466421,-0.036979395896196365,-0.03041822649538517,-0.0401739627122879,-0.00394981075078249,0.080244369804859161,-0.039643220603466034,0.033692933619022369,-0.036613330245018005,0.011724394746124744,-0.0085561443120241165,0.016274549067020416,0.030838638544082642,-0.0030449314508587122,0.010487942956387997,-0.078839294612407684,0.012502635829150677,-0.0069380863569676876,0.012395269237458706,-0.024696677923202515,0.059734106063842773,0.030056323856115341,0.025542149320244789,0.0071838684380054474,0.012726373970508575,0.010992794297635555,-0.010515041649341583,0.090799801051616669,-0.024853149428963661,-0.018350614234805107,-0.021935215219855309,0.006718057207763195,0.031297843903303146,-0.030300633981823921,-0.012211107648909092,-0.014456070959568024,0.031425803899765015,0.044518303126096725,0.0030292235314846039,-0.0031644080299884081,-0.019704222679138184,0.042288605123758316,-0.018532322719693184,0.028281183913350105,0.011922875419259071,-0.039698183536529541,0.04334414005279541,0.029161006212234497,-0.031314302235841751,-0.034958586096763611,-0.024625964462757111,-0.024268949404358864,-0.012701133266091347,-0.022121144458651543,0.028152642771601677,0.0061151008121669292,0.008793216198682785,0.065896354615688324,-0.01941436342895031,-0.053705167025327682,0.025274895131587982,-0.0034277231898158789,0.01616547629237175,0.05156206339597702,0.020082201808691025,-0.0369730070233345,0.019084207713603973,-0.073878377676010132,-0.021362654864788055,0.019036181271076202,0.032448034733533859,-0.02916155569255352,0.046232961118221283,-0.011021827347576618,-0.0401037372648716,0.027265226468443871,0.0063625779002904892,0.0274064801633358,-0.063629962503910065,0.033361721783876419,0.057953536510467529,-0.045938972383737564,-0.035427834838628769,0.044222962111234665,-0.037259742617607117,0.0018342981347814202,0.078298322856426239,0.036275994032621384,0.017902370542287827,0.025039616972208023,0.017735287547111511,-0.012160203419625759,0.038653526455163956,-0.061336304992437363,-0.026897415518760681,0.0058021834120154381,-0.017161866649985313,0.028054015710949898,-0.023369282484054565,0.079732701182365417,0.003783367108553648,-0.037309009581804276,-0.017154339700937271,-0.075125038623809814,-0.032437071204185486,0.028694018721580505,-0.0064117182046175,0.0070801400579512119,-0.022797733545303345,0.010809828527271748,-0.00823235884308815,-0.04947112500667572,-0.077442802488803864,-0.075856409966945648,-0.0023094362113624811,0.0093888556584715843,0.0076991189271211624,0.037356823682785034,0.029702713713049889,0.0095038218423724174,-0.030104236677289009,0.019550465047359467,0.037875480949878693,0.010549556463956833,-0.037050943821668625,0.0047283610329031944,-0.07574029266834259,0.018328141421079636,-0.00988966878503561,0.0034468425437808037,-0.0046068141236901283,0.04039224237203598,0.022391233593225479,0.012035160325467587,0.0064041144214570522,-0.046855628490448,0.037422407418489456,0.068395271897315979,-0.039420463144779205,-0.011242290027439594,-0.037472646683454514,0.023980673402547836,-0.013294297270476818,0.044334478676319122,-0.026596495881676674,0.055204916745424271,0.02017827145755291,0.037329237908124924,-0.01676594465970993,0.0028978039044886827,0.00914450827986002,-0.00065244344295933843,-0.037143871188163757,-0.0015250633005052805,0.012996340170502663,0.046816602349281311,-0.01849963515996933,0.018582133576273918,-0.010034826584160328,0.0056493966840207577,0.029118036851286888,-0.00485627306625247,0.014769550412893295,-0.040911857038736343,-0.017784159630537033,0.023934217169880867,-0.054039057344198227,-0.035280771553516388,-0.023080529645085335,0.0072708232328295708,0.021480672061443329,0.014941923320293427,-0.012223283760249615,0.0040803835727274418,0.0085431579500436783,0.027696315199136734,-0.018238291144371033,-0.0026006149128079414,0.019557759165763855,-0.010206760838627815,-0.035012885928153992,-0.046289268881082535,-0.049274936318397522,-0.00052167102694511414,-0.0050335125997662544,0.013620126061141491,-0.020661791786551476,0.028446784242987633,0.01576574333012104,0.00603592861443758,-0.084473729133605957,0.029469724744558334,-0.035356897860765457,-0.060035739094018936,0.016490666195750237,-0.021755017340183258,-0.029189925640821457,-0.01414908654987812,-0.057170424610376358,-0.031279828399419785,0.0539696142077446,0.11599588394165039,0.034637883305549622,0.02244650200009346,-0.059132911264896393,0.012282012961804867,-0.044639036059379578,0.019393274560570717,-0.039672981947660446,-0.045307677239179611,0.0013989720027893782,-0.015996020287275314,0.020809702575206757,-0.007733603473752737,-0.012138679623603821,0.020331753417849541,-0.00088859925745055079,0.0880805030465126,-0.0035789450630545616,0.011816047132015228,-0.0340096615254879,-0.057403679937124252,0.02989373542368412,-0.026215717196464539,-0.033956952393054962,0.0027271993458271027,-0.019149994477629662,0.046110738068819046,0.0061603905633091927,0.011827422305941582,-0.017372732982039452,0.01641363836824894,-0.017050234600901604,0.042225856333971024,-0.026943197473883629,-0.017065186053514481,-0.039749935269355774,0.017290165647864342,0.039220720529556274,-0.020607057958841324,0.02262052521109581,0.016253286972641945,-0.025401944294571877,-0.078711472451686859,-0.029191192239522934,-0.028830483555793762,0.072553083300590515,-0.00019535199680831283,0.064947739243507385,0.0660196989774704,0.066590122878551483,-0.020125690847635269,-0.055585369467735291,0.039295420050621033,0.053880997002124786,-0.043968331068754196,0.010898931883275509,0.03173992782831192,0.051464445888996124,0.030021375045180321,-0.043458219617605209,0.021566584706306458,0.027293859049677849,0.029021060094237328,0.046510703861713409,0.0044577200897037983,0.010866031050682068,-0.01530007366091013,-0.014933440834283829,0.031087137758731842,0.011869100853800774,-0.019615970551967621,-0.0070149418897926807,0.0098234917968511581,-0.027155458927154541,-0.030922096222639084,0.014495406299829483,-0.029957784339785576,-0.036870948970317841,-0.075006313621997833,0.01674988865852356,0.013176782988011837,-0.011337388306856155,0.012430701404809952,0.016950102522969246,-0.0049263797700405121,0.0560685358941555,0.011129133403301239,0.083951368927955627,0.035293001681566238,-0.015971893444657326,-0.034975681453943253,-0.053159855306148529,-0.024033389985561371,0.025258632376790047,0.019529072567820549,-0.010302161797881126,0.0097869075834751129,-0.011190931312739849,-0.035456389188766479,0.030896799638867378,0.016799231991171837,0.021336892619729042,0.086638584733009338,-0.029036844149231911,-0.050481457263231277,0.022686241194605827,0.060980029404163361,0.023128127679228783,-0.001058727502822876,0.026587484404444695,0.04041709378361702,-0.012504244223237038,0.023415796458721161,0.019459521397948265,-0.08305320143699646,-0.053527910262346268,0.056869249790906906,0.01756993867456913,0.023258829489350319,-0.0078040868975222111,-0.053534321486949921,-0.069220013916492462,0.042686458677053452,-0.0083805946633219719,0.0058398568071424961,-0.0080486936494708061,0.0025546890683472157,-0.020556008443236351,-0.054677985608577728,0.0800304189324379,0.029343286529183388,0.053856179118156433,0.038045533001422882,0.011796079576015472,-0.063691906630992889,0.00037773881922475994,-0.0050874422304332256,-0.021490015089511871,0.078761450946331024,-0.032762493938207626,0.02973179891705513,0.0089851208031177521,0.0080291992053389549,0.016390392556786537,0.012262500822544098,0.011296036653220654,0.044780761003494263,0.0049705365672707558,-0.04407748207449913,0.037483625113964081,-0.058276437222957611,-0.014542609453201294,-0.024676127359271049,0.053206320852041245,-0.057973001152276993,0.008311157114803791,0.011473617516458035,-0.021569810807704926,-0.05934649333357811,-0.045083574950695038,0.032193917781114578,-0.0075841676443815231,-6.9866706326138228e-05,-0.019194256514310837,0.024499949067831039,0.059510055929422379,0.032682213932275772,-0.0084872152656316757,0.0070887552574276924,0.07782968133687973,0.012040374800562859,0.020246546715497971,0.042597338557243347,0.050467938184738159,0.032562166452407837,0.034192644059658051,-0.013617541640996933,-0.077897153794765472,-0.024789456278085709,-0.057566601783037186,-0.0022585971746593714,0.024004425853490829,-0.034002713859081268,0.03038332611322403,0.017886204645037651,0.010046020150184631,-0.064201071858406067,0.019809052348136902,0.03064112551510334,0.029476355761289597,-0.00035697207204066217,-0.067939929664134979,-0.0063124331645667553,-0.048621445894241333,-0.02247084304690361,-0.036991402506828308,-0.060966450721025467,0.0030362098477780819,-0.03086143359541893,-0.013305749744176865,0.012007715180516243,0.033789802342653275,0.05420248955488205,0.019820177927613258,0.038193561136722565,-0.033519018441438675,-0.0025982684455811977,-0.019124768674373627,0.0023355612065643072,-0.021435022354125977,-0.057560086250305176,-0.022254204377532005,0.039600495249032974,0.016123464331030846,-0.0407133474946022,-0.021454522386193275,-0.051239293068647385,-0.021209739148616791,0.013839034363627434,-0.019406724721193314,-0.063497059047222137,-0.012751261703670025,0.016608009114861488,0.042413882911205292,0.043863352388143539,0.047281030565500259,0.00828094407916069,0.0083807045593857765,0.048436500132083893,0.055505570024251938,0.037055760622024536,0.033333901315927505,0.028818242251873016,-0.020205523818731308,-0.035228550434112549,0.043079644441604614,-0.045609742403030396,0.02752331830561161,-0.053797047585248947,0.024181781336665154,0.00045368474093265831,-0.0013822094770148396,-0.00018816332158166915,-0.037863396108150482,0.0057311984710395336,-0.0047101425006985664,-0.023720625787973404,0.034855421632528305,-0.019487045705318451,-0.024229466915130615,0.034837551414966583,-0.03581441193819046,0.0038667889311909676,-0.040937729179859161,0.029419997707009315,0.008390398696064949,-0.041347723454236984,0.0018686964176595211,-0.053630635142326355,0.027741597965359688,0.00736470939591527,-0.0094844121485948563,0.057077027857303619,-0.018430415540933609,-0.012884236872196198,0.011417639441788197,-0.016811460256576538,0.0513540618121624,-0.025516746565699577,-0.030255360528826714,0.011389993131160736,-0.041354577988386154,-0.0081590590998530388,0.011995534412562847,-0.011845105327665806,0.078620016574859619,-0.010479357093572617,0.015298499725759029,0.040908228605985641,-0.080773711204528809,0.0089677674695849419,0.0081826178357005119,0.022076698020100594,-0.019606707617640495,0.067619547247886658,0.034406337887048721,-0.066871173679828644,-0.054464463144540787,-0.074832111597061157,0.00021873385412618518,-0.035710107535123825,0.029886702075600624,-0.0016239619581028819,-0.047355014830827713,-0.018570557236671448,0.046634592115879059,0.0063789295963943005,0.0081610474735498428,-0.022671759128570557,0.043166253715753555,-0.013171280734241009,0.041472069919109344,-0.018566057085990906,-0.062428392469882965,0.011903475038707256,-0.0001774058910086751,-0.047586087137460709,-0.019978458061814308,0.033397592604160309,0.043771069496870041,0.00082000979455187917,-0.033478692173957825,-0.076691776514053345,-0.043023120611906052,-0.023221714422106743,-0.016430078074336052,0.046926967799663544,-0.017864510416984558,0.075793862342834473,0.018692987039685249,0.065409928560256958,-0.016894107684493065,0.013833385892212391,0.01508934423327446,0.015537145547568798,0.013194643892347813,0.011279760859906673,0.0022432012483477592,0.0091404635459184647,-0.0064489184878766537,-0.0416882187128067]}\n"
     ]
    }
   ],
   "source": [
    "! head -n 3 product-embs.json"
   ]
  },
  {
   "cell_type": "code",
   "execution_count": 78,
   "id": "239a0689-0e4a-4a2b-b0ca-c9a757cac594",
   "metadata": {
    "scrolled": true,
    "tags": []
   },
   "outputs": [],
   "source": [
    "# # save id and embedding as a json file\n",
    "# jsonl_string = df_exploded_2a[[\"id\", \"embedding\"]].to_json(orient=\"records\", lines=True)\n",
    "# with open(\"questions.json\", \"w\") as f:\n",
    "#     f.write(jsonl_string)\n",
    "\n",
    "# # show the first few lines of the json file\n",
    "# ! head -n 3 questions.json"
   ]
  },
  {
   "cell_type": "markdown",
   "id": "29050a79-1096-4173-a2d4-4b34c4b67440",
   "metadata": {},
   "source": [
    "### Upload the Json File to matching engine"
   ]
  },
  {
   "cell_type": "code",
   "execution_count": 437,
   "id": "2895540c-bf41-43b9-af36-dcb631b04f72",
   "metadata": {
    "tags": []
   },
   "outputs": [],
   "source": [
    "# define project information\n",
    "if PROJECT_ID == \"(unset)\":\n",
    "    PROJECT_ID = \"[your-project-id]\"  # @param {type:\"string\"}\n",
    "\n",
    "# generate an unique id for this session\n",
    "from datetime import datetime\n",
    "\n",
    "UID = datetime.now().strftime(\"%m%d%H%M\")\n",
    "\n",
    "BUCKET_URI_ME=\"gs://my-project-0004-346516/matchingengine/embedding\"\n",
    "LOCATION = 'us-central1'\n",
    "\n",
    "from google.cloud import aiplatform\n",
    "\n",
    "aiplatform.init(project=PROJECT_ID, location=LOCATION)"
   ]
  },
  {
   "cell_type": "code",
   "execution_count": 438,
   "id": "aea939d8-35dd-4a12-816b-d1975c35dc90",
   "metadata": {
    "tags": []
   },
   "outputs": [
    {
     "name": "stdout",
     "output_type": "stream",
     "text": [
      "Copying file://questions.json [Content-Type=application/json]...\n",
      "/ [1 files][244.5 KiB/244.5 KiB]                                                \n",
      "Operation completed over 1 objects/244.5 KiB.                                    \n"
     ]
    }
   ],
   "source": [
    "! gsutil cp questions.json {BUCKET_URI_ME}\n"
   ]
  },
  {
   "cell_type": "code",
   "execution_count": 439,
   "id": "b68e881f-fb55-4a09-8734-65b7e7dc6300",
   "metadata": {
    "tags": []
   },
   "outputs": [
    {
     "data": {
      "text/plain": [
       "'gs://my-project-0004-346516/matchingengine/embedding'"
      ]
     },
     "execution_count": 439,
     "metadata": {},
     "output_type": "execute_result"
    }
   ],
   "source": [
    "BUCKET_URI_ME"
   ]
  },
  {
   "cell_type": "code",
   "execution_count": 440,
   "id": "ddc5464e-f119-4d34-8caa-e86ffd9f537c",
   "metadata": {
    "tags": []
   },
   "outputs": [
    {
     "name": "stdout",
     "output_type": "stream",
     "text": [
      "Creating MatchingEngineIndex\n",
      "Create MatchingEngineIndex backing LRO: projects/255766800726/locations/us-central1/indexes/1757428599511580672/operations/2186844996043276288\n",
      "MatchingEngineIndex created. Resource name: projects/255766800726/locations/us-central1/indexes/1757428599511580672\n",
      "To use this MatchingEngineIndex in another session:\n",
      "index = aiplatform.MatchingEngineIndex('projects/255766800726/locations/us-central1/indexes/1757428599511580672')\n"
     ]
    }
   ],
   "source": [
    "\n",
    "# create Index\n",
    "my_index = aiplatform.MatchingEngineIndex.create_tree_ah_index(\n",
    "    display_name=f\"vs-feature-index-{UID}\",\n",
    "    contents_delta_uri=BUCKET_URI_ME,\n",
    "    dimensions=768,\n",
    "    approximate_neighbors_count=10,\n",
    "    project = PROJECT_ID\n",
    ")"
   ]
  },
  {
   "cell_type": "markdown",
   "id": "0db9aeff-9934-4d6b-a937-8f80d0fee5ee",
   "metadata": {
    "tags": []
   },
   "source": [
    "#### Create Index Endpoint and deploy the Index\n",
    "To use the Index, you need to create an Index Endpoint. It works as a server instance accepting query requests for your Index.\n"
   ]
  },
  {
   "cell_type": "code",
   "execution_count": 441,
   "id": "e2ca100a-4fd3-4c4b-a818-711a0b8eb9eb",
   "metadata": {
    "scrolled": true,
    "tags": []
   },
   "outputs": [
    {
     "name": "stdout",
     "output_type": "stream",
     "text": [
      "Creating MatchingEngineIndexEndpoint\n",
      "Create MatchingEngineIndexEndpoint backing LRO: projects/255766800726/locations/us-central1/indexEndpoints/6265250351532736512/operations/5194123647219924992\n",
      "MatchingEngineIndexEndpoint created. Resource name: projects/255766800726/locations/us-central1/indexEndpoints/6265250351532736512\n",
      "To use this MatchingEngineIndexEndpoint in another session:\n",
      "index_endpoint = aiplatform.MatchingEngineIndexEndpoint('projects/255766800726/locations/us-central1/indexEndpoints/6265250351532736512')\n"
     ]
    }
   ],
   "source": [
    "# create IndexEndpoint\n",
    "my_index_endpoint = aiplatform.MatchingEngineIndexEndpoint.create(\n",
    "    display_name=f\"vs-feature-index-endpoint-{UID}\", public_endpoint_enabled=True\n",
    ")"
   ]
  },
  {
   "cell_type": "code",
   "execution_count": null,
   "id": "84eaccf5-ad1a-4285-b7c2-4c4680df095e",
   "metadata": {
    "tags": []
   },
   "outputs": [
    {
     "name": "stdout",
     "output_type": "stream",
     "text": [
      "Deploying index MatchingEngineIndexEndpoint index_endpoint: projects/255766800726/locations/us-central1/indexEndpoints/6265250351532736512\n",
      "Deploy index MatchingEngineIndexEndpoint index_endpoint backing LRO: projects/255766800726/locations/us-central1/indexEndpoints/6265250351532736512/operations/1426862558924505088\n"
     ]
    }
   ],
   "source": [
    "DEPLOYED_INDEX_ID = f\"vs_feature_deployed_{UID}\"\n",
    "# deploy the Index to the Index Endpoint\n",
    "my_index_endpoint.deploy_index(index=my_index, deployed_index_id=DEPLOYED_INDEX_ID)"
   ]
  },
  {
   "cell_type": "markdown",
   "id": "f822311e-a7dd-430f-8d46-02278882e670",
   "metadata": {},
   "source": [
    "### Github matching engine deployment Test"
   ]
  },
  {
   "cell_type": "code",
   "execution_count": 92,
   "id": "701b892c-2859-428e-9e4f-a44df3844da5",
   "metadata": {
    "tags": []
   },
   "outputs": [
    {
     "name": "stdout",
     "output_type": "stream",
     "text": [
      "Copying gs://github-repo/data/vs-quickstart/product-embs.json [Content-Type=application/json]...\n",
      "- [1 files][ 79.3 MiB/ 79.3 MiB]                                                \n",
      "Operation completed over 1 objects/79.3 MiB.                                     \n"
     ]
    }
   ],
   "source": [
    "! gsutil cp \"gs://github-repo/data/vs-quickstart/product-embs.json\" \"$BUCKET_URI_ME\"\n"
   ]
  },
  {
   "cell_type": "code",
   "execution_count": 512,
   "id": "bbf83ccc-5aef-4681-b2fa-1a300bd8aed0",
   "metadata": {},
   "outputs": [
    {
     "name": "stdout",
     "output_type": "stream",
     "text": [
      "Copying gs://github-repo/data/vs-quickstart/product-embs.json...\n",
      "\\ [1 files][ 79.3 MiB/ 79.3 MiB]                                                \n",
      "Operation completed over 1 objects/79.3 MiB.                                     \n"
     ]
    }
   ],
   "source": [
    "! gsutil cp \"gs://github-repo/data/vs-quickstart/product-embs.json\" . # for query tests\n"
   ]
  },
  {
   "cell_type": "code",
   "execution_count": 516,
   "id": "347ddeec-5c15-4cac-9e5a-7bcf0b56ab48",
   "metadata": {
    "scrolled": true,
    "tags": []
   },
   "outputs": [
    {
     "name": "stdout",
     "output_type": "stream",
     "text": [
      "Creating MatchingEngineIndex\n",
      "Create MatchingEngineIndex backing LRO: projects/801452371447/locations/us-central1/indexes/3567875649714520064/operations/9173440946094735360\n"
     ]
    },
    {
     "ename": "KeyboardInterrupt",
     "evalue": "",
     "output_type": "error",
     "traceback": [
      "\u001b[0;31m---------------------------------------------------------------------------\u001b[0m",
      "\u001b[0;31m_OperationNotComplete\u001b[0m                     Traceback (most recent call last)",
      "File \u001b[0;32m/opt/conda/envs/py312/lib/python3.12/site-packages/google/api_core/retry/retry_unary.py:144\u001b[0m, in \u001b[0;36mretry_target\u001b[0;34m(target, predicate, sleep_generator, timeout, on_error, exception_factory, **kwargs)\u001b[0m\n\u001b[1;32m    143\u001b[0m \u001b[38;5;28;01mtry\u001b[39;00m:\n\u001b[0;32m--> 144\u001b[0m     result \u001b[38;5;241m=\u001b[39m \u001b[43mtarget\u001b[49m\u001b[43m(\u001b[49m\u001b[43m)\u001b[49m\n\u001b[1;32m    145\u001b[0m     \u001b[38;5;28;01mif\u001b[39;00m inspect\u001b[38;5;241m.\u001b[39misawaitable(result):\n",
      "File \u001b[0;32m/opt/conda/envs/py312/lib/python3.12/site-packages/google/api_core/future/polling.py:120\u001b[0m, in \u001b[0;36mPollingFuture._done_or_raise\u001b[0;34m(self, retry)\u001b[0m\n\u001b[1;32m    119\u001b[0m \u001b[38;5;28;01mif\u001b[39;00m \u001b[38;5;129;01mnot\u001b[39;00m \u001b[38;5;28mself\u001b[39m\u001b[38;5;241m.\u001b[39mdone(retry\u001b[38;5;241m=\u001b[39mretry):\n\u001b[0;32m--> 120\u001b[0m     \u001b[38;5;28;01mraise\u001b[39;00m _OperationNotComplete()\n",
      "\u001b[0;31m_OperationNotComplete\u001b[0m: ",
      "\nDuring handling of the above exception, another exception occurred:\n",
      "\u001b[0;31mKeyboardInterrupt\u001b[0m                         Traceback (most recent call last)",
      "Cell \u001b[0;32mIn[516], line 2\u001b[0m\n\u001b[1;32m      1\u001b[0m \u001b[38;5;66;03m# create Index\u001b[39;00m\n\u001b[0;32m----> 2\u001b[0m my_index \u001b[38;5;241m=\u001b[39m \u001b[43maiplatform\u001b[49m\u001b[38;5;241;43m.\u001b[39;49m\u001b[43mMatchingEngineIndex\u001b[49m\u001b[38;5;241;43m.\u001b[39;49m\u001b[43mcreate_tree_ah_index\u001b[49m\u001b[43m(\u001b[49m\n\u001b[1;32m      3\u001b[0m \u001b[43m    \u001b[49m\u001b[43mdisplay_name\u001b[49m\u001b[38;5;241;43m=\u001b[39;49m\u001b[38;5;124;43mf\u001b[39;49m\u001b[38;5;124;43m\"\u001b[39;49m\u001b[38;5;124;43mvs-test-index-\u001b[39;49m\u001b[38;5;132;43;01m{\u001b[39;49;00m\u001b[43mUID\u001b[49m\u001b[38;5;132;43;01m}\u001b[39;49;00m\u001b[38;5;124;43m\"\u001b[39;49m\u001b[43m,\u001b[49m\n\u001b[1;32m      4\u001b[0m \u001b[43m    \u001b[49m\u001b[43mcontents_delta_uri\u001b[49m\u001b[38;5;241;43m=\u001b[39;49m\u001b[43mBUCKET_URI\u001b[49m\u001b[43m,\u001b[49m\n\u001b[1;32m      5\u001b[0m \u001b[43m    \u001b[49m\u001b[43mdimensions\u001b[49m\u001b[38;5;241;43m=\u001b[39;49m\u001b[38;5;241;43m768\u001b[39;49m\u001b[43m,\u001b[49m\n\u001b[1;32m      6\u001b[0m \u001b[43m    \u001b[49m\u001b[43mapproximate_neighbors_count\u001b[49m\u001b[38;5;241;43m=\u001b[39;49m\u001b[38;5;241;43m10\u001b[39;49m\u001b[43m,\u001b[49m\n\u001b[1;32m      7\u001b[0m \u001b[43m    \u001b[49m\u001b[43mproject\u001b[49m\u001b[43m \u001b[49m\u001b[38;5;241;43m=\u001b[39;49m\u001b[43m \u001b[49m\u001b[43mPROJECT_ID\u001b[49m\n\u001b[1;32m      8\u001b[0m \u001b[43m)\u001b[49m\n",
      "File \u001b[0;32m/opt/conda/envs/py312/lib/python3.12/site-packages/google/cloud/aiplatform/matching_engine/matching_engine_index.py:531\u001b[0m, in \u001b[0;36mMatchingEngineIndex.create_tree_ah_index\u001b[0;34m(cls, display_name, contents_delta_uri, dimensions, approximate_neighbors_count, leaf_node_embedding_count, leaf_nodes_to_search_percent, distance_measure_type, description, labels, project, location, credentials, request_metadata, sync, index_update_method, encryption_spec_key_name)\u001b[0m\n\u001b[1;32m    519\u001b[0m algorithm_config \u001b[38;5;241m=\u001b[39m matching_engine_index_config\u001b[38;5;241m.\u001b[39mTreeAhConfig(\n\u001b[1;32m    520\u001b[0m     leaf_node_embedding_count\u001b[38;5;241m=\u001b[39mleaf_node_embedding_count,\n\u001b[1;32m    521\u001b[0m     leaf_nodes_to_search_percent\u001b[38;5;241m=\u001b[39mleaf_nodes_to_search_percent,\n\u001b[1;32m    522\u001b[0m )\n\u001b[1;32m    524\u001b[0m config \u001b[38;5;241m=\u001b[39m matching_engine_index_config\u001b[38;5;241m.\u001b[39mMatchingEngineIndexConfig(\n\u001b[1;32m    525\u001b[0m     dimensions\u001b[38;5;241m=\u001b[39mdimensions,\n\u001b[1;32m    526\u001b[0m     algorithm_config\u001b[38;5;241m=\u001b[39malgorithm_config,\n\u001b[1;32m    527\u001b[0m     approximate_neighbors_count\u001b[38;5;241m=\u001b[39mapproximate_neighbors_count,\n\u001b[1;32m    528\u001b[0m     distance_measure_type\u001b[38;5;241m=\u001b[39mdistance_measure_type,\n\u001b[1;32m    529\u001b[0m )\n\u001b[0;32m--> 531\u001b[0m \u001b[38;5;28;01mreturn\u001b[39;00m \u001b[38;5;28;43mcls\u001b[39;49m\u001b[38;5;241;43m.\u001b[39;49m\u001b[43m_create\u001b[49m\u001b[43m(\u001b[49m\n\u001b[1;32m    532\u001b[0m \u001b[43m    \u001b[49m\u001b[43mdisplay_name\u001b[49m\u001b[38;5;241;43m=\u001b[39;49m\u001b[43mdisplay_name\u001b[49m\u001b[43m,\u001b[49m\n\u001b[1;32m    533\u001b[0m \u001b[43m    \u001b[49m\u001b[43mcontents_delta_uri\u001b[49m\u001b[38;5;241;43m=\u001b[39;49m\u001b[43mcontents_delta_uri\u001b[49m\u001b[43m,\u001b[49m\n\u001b[1;32m    534\u001b[0m \u001b[43m    \u001b[49m\u001b[43mconfig\u001b[49m\u001b[38;5;241;43m=\u001b[39;49m\u001b[43mconfig\u001b[49m\u001b[43m,\u001b[49m\n\u001b[1;32m    535\u001b[0m \u001b[43m    \u001b[49m\u001b[43mdescription\u001b[49m\u001b[38;5;241;43m=\u001b[39;49m\u001b[43mdescription\u001b[49m\u001b[43m,\u001b[49m\n\u001b[1;32m    536\u001b[0m \u001b[43m    \u001b[49m\u001b[43mlabels\u001b[49m\u001b[38;5;241;43m=\u001b[39;49m\u001b[43mlabels\u001b[49m\u001b[43m,\u001b[49m\n\u001b[1;32m    537\u001b[0m \u001b[43m    \u001b[49m\u001b[43mproject\u001b[49m\u001b[38;5;241;43m=\u001b[39;49m\u001b[43mproject\u001b[49m\u001b[43m,\u001b[49m\n\u001b[1;32m    538\u001b[0m \u001b[43m    \u001b[49m\u001b[43mlocation\u001b[49m\u001b[38;5;241;43m=\u001b[39;49m\u001b[43mlocation\u001b[49m\u001b[43m,\u001b[49m\n\u001b[1;32m    539\u001b[0m \u001b[43m    \u001b[49m\u001b[43mcredentials\u001b[49m\u001b[38;5;241;43m=\u001b[39;49m\u001b[43mcredentials\u001b[49m\u001b[43m,\u001b[49m\n\u001b[1;32m    540\u001b[0m \u001b[43m    \u001b[49m\u001b[43mrequest_metadata\u001b[49m\u001b[38;5;241;43m=\u001b[39;49m\u001b[43mrequest_metadata\u001b[49m\u001b[43m,\u001b[49m\n\u001b[1;32m    541\u001b[0m \u001b[43m    \u001b[49m\u001b[43msync\u001b[49m\u001b[38;5;241;43m=\u001b[39;49m\u001b[43msync\u001b[49m\u001b[43m,\u001b[49m\n\u001b[1;32m    542\u001b[0m \u001b[43m    \u001b[49m\u001b[43mindex_update_method\u001b[49m\u001b[38;5;241;43m=\u001b[39;49m\u001b[43mindex_update_method\u001b[49m\u001b[43m,\u001b[49m\n\u001b[1;32m    543\u001b[0m \u001b[43m    \u001b[49m\u001b[43mencryption_spec_key_name\u001b[49m\u001b[38;5;241;43m=\u001b[39;49m\u001b[43mencryption_spec_key_name\u001b[49m\u001b[43m,\u001b[49m\n\u001b[1;32m    544\u001b[0m \u001b[43m\u001b[49m\u001b[43m)\u001b[49m\n",
      "File \u001b[0;32m/opt/conda/envs/py312/lib/python3.12/site-packages/google/cloud/aiplatform/base.py:817\u001b[0m, in \u001b[0;36moptional_sync.<locals>.optional_run_in_thread.<locals>.wrapper\u001b[0;34m(*args, **kwargs)\u001b[0m\n\u001b[1;32m    815\u001b[0m     \u001b[38;5;28;01mif\u001b[39;00m \u001b[38;5;28mself\u001b[39m:\n\u001b[1;32m    816\u001b[0m         VertexAiResourceNounWithFutureManager\u001b[38;5;241m.\u001b[39mwait(\u001b[38;5;28mself\u001b[39m)\n\u001b[0;32m--> 817\u001b[0m     \u001b[38;5;28;01mreturn\u001b[39;00m \u001b[43mmethod\u001b[49m\u001b[43m(\u001b[49m\u001b[38;5;241;43m*\u001b[39;49m\u001b[43margs\u001b[49m\u001b[43m,\u001b[49m\u001b[43m \u001b[49m\u001b[38;5;241;43m*\u001b[39;49m\u001b[38;5;241;43m*\u001b[39;49m\u001b[43mkwargs\u001b[49m\u001b[43m)\u001b[49m\n\u001b[1;32m    819\u001b[0m \u001b[38;5;66;03m# callbacks to call within the Future (in same Thread)\u001b[39;00m\n\u001b[1;32m    820\u001b[0m internal_callbacks \u001b[38;5;241m=\u001b[39m []\n",
      "File \u001b[0;32m/opt/conda/envs/py312/lib/python3.12/site-packages/google/cloud/aiplatform/matching_engine/matching_engine_index.py:227\u001b[0m, in \u001b[0;36mMatchingEngineIndex._create\u001b[0;34m(cls, display_name, contents_delta_uri, config, description, labels, project, location, credentials, request_metadata, sync, index_update_method, encryption_spec_key_name)\u001b[0m\n\u001b[1;32m    217\u001b[0m create_lro \u001b[38;5;241m=\u001b[39m api_client\u001b[38;5;241m.\u001b[39mcreate_index(\n\u001b[1;32m    218\u001b[0m     parent\u001b[38;5;241m=\u001b[39minitializer\u001b[38;5;241m.\u001b[39mglobal_config\u001b[38;5;241m.\u001b[39mcommon_location_path(\n\u001b[1;32m    219\u001b[0m         project\u001b[38;5;241m=\u001b[39mproject, location\u001b[38;5;241m=\u001b[39mlocation\n\u001b[0;32m   (...)\u001b[0m\n\u001b[1;32m    222\u001b[0m     metadata\u001b[38;5;241m=\u001b[39mrequest_metadata,\n\u001b[1;32m    223\u001b[0m )\n\u001b[1;32m    225\u001b[0m _LOGGER\u001b[38;5;241m.\u001b[39mlog_create_with_lro(\u001b[38;5;28mcls\u001b[39m, create_lro)\n\u001b[0;32m--> 227\u001b[0m created_index \u001b[38;5;241m=\u001b[39m \u001b[43mcreate_lro\u001b[49m\u001b[38;5;241;43m.\u001b[39;49m\u001b[43mresult\u001b[49m\u001b[43m(\u001b[49m\u001b[43mtimeout\u001b[49m\u001b[38;5;241;43m=\u001b[39;49m\u001b[38;5;28;43;01mNone\u001b[39;49;00m\u001b[43m)\u001b[49m\n\u001b[1;32m    229\u001b[0m _LOGGER\u001b[38;5;241m.\u001b[39mlog_create_complete(\u001b[38;5;28mcls\u001b[39m, created_index, \u001b[38;5;124m\"\u001b[39m\u001b[38;5;124mindex\u001b[39m\u001b[38;5;124m\"\u001b[39m)\n\u001b[1;32m    231\u001b[0m index_obj \u001b[38;5;241m=\u001b[39m \u001b[38;5;28mcls\u001b[39m(\n\u001b[1;32m    232\u001b[0m     index_name\u001b[38;5;241m=\u001b[39mcreated_index\u001b[38;5;241m.\u001b[39mname,\n\u001b[1;32m    233\u001b[0m     project\u001b[38;5;241m=\u001b[39mproject,\n\u001b[1;32m    234\u001b[0m     location\u001b[38;5;241m=\u001b[39mlocation,\n\u001b[1;32m    235\u001b[0m     credentials\u001b[38;5;241m=\u001b[39mcredentials,\n\u001b[1;32m    236\u001b[0m )\n",
      "File \u001b[0;32m/opt/conda/envs/py312/lib/python3.12/site-packages/google/api_core/future/polling.py:256\u001b[0m, in \u001b[0;36mPollingFuture.result\u001b[0;34m(self, timeout, retry, polling)\u001b[0m\n\u001b[1;32m    144\u001b[0m \u001b[38;5;28;01mdef\u001b[39;00m \u001b[38;5;21mresult\u001b[39m(\u001b[38;5;28mself\u001b[39m, timeout\u001b[38;5;241m=\u001b[39m_DEFAULT_VALUE, retry\u001b[38;5;241m=\u001b[39m\u001b[38;5;28;01mNone\u001b[39;00m, polling\u001b[38;5;241m=\u001b[39m\u001b[38;5;28;01mNone\u001b[39;00m):\n\u001b[1;32m    145\u001b[0m \u001b[38;5;250m    \u001b[39m\u001b[38;5;124;03m\"\"\"Get the result of the operation.\u001b[39;00m\n\u001b[1;32m    146\u001b[0m \n\u001b[1;32m    147\u001b[0m \u001b[38;5;124;03m    This method will poll for operation status periodically, blocking if\u001b[39;00m\n\u001b[0;32m   (...)\u001b[0m\n\u001b[1;32m    253\u001b[0m \u001b[38;5;124;03m            the timeout is reached before the operation completes.\u001b[39;00m\n\u001b[1;32m    254\u001b[0m \u001b[38;5;124;03m    \"\"\"\u001b[39;00m\n\u001b[0;32m--> 256\u001b[0m     \u001b[38;5;28;43mself\u001b[39;49m\u001b[38;5;241;43m.\u001b[39;49m\u001b[43m_blocking_poll\u001b[49m\u001b[43m(\u001b[49m\u001b[43mtimeout\u001b[49m\u001b[38;5;241;43m=\u001b[39;49m\u001b[43mtimeout\u001b[49m\u001b[43m,\u001b[49m\u001b[43m \u001b[49m\u001b[43mretry\u001b[49m\u001b[38;5;241;43m=\u001b[39;49m\u001b[43mretry\u001b[49m\u001b[43m,\u001b[49m\u001b[43m \u001b[49m\u001b[43mpolling\u001b[49m\u001b[38;5;241;43m=\u001b[39;49m\u001b[43mpolling\u001b[49m\u001b[43m)\u001b[49m\n\u001b[1;32m    258\u001b[0m     \u001b[38;5;28;01mif\u001b[39;00m \u001b[38;5;28mself\u001b[39m\u001b[38;5;241m.\u001b[39m_exception \u001b[38;5;129;01mis\u001b[39;00m \u001b[38;5;129;01mnot\u001b[39;00m \u001b[38;5;28;01mNone\u001b[39;00m:\n\u001b[1;32m    259\u001b[0m         \u001b[38;5;66;03m# pylint: disable=raising-bad-type\u001b[39;00m\n\u001b[1;32m    260\u001b[0m         \u001b[38;5;66;03m# Pylint doesn't recognize that this is valid in this case.\u001b[39;00m\n\u001b[1;32m    261\u001b[0m         \u001b[38;5;28;01mraise\u001b[39;00m \u001b[38;5;28mself\u001b[39m\u001b[38;5;241m.\u001b[39m_exception\n",
      "File \u001b[0;32m/opt/conda/envs/py312/lib/python3.12/site-packages/google/api_core/future/polling.py:137\u001b[0m, in \u001b[0;36mPollingFuture._blocking_poll\u001b[0;34m(self, timeout, retry, polling)\u001b[0m\n\u001b[1;32m    134\u001b[0m     polling \u001b[38;5;241m=\u001b[39m polling\u001b[38;5;241m.\u001b[39mwith_timeout(timeout)\n\u001b[1;32m    136\u001b[0m \u001b[38;5;28;01mtry\u001b[39;00m:\n\u001b[0;32m--> 137\u001b[0m     \u001b[43mpolling\u001b[49m\u001b[43m(\u001b[49m\u001b[38;5;28;43mself\u001b[39;49m\u001b[38;5;241;43m.\u001b[39;49m\u001b[43m_done_or_raise\u001b[49m\u001b[43m)\u001b[49m\u001b[43m(\u001b[49m\u001b[43mretry\u001b[49m\u001b[38;5;241;43m=\u001b[39;49m\u001b[43mretry\u001b[49m\u001b[43m)\u001b[49m\n\u001b[1;32m    138\u001b[0m \u001b[38;5;28;01mexcept\u001b[39;00m exceptions\u001b[38;5;241m.\u001b[39mRetryError:\n\u001b[1;32m    139\u001b[0m     \u001b[38;5;28;01mraise\u001b[39;00m concurrent\u001b[38;5;241m.\u001b[39mfutures\u001b[38;5;241m.\u001b[39mTimeoutError(\n\u001b[1;32m    140\u001b[0m         \u001b[38;5;124mf\u001b[39m\u001b[38;5;124m\"\u001b[39m\u001b[38;5;124mOperation did not complete within the designated timeout of \u001b[39m\u001b[38;5;124m\"\u001b[39m\n\u001b[1;32m    141\u001b[0m         \u001b[38;5;124mf\u001b[39m\u001b[38;5;124m\"\u001b[39m\u001b[38;5;132;01m{\u001b[39;00mpolling\u001b[38;5;241m.\u001b[39mtimeout\u001b[38;5;132;01m}\u001b[39;00m\u001b[38;5;124m seconds.\u001b[39m\u001b[38;5;124m\"\u001b[39m\n\u001b[1;32m    142\u001b[0m     )\n",
      "File \u001b[0;32m/opt/conda/envs/py312/lib/python3.12/site-packages/google/api_core/retry/retry_unary.py:293\u001b[0m, in \u001b[0;36mRetry.__call__.<locals>.retry_wrapped_func\u001b[0;34m(*args, **kwargs)\u001b[0m\n\u001b[1;32m    289\u001b[0m target \u001b[38;5;241m=\u001b[39m functools\u001b[38;5;241m.\u001b[39mpartial(func, \u001b[38;5;241m*\u001b[39margs, \u001b[38;5;241m*\u001b[39m\u001b[38;5;241m*\u001b[39mkwargs)\n\u001b[1;32m    290\u001b[0m sleep_generator \u001b[38;5;241m=\u001b[39m exponential_sleep_generator(\n\u001b[1;32m    291\u001b[0m     \u001b[38;5;28mself\u001b[39m\u001b[38;5;241m.\u001b[39m_initial, \u001b[38;5;28mself\u001b[39m\u001b[38;5;241m.\u001b[39m_maximum, multiplier\u001b[38;5;241m=\u001b[39m\u001b[38;5;28mself\u001b[39m\u001b[38;5;241m.\u001b[39m_multiplier\n\u001b[1;32m    292\u001b[0m )\n\u001b[0;32m--> 293\u001b[0m \u001b[38;5;28;01mreturn\u001b[39;00m \u001b[43mretry_target\u001b[49m\u001b[43m(\u001b[49m\n\u001b[1;32m    294\u001b[0m \u001b[43m    \u001b[49m\u001b[43mtarget\u001b[49m\u001b[43m,\u001b[49m\n\u001b[1;32m    295\u001b[0m \u001b[43m    \u001b[49m\u001b[38;5;28;43mself\u001b[39;49m\u001b[38;5;241;43m.\u001b[39;49m\u001b[43m_predicate\u001b[49m\u001b[43m,\u001b[49m\n\u001b[1;32m    296\u001b[0m \u001b[43m    \u001b[49m\u001b[43msleep_generator\u001b[49m\u001b[43m,\u001b[49m\n\u001b[1;32m    297\u001b[0m \u001b[43m    \u001b[49m\u001b[43mtimeout\u001b[49m\u001b[38;5;241;43m=\u001b[39;49m\u001b[38;5;28;43mself\u001b[39;49m\u001b[38;5;241;43m.\u001b[39;49m\u001b[43m_timeout\u001b[49m\u001b[43m,\u001b[49m\n\u001b[1;32m    298\u001b[0m \u001b[43m    \u001b[49m\u001b[43mon_error\u001b[49m\u001b[38;5;241;43m=\u001b[39;49m\u001b[43mon_error\u001b[49m\u001b[43m,\u001b[49m\n\u001b[1;32m    299\u001b[0m \u001b[43m\u001b[49m\u001b[43m)\u001b[49m\n",
      "File \u001b[0;32m/opt/conda/envs/py312/lib/python3.12/site-packages/google/api_core/retry/retry_unary.py:164\u001b[0m, in \u001b[0;36mretry_target\u001b[0;34m(target, predicate, sleep_generator, timeout, on_error, exception_factory, **kwargs)\u001b[0m\n\u001b[1;32m    153\u001b[0m         _retry_error_helper(\n\u001b[1;32m    154\u001b[0m             exc,\n\u001b[1;32m    155\u001b[0m             deadline,\n\u001b[0;32m   (...)\u001b[0m\n\u001b[1;32m    161\u001b[0m             timeout,\n\u001b[1;32m    162\u001b[0m         )\n\u001b[1;32m    163\u001b[0m         \u001b[38;5;66;03m# if exception not raised, sleep before next attempt\u001b[39;00m\n\u001b[0;32m--> 164\u001b[0m         \u001b[43mtime\u001b[49m\u001b[38;5;241;43m.\u001b[39;49m\u001b[43msleep\u001b[49m\u001b[43m(\u001b[49m\u001b[43msleep\u001b[49m\u001b[43m)\u001b[49m\n\u001b[1;32m    166\u001b[0m \u001b[38;5;28;01mraise\u001b[39;00m \u001b[38;5;167;01mValueError\u001b[39;00m(\u001b[38;5;124m\"\u001b[39m\u001b[38;5;124mSleep generator stopped yielding sleep values.\u001b[39m\u001b[38;5;124m\"\u001b[39m)\n",
      "\u001b[0;31mKeyboardInterrupt\u001b[0m: "
     ]
    }
   ],
   "source": [
    "# create Index\n",
    "my_index = aiplatform.MatchingEngineIndex.create_tree_ah_index(\n",
    "    display_name=f\"vs-test-index-{UID}\",\n",
    "    contents_delta_uri=BUCKET_URI,\n",
    "    dimensions=768,\n",
    "    approximate_neighbors_count=10,\n",
    "    project = PROJECT_ID\n",
    ")"
   ]
  },
  {
   "cell_type": "code",
   "execution_count": 514,
   "id": "a0ba2784-913a-4f48-b3df-861cf9be1efc",
   "metadata": {},
   "outputs": [
    {
     "ename": "FailedPrecondition",
     "evalue": "400 Exceeds maximum number of PublicEndpoint(s) allowed for a single Project, which is 15.",
     "output_type": "error",
     "traceback": [
      "\u001b[0;31m---------------------------------------------------------------------------\u001b[0m",
      "\u001b[0;31m_InactiveRpcError\u001b[0m                         Traceback (most recent call last)",
      "File \u001b[0;32m/opt/conda/envs/py312/lib/python3.12/site-packages/google/api_core/grpc_helpers.py:79\u001b[0m, in \u001b[0;36m_wrap_unary_errors.<locals>.error_remapped_callable\u001b[0;34m(*args, **kwargs)\u001b[0m\n\u001b[1;32m     78\u001b[0m \u001b[38;5;28;01mtry\u001b[39;00m:\n\u001b[0;32m---> 79\u001b[0m     \u001b[38;5;28;01mreturn\u001b[39;00m \u001b[43mcallable_\u001b[49m\u001b[43m(\u001b[49m\u001b[38;5;241;43m*\u001b[39;49m\u001b[43margs\u001b[49m\u001b[43m,\u001b[49m\u001b[43m \u001b[49m\u001b[38;5;241;43m*\u001b[39;49m\u001b[38;5;241;43m*\u001b[39;49m\u001b[43mkwargs\u001b[49m\u001b[43m)\u001b[49m\n\u001b[1;32m     80\u001b[0m \u001b[38;5;28;01mexcept\u001b[39;00m grpc\u001b[38;5;241m.\u001b[39mRpcError \u001b[38;5;28;01mas\u001b[39;00m exc:\n",
      "File \u001b[0;32m/opt/conda/envs/py312/lib/python3.12/site-packages/grpc/_channel.py:1160\u001b[0m, in \u001b[0;36m_UnaryUnaryMultiCallable.__call__\u001b[0;34m(self, request, timeout, metadata, credentials, wait_for_ready, compression)\u001b[0m\n\u001b[1;32m   1154\u001b[0m (\n\u001b[1;32m   1155\u001b[0m     state,\n\u001b[1;32m   1156\u001b[0m     call,\n\u001b[1;32m   1157\u001b[0m ) \u001b[38;5;241m=\u001b[39m \u001b[38;5;28mself\u001b[39m\u001b[38;5;241m.\u001b[39m_blocking(\n\u001b[1;32m   1158\u001b[0m     request, timeout, metadata, credentials, wait_for_ready, compression\n\u001b[1;32m   1159\u001b[0m )\n\u001b[0;32m-> 1160\u001b[0m \u001b[38;5;28;01mreturn\u001b[39;00m \u001b[43m_end_unary_response_blocking\u001b[49m\u001b[43m(\u001b[49m\u001b[43mstate\u001b[49m\u001b[43m,\u001b[49m\u001b[43m \u001b[49m\u001b[43mcall\u001b[49m\u001b[43m,\u001b[49m\u001b[43m \u001b[49m\u001b[38;5;28;43;01mFalse\u001b[39;49;00m\u001b[43m,\u001b[49m\u001b[43m \u001b[49m\u001b[38;5;28;43;01mNone\u001b[39;49;00m\u001b[43m)\u001b[49m\n",
      "File \u001b[0;32m/opt/conda/envs/py312/lib/python3.12/site-packages/grpc/_channel.py:1003\u001b[0m, in \u001b[0;36m_end_unary_response_blocking\u001b[0;34m(state, call, with_call, deadline)\u001b[0m\n\u001b[1;32m   1002\u001b[0m \u001b[38;5;28;01melse\u001b[39;00m:\n\u001b[0;32m-> 1003\u001b[0m     \u001b[38;5;28;01mraise\u001b[39;00m _InactiveRpcError(state)\n",
      "\u001b[0;31m_InactiveRpcError\u001b[0m: <_InactiveRpcError of RPC that terminated with:\n\tstatus = StatusCode.FAILED_PRECONDITION\n\tdetails = \"Exceeds maximum number of PublicEndpoint(s) allowed for a single Project, which is 15.\"\n\tdebug_error_string = \"UNKNOWN:Error received from peer ipv4:173.194.197.95:443 {created_time:\"2024-02-05T07:41:14.79452326+00:00\", grpc_status:9, grpc_message:\"Exceeds maximum number of PublicEndpoint(s) allowed for a single Project, which is 15.\"}\"\n>",
      "\nThe above exception was the direct cause of the following exception:\n",
      "\u001b[0;31mFailedPrecondition\u001b[0m                        Traceback (most recent call last)",
      "Cell \u001b[0;32mIn[514], line 2\u001b[0m\n\u001b[1;32m      1\u001b[0m \u001b[38;5;66;03m# create IndexEndpoint\u001b[39;00m\n\u001b[0;32m----> 2\u001b[0m my_index_endpoint \u001b[38;5;241m=\u001b[39m \u001b[43maiplatform\u001b[49m\u001b[38;5;241;43m.\u001b[39;49m\u001b[43mMatchingEngineIndexEndpoint\u001b[49m\u001b[38;5;241;43m.\u001b[39;49m\u001b[43mcreate\u001b[49m\u001b[43m(\u001b[49m\n\u001b[1;32m      3\u001b[0m \u001b[43m    \u001b[49m\u001b[43mdisplay_name\u001b[49m\u001b[38;5;241;43m=\u001b[39;49m\u001b[38;5;124;43mf\u001b[39;49m\u001b[38;5;124;43m\"\u001b[39;49m\u001b[38;5;124;43mvs-test-index-endpoint-\u001b[39;49m\u001b[38;5;132;43;01m{\u001b[39;49;00m\u001b[43mUID\u001b[49m\u001b[38;5;132;43;01m}\u001b[39;49;00m\u001b[38;5;124;43m\"\u001b[39;49m\u001b[43m,\u001b[49m\u001b[43m \u001b[49m\u001b[43mpublic_endpoint_enabled\u001b[49m\u001b[38;5;241;43m=\u001b[39;49m\u001b[38;5;28;43;01mTrue\u001b[39;49;00m\n\u001b[1;32m      4\u001b[0m \u001b[43m)\u001b[49m\n",
      "File \u001b[0;32m/opt/conda/envs/py312/lib/python3.12/site-packages/google/cloud/aiplatform/matching_engine/matching_engine_index_endpoint.py:354\u001b[0m, in \u001b[0;36mMatchingEngineIndexEndpoint.create\u001b[0;34m(cls, display_name, network, public_endpoint_enabled, description, labels, project, location, credentials, request_metadata, sync, enable_private_service_connect, project_allowlist, encryption_spec_key_name)\u001b[0m\n\u001b[1;32m    339\u001b[0m \u001b[38;5;28;01mif\u001b[39;00m (\n\u001b[1;32m    340\u001b[0m     \u001b[38;5;28msum\u001b[39m(\n\u001b[1;32m    341\u001b[0m         \u001b[38;5;28mbool\u001b[39m(network_setting)\n\u001b[0;32m   (...)\u001b[0m\n\u001b[1;32m    348\u001b[0m     \u001b[38;5;241m>\u001b[39m \u001b[38;5;241m1\u001b[39m\n\u001b[1;32m    349\u001b[0m ):\n\u001b[1;32m    350\u001b[0m     \u001b[38;5;28;01mraise\u001b[39;00m \u001b[38;5;167;01mValueError\u001b[39;00m(\n\u001b[1;32m    351\u001b[0m         \u001b[38;5;124m\"\u001b[39m\u001b[38;5;124mOne and only one among network, public_endpoint_enabled and enable_private_service_connect should be set.\u001b[39m\u001b[38;5;124m\"\u001b[39m\n\u001b[1;32m    352\u001b[0m     )\n\u001b[0;32m--> 354\u001b[0m \u001b[38;5;28;01mreturn\u001b[39;00m \u001b[38;5;28;43mcls\u001b[39;49m\u001b[38;5;241;43m.\u001b[39;49m\u001b[43m_create\u001b[49m\u001b[43m(\u001b[49m\n\u001b[1;32m    355\u001b[0m \u001b[43m    \u001b[49m\u001b[43mdisplay_name\u001b[49m\u001b[38;5;241;43m=\u001b[39;49m\u001b[43mdisplay_name\u001b[49m\u001b[43m,\u001b[49m\n\u001b[1;32m    356\u001b[0m \u001b[43m    \u001b[49m\u001b[43mnetwork\u001b[49m\u001b[38;5;241;43m=\u001b[39;49m\u001b[43mnetwork\u001b[49m\u001b[43m,\u001b[49m\n\u001b[1;32m    357\u001b[0m \u001b[43m    \u001b[49m\u001b[43mpublic_endpoint_enabled\u001b[49m\u001b[38;5;241;43m=\u001b[39;49m\u001b[43mpublic_endpoint_enabled\u001b[49m\u001b[43m,\u001b[49m\n\u001b[1;32m    358\u001b[0m \u001b[43m    \u001b[49m\u001b[43mdescription\u001b[49m\u001b[38;5;241;43m=\u001b[39;49m\u001b[43mdescription\u001b[49m\u001b[43m,\u001b[49m\n\u001b[1;32m    359\u001b[0m \u001b[43m    \u001b[49m\u001b[43mlabels\u001b[49m\u001b[38;5;241;43m=\u001b[39;49m\u001b[43mlabels\u001b[49m\u001b[43m,\u001b[49m\n\u001b[1;32m    360\u001b[0m \u001b[43m    \u001b[49m\u001b[43mproject\u001b[49m\u001b[38;5;241;43m=\u001b[39;49m\u001b[43mproject\u001b[49m\u001b[43m,\u001b[49m\n\u001b[1;32m    361\u001b[0m \u001b[43m    \u001b[49m\u001b[43mlocation\u001b[49m\u001b[38;5;241;43m=\u001b[39;49m\u001b[43mlocation\u001b[49m\u001b[43m,\u001b[49m\n\u001b[1;32m    362\u001b[0m \u001b[43m    \u001b[49m\u001b[43mcredentials\u001b[49m\u001b[38;5;241;43m=\u001b[39;49m\u001b[43mcredentials\u001b[49m\u001b[43m,\u001b[49m\n\u001b[1;32m    363\u001b[0m \u001b[43m    \u001b[49m\u001b[43mrequest_metadata\u001b[49m\u001b[38;5;241;43m=\u001b[39;49m\u001b[43mrequest_metadata\u001b[49m\u001b[43m,\u001b[49m\n\u001b[1;32m    364\u001b[0m \u001b[43m    \u001b[49m\u001b[43msync\u001b[49m\u001b[38;5;241;43m=\u001b[39;49m\u001b[43msync\u001b[49m\u001b[43m,\u001b[49m\n\u001b[1;32m    365\u001b[0m \u001b[43m    \u001b[49m\u001b[43menable_private_service_connect\u001b[49m\u001b[38;5;241;43m=\u001b[39;49m\u001b[43menable_private_service_connect\u001b[49m\u001b[43m,\u001b[49m\n\u001b[1;32m    366\u001b[0m \u001b[43m    \u001b[49m\u001b[43mproject_allowlist\u001b[49m\u001b[38;5;241;43m=\u001b[39;49m\u001b[43mproject_allowlist\u001b[49m\u001b[43m,\u001b[49m\n\u001b[1;32m    367\u001b[0m \u001b[43m    \u001b[49m\u001b[43mencryption_spec_key_name\u001b[49m\u001b[38;5;241;43m=\u001b[39;49m\u001b[43mencryption_spec_key_name\u001b[49m\u001b[43m,\u001b[49m\n\u001b[1;32m    368\u001b[0m \u001b[43m\u001b[49m\u001b[43m)\u001b[49m\n",
      "File \u001b[0;32m/opt/conda/envs/py312/lib/python3.12/site-packages/google/cloud/aiplatform/base.py:817\u001b[0m, in \u001b[0;36moptional_sync.<locals>.optional_run_in_thread.<locals>.wrapper\u001b[0;34m(*args, **kwargs)\u001b[0m\n\u001b[1;32m    815\u001b[0m     \u001b[38;5;28;01mif\u001b[39;00m \u001b[38;5;28mself\u001b[39m:\n\u001b[1;32m    816\u001b[0m         VertexAiResourceNounWithFutureManager\u001b[38;5;241m.\u001b[39mwait(\u001b[38;5;28mself\u001b[39m)\n\u001b[0;32m--> 817\u001b[0m     \u001b[38;5;28;01mreturn\u001b[39;00m \u001b[43mmethod\u001b[49m\u001b[43m(\u001b[49m\u001b[38;5;241;43m*\u001b[39;49m\u001b[43margs\u001b[49m\u001b[43m,\u001b[49m\u001b[43m \u001b[49m\u001b[38;5;241;43m*\u001b[39;49m\u001b[38;5;241;43m*\u001b[39;49m\u001b[43mkwargs\u001b[49m\u001b[43m)\u001b[49m\n\u001b[1;32m    819\u001b[0m \u001b[38;5;66;03m# callbacks to call within the Future (in same Thread)\u001b[39;00m\n\u001b[1;32m    820\u001b[0m internal_callbacks \u001b[38;5;241m=\u001b[39m []\n",
      "File \u001b[0;32m/opt/conda/envs/py312/lib/python3.12/site-packages/google/cloud/aiplatform/matching_engine/matching_engine_index_endpoint.py:489\u001b[0m, in \u001b[0;36mMatchingEngineIndexEndpoint._create\u001b[0;34m(cls, display_name, network, public_endpoint_enabled, description, labels, project, location, credentials, request_metadata, sync, enable_private_service_connect, project_allowlist, encryption_spec_key_name)\u001b[0m\n\u001b[1;32m    485\u001b[0m     gapic_index_endpoint\u001b[38;5;241m.\u001b[39mlabels \u001b[38;5;241m=\u001b[39m labels\n\u001b[1;32m    487\u001b[0m api_client \u001b[38;5;241m=\u001b[39m \u001b[38;5;28mcls\u001b[39m\u001b[38;5;241m.\u001b[39m_instantiate_client(location\u001b[38;5;241m=\u001b[39mlocation, credentials\u001b[38;5;241m=\u001b[39mcredentials)\n\u001b[0;32m--> 489\u001b[0m create_lro \u001b[38;5;241m=\u001b[39m \u001b[43mapi_client\u001b[49m\u001b[38;5;241;43m.\u001b[39;49m\u001b[43mcreate_index_endpoint\u001b[49m\u001b[43m(\u001b[49m\n\u001b[1;32m    490\u001b[0m \u001b[43m    \u001b[49m\u001b[43mparent\u001b[49m\u001b[38;5;241;43m=\u001b[39;49m\u001b[43minitializer\u001b[49m\u001b[38;5;241;43m.\u001b[39;49m\u001b[43mglobal_config\u001b[49m\u001b[38;5;241;43m.\u001b[39;49m\u001b[43mcommon_location_path\u001b[49m\u001b[43m(\u001b[49m\n\u001b[1;32m    491\u001b[0m \u001b[43m        \u001b[49m\u001b[43mproject\u001b[49m\u001b[38;5;241;43m=\u001b[39;49m\u001b[43mproject\u001b[49m\u001b[43m,\u001b[49m\u001b[43m \u001b[49m\u001b[43mlocation\u001b[49m\u001b[38;5;241;43m=\u001b[39;49m\u001b[43mlocation\u001b[49m\n\u001b[1;32m    492\u001b[0m \u001b[43m    \u001b[49m\u001b[43m)\u001b[49m\u001b[43m,\u001b[49m\n\u001b[1;32m    493\u001b[0m \u001b[43m    \u001b[49m\u001b[43mindex_endpoint\u001b[49m\u001b[38;5;241;43m=\u001b[39;49m\u001b[43mgapic_index_endpoint\u001b[49m\u001b[43m,\u001b[49m\n\u001b[1;32m    494\u001b[0m \u001b[43m    \u001b[49m\u001b[43mmetadata\u001b[49m\u001b[38;5;241;43m=\u001b[39;49m\u001b[43mrequest_metadata\u001b[49m\u001b[43m,\u001b[49m\n\u001b[1;32m    495\u001b[0m \u001b[43m\u001b[49m\u001b[43m)\u001b[49m\n\u001b[1;32m    497\u001b[0m _LOGGER\u001b[38;5;241m.\u001b[39mlog_create_with_lro(\u001b[38;5;28mcls\u001b[39m, create_lro)\n\u001b[1;32m    499\u001b[0m created_index \u001b[38;5;241m=\u001b[39m create_lro\u001b[38;5;241m.\u001b[39mresult()\n",
      "File \u001b[0;32m/opt/conda/envs/py312/lib/python3.12/site-packages/google/cloud/aiplatform_v1/services/index_endpoint_service/client.py:594\u001b[0m, in \u001b[0;36mIndexEndpointServiceClient.create_index_endpoint\u001b[0;34m(self, request, parent, index_endpoint, retry, timeout, metadata)\u001b[0m\n\u001b[1;32m    589\u001b[0m metadata \u001b[38;5;241m=\u001b[39m \u001b[38;5;28mtuple\u001b[39m(metadata) \u001b[38;5;241m+\u001b[39m (\n\u001b[1;32m    590\u001b[0m     gapic_v1\u001b[38;5;241m.\u001b[39mrouting_header\u001b[38;5;241m.\u001b[39mto_grpc_metadata(((\u001b[38;5;124m\"\u001b[39m\u001b[38;5;124mparent\u001b[39m\u001b[38;5;124m\"\u001b[39m, request\u001b[38;5;241m.\u001b[39mparent),)),\n\u001b[1;32m    591\u001b[0m )\n\u001b[1;32m    593\u001b[0m \u001b[38;5;66;03m# Send the request.\u001b[39;00m\n\u001b[0;32m--> 594\u001b[0m response \u001b[38;5;241m=\u001b[39m \u001b[43mrpc\u001b[49m\u001b[43m(\u001b[49m\n\u001b[1;32m    595\u001b[0m \u001b[43m    \u001b[49m\u001b[43mrequest\u001b[49m\u001b[43m,\u001b[49m\n\u001b[1;32m    596\u001b[0m \u001b[43m    \u001b[49m\u001b[43mretry\u001b[49m\u001b[38;5;241;43m=\u001b[39;49m\u001b[43mretry\u001b[49m\u001b[43m,\u001b[49m\n\u001b[1;32m    597\u001b[0m \u001b[43m    \u001b[49m\u001b[43mtimeout\u001b[49m\u001b[38;5;241;43m=\u001b[39;49m\u001b[43mtimeout\u001b[49m\u001b[43m,\u001b[49m\n\u001b[1;32m    598\u001b[0m \u001b[43m    \u001b[49m\u001b[43mmetadata\u001b[49m\u001b[38;5;241;43m=\u001b[39;49m\u001b[43mmetadata\u001b[49m\u001b[43m,\u001b[49m\n\u001b[1;32m    599\u001b[0m \u001b[43m\u001b[49m\u001b[43m)\u001b[49m\n\u001b[1;32m    601\u001b[0m \u001b[38;5;66;03m# Wrap the response in an operation future.\u001b[39;00m\n\u001b[1;32m    602\u001b[0m response \u001b[38;5;241m=\u001b[39m gac_operation\u001b[38;5;241m.\u001b[39mfrom_gapic(\n\u001b[1;32m    603\u001b[0m     response,\n\u001b[1;32m    604\u001b[0m     \u001b[38;5;28mself\u001b[39m\u001b[38;5;241m.\u001b[39m_transport\u001b[38;5;241m.\u001b[39moperations_client,\n\u001b[1;32m    605\u001b[0m     gca_index_endpoint\u001b[38;5;241m.\u001b[39mIndexEndpoint,\n\u001b[1;32m    606\u001b[0m     metadata_type\u001b[38;5;241m=\u001b[39mindex_endpoint_service\u001b[38;5;241m.\u001b[39mCreateIndexEndpointOperationMetadata,\n\u001b[1;32m    607\u001b[0m )\n",
      "File \u001b[0;32m/opt/conda/envs/py312/lib/python3.12/site-packages/google/api_core/gapic_v1/method.py:131\u001b[0m, in \u001b[0;36m_GapicCallable.__call__\u001b[0;34m(self, timeout, retry, compression, *args, **kwargs)\u001b[0m\n\u001b[1;32m    128\u001b[0m \u001b[38;5;28;01mif\u001b[39;00m \u001b[38;5;28mself\u001b[39m\u001b[38;5;241m.\u001b[39m_compression \u001b[38;5;129;01mis\u001b[39;00m \u001b[38;5;129;01mnot\u001b[39;00m \u001b[38;5;28;01mNone\u001b[39;00m:\n\u001b[1;32m    129\u001b[0m     kwargs[\u001b[38;5;124m\"\u001b[39m\u001b[38;5;124mcompression\u001b[39m\u001b[38;5;124m\"\u001b[39m] \u001b[38;5;241m=\u001b[39m compression\n\u001b[0;32m--> 131\u001b[0m \u001b[38;5;28;01mreturn\u001b[39;00m \u001b[43mwrapped_func\u001b[49m\u001b[43m(\u001b[49m\u001b[38;5;241;43m*\u001b[39;49m\u001b[43margs\u001b[49m\u001b[43m,\u001b[49m\u001b[43m \u001b[49m\u001b[38;5;241;43m*\u001b[39;49m\u001b[38;5;241;43m*\u001b[39;49m\u001b[43mkwargs\u001b[49m\u001b[43m)\u001b[49m\n",
      "File \u001b[0;32m/opt/conda/envs/py312/lib/python3.12/site-packages/google/api_core/grpc_helpers.py:81\u001b[0m, in \u001b[0;36m_wrap_unary_errors.<locals>.error_remapped_callable\u001b[0;34m(*args, **kwargs)\u001b[0m\n\u001b[1;32m     79\u001b[0m     \u001b[38;5;28;01mreturn\u001b[39;00m callable_(\u001b[38;5;241m*\u001b[39margs, \u001b[38;5;241m*\u001b[39m\u001b[38;5;241m*\u001b[39mkwargs)\n\u001b[1;32m     80\u001b[0m \u001b[38;5;28;01mexcept\u001b[39;00m grpc\u001b[38;5;241m.\u001b[39mRpcError \u001b[38;5;28;01mas\u001b[39;00m exc:\n\u001b[0;32m---> 81\u001b[0m     \u001b[38;5;28;01mraise\u001b[39;00m exceptions\u001b[38;5;241m.\u001b[39mfrom_grpc_error(exc) \u001b[38;5;28;01mfrom\u001b[39;00m \u001b[38;5;21;01mexc\u001b[39;00m\n",
      "\u001b[0;31mFailedPrecondition\u001b[0m: 400 Exceeds maximum number of PublicEndpoint(s) allowed for a single Project, which is 15."
     ]
    }
   ],
   "source": [
    "# create IndexEndpoint\n",
    "my_index_endpoint = aiplatform.MatchingEngineIndexEndpoint.create(\n",
    "    display_name=f\"vs-test-index-endpoint-{UID}\", public_endpoint_enabled=True\n",
    ")"
   ]
  },
  {
   "cell_type": "code",
   "execution_count": 515,
   "id": "ef9ff28f-ff73-48b0-bfb9-7e15694abb24",
   "metadata": {},
   "outputs": [
    {
     "name": "stdout",
     "output_type": "stream",
     "text": [
      "PROJECT_ID             NAME                   PROJECT_NUMBER\n",
      "cloud-llm-preview1     cloud-llm-preview1     801452371447\n",
      "cloud-tpu-pubsubs      cloud-tpu-pubsubs      190395505491\n",
      "cloud-tpu-v2-images    cloud-tpu-v2-images    202321179179\n",
      "psprod-asia-east1-c    psprod-asia-east1-c    745274831519\n",
      "psprod-europe-west4-a  psprod-europe-west4-a  632574482707\n",
      "psprod-europe-west4-b  psprod-europe-west4-b  453095801626\n",
      "psprod-us-central1-a   psprod-us-central1-a   577258445108\n",
      "psprod-us-central1-b   psprod-us-central1-b   250731689161\n",
      "psprod-us-central1-c   psprod-us-central1-c   991251160362\n",
      "psprod-us-central1-f   psprod-us-central1-f   1010488386695\n",
      "psprod-us-central2-b   psprod-us-central2-b   751422327981\n",
      "psprod-us-east1-c      psprod-us-east1-c      136293625253\n",
      "psprod-us-east1-d      psprod-us-east1-d      769222551881\n",
      "psprod-us-east5-a      psprod-us-east5-a      624264038575\n",
      "psprod-us-east5-b      psprod-us-east5-b      359592342441\n",
      "psprod-us-west1-b      psprod-us-west1-b      596561198140\n",
      "psprod-us-west4-a      psprod-us-west4-a      68640185995\n"
     ]
    }
   ],
   "source": [
    "!gcloud projects list"
   ]
  },
  {
   "cell_type": "markdown",
   "id": "f782af96-3168-449c-8ebd-53fb00c8bee3",
   "metadata": {},
   "source": [
    "### Deploy instead using langchiain"
   ]
  },
  {
   "cell_type": "code",
   "execution_count": 558,
   "id": "da4deae4-3ea0-4bf3-8933-e64b4c402ee2",
   "metadata": {},
   "outputs": [],
   "source": [
    "PROJECT_ID = \"my-project-0004-346516\"\n",
    "REGION = \"us-central1\"\n",
    "VPC_NETWORK = \"matching-engine-vpc\"\n",
    "PEERING_RANGE_NAME = \"ann-langchain-me-range\"  # Name for creating the VPC peering.\n",
    "# BUCKET_URI = \"gs://<bucket_uri>\"\n",
    "BUCKET_URI=\"gs://tianhaoz-test\"\n",
    "\n",
    "# The number of dimensions for the tensorflow universal sentence encoder its 500\n",
    "# If other embedder is used, the dimensions would probably need to change. for gecko its 768\n",
    "DIMENSIONS = 768\n",
    "DISPLAY_NAME = \"index-test-name-new\"\n",
    "EMBEDDING_DIR = f\"{BUCKET_URI}/saurabh\"\n",
    "DEPLOYED_INDEX_ID = \"endpoint-test-name\"\n",
    "\n",
    "PROJECT_NUMBER = !gcloud projects list --filter=\"PROJECT_ID:'{PROJECT_ID}'\" --format='value(PROJECT_NUMBER)'\n",
    "PROJECT_NUMBER = PROJECT_NUMBER[0]\n",
    "VPC_NETWORK_FULL = f\"projects/{PROJECT_NUMBER}/global/networks/{VPC_NETWORK}\"\n",
    "\n",
    "CREATE_VPC = True"
   ]
  },
  {
   "cell_type": "code",
   "execution_count": 559,
   "id": "f88ca80c-0e3c-4999-8f4e-d1be21e5be14",
   "metadata": {},
   "outputs": [],
   "source": [
    "# # Remove the if condition to run the encapsulated code\n",
    "# if CREATE_VPC:\n",
    "#     # Create a VPC network\n",
    "#     ! gcloud compute networks create {VPC_NETWORK} --bgp-routing-mode=regional --subnet-mode=auto --project={PROJECT_ID}\n",
    "\n",
    "#     # Add necessary firewall rules\n",
    "#     ! gcloud compute firewall-rules create {VPC_NETWORK}-allow-icmp --network {VPC_NETWORK} --priority 65534 --project {PROJECT_ID} --allow icmp\n",
    "\n",
    "#     ! gcloud compute firewall-rules create {VPC_NETWORK}-allow-internal --network {VPC_NETWORK} --priority 65534 --project {PROJECT_ID} --allow all --source-ranges 10.128.0.0/9\n",
    "\n",
    "#     ! gcloud compute firewall-rules create {VPC_NETWORK}-allow-rdp --network {VPC_NETWORK} --priority 65534 --project {PROJECT_ID} --allow tcp:3389\n",
    "\n",
    "#     ! gcloud compute firewall-rules create {VPC_NETWORK}-allow-ssh --network {VPC_NETWORK} --priority 65534 --project {PROJECT_ID} --allow tcp:22\n",
    "\n",
    "#     # Reserve IP range\n",
    "#     ! gcloud compute addresses create {PEERING_RANGE_NAME} --global --prefix-length=16 --network={VPC_NETWORK} --purpose=VPC_PEERING --project={PROJECT_ID} --description=\"peering range\"\n",
    "\n",
    "#     # Set up peering with service networking\n",
    "#     # Your account must have the \"Compute Network Admin\" role to run the following.\n",
    "#     ! gcloud services vpc-peerings connect --service=servicenetworking.googleapis.com --network={VPC_NETWORK} --ranges={PEERING_RANGE_NAME} --project={PROJECT_ID}"
   ]
  },
  {
   "cell_type": "code",
   "execution_count": 560,
   "id": "69c717a7-9ff3-4d90-8b2b-3638d001f093",
   "metadata": {},
   "outputs": [
    {
     "name": "stdout",
     "output_type": "stream",
     "text": [
      "Creating MatchingEngineIndex\n",
      "Create MatchingEngineIndex backing LRO: projects/801452371447/locations/us-central1/indexes/280810871687479296/operations/5901294341833359360\n",
      "MatchingEngineIndex created. Resource name: projects/801452371447/locations/us-central1/indexes/280810871687479296\n",
      "To use this MatchingEngineIndex in another session:\n",
      "index = aiplatform.MatchingEngineIndex('projects/801452371447/locations/us-central1/indexes/280810871687479296')\n"
     ]
    }
   ],
   "source": [
    "my_index = aiplatform.MatchingEngineIndex.create_brute_force_index(\n",
    "    display_name=DISPLAY_NAME,\n",
    "    contents_delta_uri=EMBEDDING_DIR,\n",
    "    dimensions=DIMENSIONS,\n",
    "    # approximate_neighbors_count=150,\n",
    "    distance_measure_type=\"DOT_PRODUCT_DISTANCE\",\n",
    ")"
   ]
  },
  {
   "cell_type": "code",
   "execution_count": 561,
   "id": "da770c38-cab7-4e6d-b2ec-19e22881cbf1",
   "metadata": {},
   "outputs": [],
   "source": [
    "my_index = aiplatform.MatchingEngineIndex('projects/801452371447/locations/us-central1/indexes/280810871687479296')\n"
   ]
  },
  {
   "cell_type": "code",
   "execution_count": null,
   "id": "026c1e1a-eb7b-41c6-a2b1-68af229564cf",
   "metadata": {},
   "outputs": [],
   "source": []
  }
 ],
 "metadata": {
  "environment": {
   "kernel": "conda-env-pytorch-pytorch",
   "name": "workbench-notebooks.m113",
   "type": "gcloud",
   "uri": "gcr.io/deeplearning-platform-release/workbench-notebooks:m113"
  },
  "kernelspec": {
   "display_name": "PyTorch 1-13 (Local)",
   "language": "python",
   "name": "conda-env-pytorch-pytorch"
  },
  "language_info": {
   "codemirror_mode": {
    "name": "ipython",
    "version": 3
   },
   "file_extension": ".py",
   "mimetype": "text/x-python",
   "name": "python",
   "nbconvert_exporter": "python",
   "pygments_lexer": "ipython3",
   "version": "3.10.13"
  }
 },
 "nbformat": 4,
 "nbformat_minor": 5
}
